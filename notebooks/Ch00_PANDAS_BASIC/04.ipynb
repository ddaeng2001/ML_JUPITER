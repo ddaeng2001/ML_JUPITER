{
 "cells": [
  {
   "cell_type": "code",
   "execution_count": null,
   "id": "43c364b2-debc-42bc-8ec8-ae7576b8e4cc",
   "metadata": {},
   "outputs": [],
   "source": [
    "# 자료형 변환"
   ]
  },
  {
   "cell_type": "code",
   "execution_count": 1,
   "id": "35677611-b198-4806-a438-a4a58c06846b",
   "metadata": {},
   "outputs": [
    {
     "name": "stdout",
     "output_type": "stream",
     "text": [
      "<class 'pandas.core.frame.DataFrame'>\n",
      "RangeIndex: 7 entries, 0 to 6\n",
      "Data columns (total 3 columns):\n",
      " #   Column  Non-Null Count  Dtype  \n",
      "---  ------  --------------  -----  \n",
      " 0   메뉴      7 non-null      object \n",
      " 1   가격      7 non-null      float64\n",
      " 2   칼로리     7 non-null      object \n",
      "dtypes: float64(1), object(2)\n",
      "memory usage: 300.0+ bytes\n"
     ]
    }
   ],
   "source": [
    "# 데이터 준비\n",
    "import pandas as pd\n",
    "data = {\n",
    "    \"메뉴\": ['아메리카노', '카페라떼', '카페모카', '카푸치노', '에스프레소', '밀크티', '녹차'],\n",
    "    \"가격\": [4500.0, 5000.0, 5500.0, 5000.0, 4000.0, 5900.0, 5300.0],   # float\n",
    "    \"칼로리\": ['10', '110', '250', '110', '20', '210', '0']             # 문자열\n",
    "}\n",
    "df = pd.DataFrame(data)\n",
    "df.info()"
   ]
  },
  {
   "cell_type": "code",
   "execution_count": 2,
   "id": "76ee23cb-2857-4fc2-9934-5c0a467f0fbd",
   "metadata": {},
   "outputs": [
    {
     "name": "stdout",
     "output_type": "stream",
     "text": [
      "<class 'pandas.core.frame.DataFrame'>\n",
      "RangeIndex: 7 entries, 0 to 6\n",
      "Data columns (total 3 columns):\n",
      " #   Column  Non-Null Count  Dtype \n",
      "---  ------  --------------  ----- \n",
      " 0   메뉴      7 non-null      object\n",
      " 1   가격      7 non-null      int64 \n",
      " 2   칼로리     7 non-null      object\n",
      "dtypes: int64(1), object(2)\n",
      "memory usage: 300.0+ bytes\n"
     ]
    }
   ],
   "source": [
    "df['가격'] = df['가격'].astype('int')\n",
    "df.info()"
   ]
  },
  {
   "cell_type": "code",
   "execution_count": 3,
   "id": "99780a25-d165-44f8-a363-5989d6727b4d",
   "metadata": {},
   "outputs": [
    {
     "name": "stdout",
     "output_type": "stream",
     "text": [
      "<class 'pandas.core.frame.DataFrame'>\n",
      "RangeIndex: 7 entries, 0 to 6\n",
      "Data columns (total 3 columns):\n",
      " #   Column  Non-Null Count  Dtype  \n",
      "---  ------  --------------  -----  \n",
      " 0   메뉴      7 non-null      object \n",
      " 1   가격      7 non-null      int64  \n",
      " 2   칼로리     7 non-null      float64\n",
      "dtypes: float64(1), int64(1), object(1)\n",
      "memory usage: 300.0+ bytes\n"
     ]
    }
   ],
   "source": [
    "df['칼로리'] = df['칼로리'].astype('float')\n",
    "df.info()"
   ]
  },
  {
   "cell_type": "code",
   "execution_count": null,
   "id": "69165947-1fb3-49c2-9e85-30f957f55421",
   "metadata": {},
   "outputs": [],
   "source": []
  }
 ],
 "metadata": {
  "kernelspec": {
   "display_name": "Python 3 (ipykernel)",
   "language": "python",
   "name": "python3"
  },
  "language_info": {
   "codemirror_mode": {
    "name": "ipython",
    "version": 3
   },
   "file_extension": ".py",
   "mimetype": "text/x-python",
   "name": "python",
   "nbconvert_exporter": "python",
   "pygments_lexer": "ipython3",
   "version": "3.11.6"
  }
 },
 "nbformat": 4,
 "nbformat_minor": 5
}
