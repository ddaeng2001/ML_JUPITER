{
 "cells": [
  {
   "cell_type": "code",
   "execution_count": 1,
   "id": "922ce801-878c-41e3-8e67-d17ed74b5a87",
   "metadata": {},
   "outputs": [],
   "source": [
    "import pandas as pd\n",
    "\n",
    "data = {\n",
    "    '키': [150, 160, 170, 175, 165, 155, 172, 168, 174, 158,\n",
    "          162, 173, 156, 159, 167, 163, 171, 169, 176, 161],\n",
    "    '몸무게': [42, 50, 70, 64, 56, 48, 68, 60, 65, 52,\n",
    "            54, 67, 49, 51, 58, 55, 69, 61, 66, 53]\n",
    "}\n",
    "df = pd.DataFrame(data)"
   ]
  },
  {
   "cell_type": "code",
   "execution_count": 2,
   "id": "4151e539-76b4-4da4-acb9-9c02fb66b0c0",
   "metadata": {},
   "outputs": [
    {
     "name": "stdout",
     "output_type": "stream",
     "text": [
      "                            OLS Regression Results                            \n",
      "==============================================================================\n",
      "Dep. Variable:                      키   R-squared:                       0.892\n",
      "Model:                            OLS   Adj. R-squared:                  0.886\n",
      "Method:                 Least Squares   F-statistic:                     148.0\n",
      "Date:                Fri, 17 Oct 2025   Prob (F-statistic):           4.04e-10\n",
      "Time:                        01:21:01   Log-Likelihood:                -45.761\n",
      "No. Observations:                  20   AIC:                             95.52\n",
      "Df Residuals:                      18   BIC:                             97.51\n",
      "Df Model:                           1                                         \n",
      "Covariance Type:            nonrobust                                         \n",
      "==============================================================================\n",
      "                 coef    std err          t      P>|t|      [0.025      0.975]\n",
      "------------------------------------------------------------------------------\n",
      "Intercept    115.0676      4.158     27.671      0.000     106.331     123.804\n",
      "몸무게            0.8658      0.071     12.167      0.000       0.716       1.015\n",
      "==============================================================================\n",
      "Omnibus:                        0.985   Durbin-Watson:                   2.609\n",
      "Prob(Omnibus):                  0.611   Jarque-Bera (JB):                0.336\n",
      "Skew:                          -0.315   Prob(JB):                        0.845\n",
      "Kurtosis:                       3.082   Cond. No.                         432.\n",
      "==============================================================================\n",
      "\n",
      "Notes:\n",
      "[1] Standard Errors assume that the covariance matrix of the errors is correctly specified.\n"
     ]
    }
   ],
   "source": [
    "from statsmodels.formula.api import ols\n",
    "model = ols('키 ~ 몸무게', data=df).fit() # '키'를 '몸무게'로부터 예측하겠다\n",
    "print(model.summary())\n",
    "\n",
    "## 1. OLS란?\n",
    "# OLS는 **최소제곱법(Ordinary Least Squares)** 으로,  \n",
    "# **데이터의 실제값과 예측값의 차이(잔차)** 의 제곱합이 최소가 되도록  \n",
    "# **회귀선(선형식)** 을 찾는 통계적 방법이다.\n",
    "    "
   ]
  },
  {
   "cell_type": "code",
   "execution_count": null,
   "id": "48505f9f-f489-473d-aa8f-6fa4381b7b96",
   "metadata": {},
   "outputs": [],
   "source": [
    "# ======================= 회귀분석 주요 지표 설명 =======================\n",
    "\n",
    "# ① coef (회귀계수)\n",
    "# → 독립변수가 1단위 증가할 때 종속변수가 얼마나 변하는지를 의미함.\n",
    "# 예: coef = 0.8658 → 몸무게가 1 증가할 때 키가 평균 0.8658 증가한다는 뜻.\n",
    "\n",
    "# ② std err (표준오차, Standard Error)\n",
    "# → 추정된 회귀계수(coef)가 얼마나 불확실한지를 보여주는 값.\n",
    "# → 값이 작을수록 추정이 안정적이고, 계수가 신뢰할 만함을 의미함.\n",
    "\n",
    "# ③ t (t-통계량)\n",
    "# → 회귀계수가 ‘0이 아니다’라는 가설을 검증하는 통계량.\n",
    "# → t값 = coef / std err 로 계산됨.\n",
    "# → 절댓값이 클수록 독립변수가 종속변수에 유의미한 영향을 미친다는 뜻.\n",
    "\n",
    "# ④ P>|t| (p값, 유의확률)\n",
    "# → t검정의 p값. \"이 변수가 실제로 영향이 없을 확률\"을 의미함.\n",
    "# → p < 0.05 → 통계적으로 유의함 (즉, 실제로 영향이 있다).\n",
    "# → p ≥ 0.05 → 통계적으로 유의하지 않음 (영향이 없을 가능성 큼).\n",
    "\n",
    "# ⑤ [0.025  0.975] (95% 신뢰구간)\n",
    "# → 회귀계수(coef)가 95% 확률로 포함될 범위.\n",
    "# → 예: [0.716, 1.015] → 계수는 0.716~1.015 사이일 가능성이 95%.\n",
    "# → 이 구간에 0이 포함되지 않으면, 그 변수는 유의하다고 볼 수 있음.\n",
    "\n",
    "# ======================= 한 줄 요약 =======================\n",
    "# coef : 영향의 크기(기울기)\n",
    "# std err : 계수의 불확실성\n",
    "# t : 영향의 통계적 강도\n",
    "# P>|t| : 영향의 유의성(p<0.05면 유의)\n",
    "# [0.025 0.975] : 계수가 존재할 95% 신뢰구간\n"
   ]
  },
  {
   "cell_type": "code",
   "execution_count": null,
   "id": "642914f7-7630-4668-86d8-d17ab463123d",
   "metadata": {},
   "outputs": [],
   "source": [
    "# ======================= 회귀분석 주요 지표 설명 =======================\n",
    "\n",
    "# ① coef (회귀계수)\n",
    "# → 독립변수가 1단위 증가할 때 종속변수가 얼마나 변하는지를 의미함.\n",
    "# 예: coef = 0.8658 → 몸무게가 1 증가할 때 키가 평균 0.8658 증가한다는 뜻.\n",
    "\n",
    "# ② std err (표준오차, Standard Error)\n",
    "# → 추정된 회귀계수(coef)가 얼마나 불확실한지를 보여주는 값.\n",
    "# → 값이 작을수록 추정이 안정적이고, 계수가 신뢰할 만함을 의미함.\n",
    "\n",
    "# ③ t (t-통계량)\n",
    "# → 회귀계수가 ‘0이 아니다’라는 가설을 검증하는 통계량.\n",
    "# → t값 = coef / std err 로 계산됨.\n",
    "# → 절댓값이 클수록 독립변수가 종속변수에 유의미한 영향을 미친다는 뜻.\n",
    "\n",
    "# ④ P>|t| (p값, 유의확률)\n",
    "# → t검정의 p값. \"이 변수가 실제로 영향이 없을 확률\"을 의미함.\n",
    "# → p < 0.05 → 통계적으로 유의함 (즉, 실제로 영향이 있다).\n",
    "# → p ≥ 0.05 → 통계적으로 유의하지 않음 (영향이 없을 가능성 큼).\n",
    "\n",
    "# ⑤ [0.025  0.975] (95% 신뢰구간)\n",
    "# → 회귀계수(coef)가 95% 확률로 포함될 범위.\n",
    "# → 예: [0.716, 1.015] → 계수는 0.716~1.015 사이일 가능성이 95%.\n",
    "# → 이 구간에 0이 포함되지 않으면, 그 변수는 유의하다고 볼 수 있음.\n",
    "\n",
    "# ======================= 한 줄 요약 =======================\n",
    "# coef : 영향의 크기(기울기)\n",
    "# std err : 계수의 불확실성\n",
    "# t : 영향의 통계적 강도\n",
    "# P>|t| : 영향의 유의성(p<0.05면 유의)\n",
    "# [0.025 0.975] : 계수가 존재할 95% 신뢰구간\n"
   ]
  },
  {
   "cell_type": "code",
   "execution_count": null,
   "id": "0fbeae8d-b467-4121-acae-4e9a7b60c3c7",
   "metadata": {},
   "outputs": [],
   "source": []
  },
  {
   "cell_type": "code",
   "execution_count": null,
   "id": "6f0125d4-abbc-46ae-b84a-fefe5aa2332a",
   "metadata": {},
   "outputs": [],
   "source": []
  }
 ],
 "metadata": {
  "kernelspec": {
   "display_name": "Python 3 (ipykernel)",
   "language": "python",
   "name": "python3"
  },
  "language_info": {
   "codemirror_mode": {
    "name": "ipython",
    "version": 3
   },
   "file_extension": ".py",
   "mimetype": "text/x-python",
   "name": "python",
   "nbconvert_exporter": "python",
   "pygments_lexer": "ipython3",
   "version": "3.11.6"
  }
 },
 "nbformat": 4,
 "nbformat_minor": 5
}
