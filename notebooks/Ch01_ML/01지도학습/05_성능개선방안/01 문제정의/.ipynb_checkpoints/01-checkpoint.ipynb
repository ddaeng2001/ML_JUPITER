{
 "cells": [
  {
   "cell_type": "code",
   "execution_count": 1,
   "id": "4cd4894f-ffd8-4843-9b08-ceef05db9e64",
   "metadata": {},
   "outputs": [
    {
     "ename": "NameError",
     "evalue": "name 'pd' is not defined",
     "output_type": "error",
     "traceback": [
      "\u001b[0;31m---------------------------------------------------------------------------\u001b[0m",
      "\u001b[0;31mNameError\u001b[0m                                 Traceback (most recent call last)",
      "Cell \u001b[0;32mIn[1], line 11\u001b[0m\n\u001b[1;32m      1\u001b[0m \u001b[38;5;66;03m# ------------------------------------\u001b[39;00m\n\u001b[1;32m      2\u001b[0m \u001b[38;5;66;03m# 예제 1: 의료 데이터 (BMI 변수 생성)\u001b[39;00m\n\u001b[1;32m      3\u001b[0m \u001b[38;5;66;03m# ------------------------------------\u001b[39;00m\n\u001b[1;32m      4\u001b[0m data \u001b[38;5;241m=\u001b[39m {\n\u001b[1;32m      5\u001b[0m     \u001b[38;5;124m\"\u001b[39m\u001b[38;5;124mheight_cm\u001b[39m\u001b[38;5;124m\"\u001b[39m: [\u001b[38;5;241m170\u001b[39m, \u001b[38;5;241m160\u001b[39m, \u001b[38;5;241m180\u001b[39m, \u001b[38;5;241m175\u001b[39m, \u001b[38;5;241m165\u001b[39m],\n\u001b[1;32m      6\u001b[0m     \u001b[38;5;124m\"\u001b[39m\u001b[38;5;124mweight_kg\u001b[39m\u001b[38;5;124m\"\u001b[39m: [\u001b[38;5;241m70\u001b[39m, \u001b[38;5;241m60\u001b[39m, \u001b[38;5;241m90\u001b[39m, \u001b[38;5;241m80\u001b[39m, \u001b[38;5;241m55\u001b[39m],\n\u001b[0;32m   (...)\u001b[0m\n\u001b[1;32m      9\u001b[0m     \u001b[38;5;124m\"\u001b[39m\u001b[38;5;124mtarget\u001b[39m\u001b[38;5;124m\"\u001b[39m: [\u001b[38;5;241m0\u001b[39m, \u001b[38;5;241m0\u001b[39m, \u001b[38;5;241m1\u001b[39m, \u001b[38;5;241m1\u001b[39m, \u001b[38;5;241m0\u001b[39m]  \u001b[38;5;66;03m# 당뇨 여부\u001b[39;00m\n\u001b[1;32m     10\u001b[0m }\n\u001b[0;32m---> 11\u001b[0m df \u001b[38;5;241m=\u001b[39m \u001b[43mpd\u001b[49m\u001b[38;5;241m.\u001b[39mDataFrame(data)\n\u001b[1;32m     12\u001b[0m df\n\u001b[1;32m     14\u001b[0m \u001b[38;5;66;03m# 도메인 지식: BMI = 체중(kg) / (키(m)^2)\u001b[39;00m\n",
      "\u001b[0;31mNameError\u001b[0m: name 'pd' is not defined"
     ]
    }
   ],
   "source": [
    "# ------------------------------------\n",
    "# 예제 1: 의료 데이터 (BMI 변수 생성)\n",
    "# ------------------------------------\n",
    "import pandas as pd\n",
    "data = {\n",
    "    \"height_cm\": [170, 160, 180, 175, 165],\n",
    "    \"weight_kg\": [70, 60, 90, 80, 55],\n",
    "    \"glucose\": [110, 95, 150, 130, 85],\n",
    "    \"family_history\": [1, 0, 1, 1, 0],\n",
    "    \"target\": [0, 0, 1, 1, 0]  # 당뇨 여부\n",
    "}\n",
    "df = pd.DataFrame(data)\n",
    "df\n",
    "\n",
    "# 도메인 지식: BMI = 체중(kg) / (키(m)^2)\n",
    "df[\"BMI\"] = df[\"weight_kg\"] / ((df[\"height_cm\"]/100) ** 2)\n",
    "df\n",
    "\n",
    "# 여기서 BMI는 당뇨병 예측 모델에서 중요한 독립변수(feature)로 활용됨.\n",
    "\n"
   ]
  },
  {
   "cell_type": "code",
   "execution_count": null,
   "id": "5f2c6bdc-c67e-4fce-bb1c-64ab3948d220",
   "metadata": {},
   "outputs": [],
   "source": [
    "# ------------------------------------\n",
    "# \n",
    "# ------------------------------------\n",
    "import pandas as pd\n",
    "from sklearn.linear_model import LogisticRegression\n",
    "from sklearn.model_selection import train_test_split\n",
    "from sklearn.metrics import accuracy_score, f1_score, roc_auc_score\n",
    "train = pd.read_csv(\"diabetes_sample.csv\")\n",
    "train\n",
    "\n",
    "# 타깃\n",
    "y = train[\"target\"]\n",
    "\n",
    "# 1) Baseline (BMI 제외)\n",
    "X_base = train[[\"glucose\", \"family_history\"]]\n",
    "\n",
    "\n",
    "# 데이터분할\n",
    "X_train, X_test, y_train, y_test = train_test_split(\n",
    "    X_base, y, test_size=0.3, random_state=42, stratify=y\n",
    ")\n",
    "\n",
    "# 학습\n",
    "model_base = LogisticRegression(max_iter=300)\n",
    "model_base.fit(X_train, y_train)\n",
    "\n",
    "# 예측\n",
    "pred_base = model_base.predict(X_test)\n",
    "proba_base = model_base.predict_proba(X_test)[:, 1]\n",
    "\n",
    "print(\"Baseline (BMI 제외)\")\n",
    "print(\"accuracy_score :\", accuracy_score(y_test, pred_base))\n",
    "print(\"F1-score:\", f1_score(y_test, pred_base))\n",
    "print(\"AUC:\", roc_auc_score(y_test, proba_base))\n",
    "print(\"--------------------------\")\n",
    "\n",
    "\n",
    "# 2) With BMI (BMI 포함)\n",
    "X_bmi = train[[\"glucose\", \"family_history\", \"BMI\"]]\n",
    "\n",
    "X_train, X_test, y_train, y_test = train_test_split(\n",
    "    X_bmi, y, test_size=0.3, random_state=42, stratify=y\n",
    ")\n",
    "\n",
    "model_bmi = LogisticRegression(max_iter=300)\n",
    "model_bmi.fit(X_train, y_train)\n",
    "pred_bmi = model_bmi.predict(X_test)\n",
    "proba_bmi_base = model_bmi.predict_proba(X_test)[:, 1]\n",
    "\n",
    "#\n",
    "acc_bmi = accuracy_score(y_test, pred_bmi)\n",
    "\n",
    "# 3) 결과 출력\n",
    "\n",
    "print(\"BMI 포함\")\n",
    "print(\"accuracy_score :\", accuracy_score(y_test, pred_bmi))\n",
    "print(\"F1-score:\", f1_score(y_test, pred_bmi))\n",
    "print(\"AUC:\", roc_auc_score(y_test, proba_bmi_base))\n"
   ]
  },
  {
   "cell_type": "code",
   "execution_count": null,
   "id": "aad0da16-4247-49b6-a45c-733c8b93ba6a",
   "metadata": {},
   "outputs": [],
   "source": []
  }
 ],
 "metadata": {
  "kernelspec": {
   "display_name": "Python 3 (ipykernel)",
   "language": "python",
   "name": "python3"
  },
  "language_info": {
   "codemirror_mode": {
    "name": "ipython",
    "version": 3
   },
   "file_extension": ".py",
   "mimetype": "text/x-python",
   "name": "python",
   "nbconvert_exporter": "python",
   "pygments_lexer": "ipython3",
   "version": "3.11.6"
  }
 },
 "nbformat": 4,
 "nbformat_minor": 5
}
