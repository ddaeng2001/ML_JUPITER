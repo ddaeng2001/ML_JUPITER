{
 "cells": [
  {
   "cell_type": "code",
   "execution_count": 2,
   "id": "6470fea5-588a-4675-8615-d41c45b0c593",
   "metadata": {},
   "outputs": [
    {
     "name": "stdout",
     "output_type": "stream",
     "text": [
      "--- 데이터 준비 완료 ---\n"
     ]
    }
   ],
   "source": [
    "# --------------------\n",
    "# 라이브러리 및 데이터 준비\n",
    "# --------------------\n",
    "import numpy as np\n",
    "from sklearn.model_selection import KFold, cross_val_score # KFold와 성능 평가 함수\n",
    "from sklearn.linear_model import LogisticRegression # 예시 모델 (로지스틱 회귀)\n",
    "from sklearn.datasets import load_iris\n",
    "\n",
    "# Iris 데이터셋 로드\n",
    "iris = load_iris()\n",
    "X, y = iris.data, iris.target\n",
    "\n",
    "print(\"--- 데이터 준비 완료 ---\")"
   ]
  },
  {
   "cell_type": "code",
   "execution_count": 4,
   "id": "83f2179a-7856-4f71-b21f-58d1383ad3a6",
   "metadata": {},
   "outputs": [
    {
     "name": "stdout",
     "output_type": "stream",
     "text": [
      "\n",
      "--- 2단계: 5-Fold 교차 검증 점수 ---\n",
      "[1.         0.93333333 0.93333333 0.96666667 0.96666667]\n"
     ]
    },
    {
     "name": "stderr",
     "output_type": "stream",
     "text": [
      "/opt/conda/lib/python3.11/site-packages/sklearn/linear_model/_logistic.py:1296: FutureWarning: Using the 'liblinear' solver for multiclass classification is deprecated. An error will be raised in 1.8. Either use another solver which supports the multinomial loss or wrap the estimator in a OneVsRestClassifier to keep applying a one-versus-rest scheme.\n",
      "  warnings.warn(\n",
      "/opt/conda/lib/python3.11/site-packages/sklearn/linear_model/_logistic.py:1296: FutureWarning: Using the 'liblinear' solver for multiclass classification is deprecated. An error will be raised in 1.8. Either use another solver which supports the multinomial loss or wrap the estimator in a OneVsRestClassifier to keep applying a one-versus-rest scheme.\n",
      "  warnings.warn(\n",
      "/opt/conda/lib/python3.11/site-packages/sklearn/linear_model/_logistic.py:1296: FutureWarning: Using the 'liblinear' solver for multiclass classification is deprecated. An error will be raised in 1.8. Either use another solver which supports the multinomial loss or wrap the estimator in a OneVsRestClassifier to keep applying a one-versus-rest scheme.\n",
      "  warnings.warn(\n",
      "/opt/conda/lib/python3.11/site-packages/sklearn/linear_model/_logistic.py:1296: FutureWarning: Using the 'liblinear' solver for multiclass classification is deprecated. An error will be raised in 1.8. Either use another solver which supports the multinomial loss or wrap the estimator in a OneVsRestClassifier to keep applying a one-versus-rest scheme.\n",
      "  warnings.warn(\n",
      "/opt/conda/lib/python3.11/site-packages/sklearn/linear_model/_logistic.py:1296: FutureWarning: Using the 'liblinear' solver for multiclass classification is deprecated. An error will be raised in 1.8. Either use another solver which supports the multinomial loss or wrap the estimator in a OneVsRestClassifier to keep applying a one-versus-rest scheme.\n",
      "  warnings.warn(\n"
     ]
    }
   ],
   "source": [
    "# --------------------\n",
    "# 2단계: KFold 객체 정의 및 교차 검증 실행\n",
    "# --------------------\n",
    "# KFold(n_splits=5): 데이터를 5개의 Fold로 나눔 (K=5)\n",
    "# shuffle=True: 데이터를 먼저 무작위로 섞어 데이터 편향 방지\n",
    "kf = KFold(n_splits=5, shuffle=True, random_state=42)\n",
    "\n",
    "# 사용할 모델 정의\n",
    "model = LogisticRegression(solver='liblinear', random_state=42)\n",
    "\n",
    "# cross_val_score 실행: \n",
    "# - 모델(estimator)과 데이터(X, y)를 받음\n",
    "# - KFold 객체(cv=kf)에 따라 5번 학습 및 평가 진행\n",
    "# - 평가 지표(scoring='accuracy')를 사용\n",
    "cv_scores = cross_val_score(model, X, y, cv=kf, scoring='accuracy')\n",
    "\n",
    "print(\"\\n--- 2단계: 5-Fold 교차 검증 점수 ---\")\n",
    "# 5번의 반복에서 얻은 각각의 정확도 점수\n",
    "print(cv_scores)"
   ]
  },
  {
   "cell_type": "code",
   "execution_count": 5,
   "id": "6bc66aed-a02d-487d-a1b4-f2abe6693a34",
   "metadata": {},
   "outputs": [
    {
     "name": "stdout",
     "output_type": "stream",
     "text": [
      "\n",
      "--- 3단계: 최종 일반화 성능 ---\n",
      "평균 정확도 (Mean Accuracy): 0.9600\n",
      "점수의 표준 편차 (Std Dev): 0.0249\n"
     ]
    }
   ],
   "source": [
    "# --------------------\n",
    "# 3단계: 최종 성능 확인 (평균 점수)\n",
    "# --------------------\n",
    "mean_score = np.mean(cv_scores)\n",
    "std_score = np.std(cv_scores)\n",
    "\n",
    "print(f\"\\n--- 3단계: 최종 일반화 성능 ---\")\n",
    "print(f\"평균 정확도 (Mean Accuracy): {mean_score:.4f}\")\n",
    "print(f\"점수의 표준 편차 (Std Dev): {std_score:.4f}\")\n",
    "\n",
    "# 해석: 표준 편차가 낮을수록 모델의 성능이 데이터 분할에 따라 크게 변동하지 않고 안정적임을 의미합니다."
   ]
  },
  {
   "cell_type": "code",
   "execution_count": null,
   "id": "bf02d3f3-cc6b-45e9-9948-5e52dda6274e",
   "metadata": {},
   "outputs": [],
   "source": []
  }
 ],
 "metadata": {
  "kernelspec": {
   "display_name": "Python 3 (ipykernel)",
   "language": "python",
   "name": "python3"
  },
  "language_info": {
   "codemirror_mode": {
    "name": "ipython",
    "version": 3
   },
   "file_extension": ".py",
   "mimetype": "text/x-python",
   "name": "python",
   "nbconvert_exporter": "python",
   "pygments_lexer": "ipython3",
   "version": "3.11.6"
  }
 },
 "nbformat": 4,
 "nbformat_minor": 5
}
