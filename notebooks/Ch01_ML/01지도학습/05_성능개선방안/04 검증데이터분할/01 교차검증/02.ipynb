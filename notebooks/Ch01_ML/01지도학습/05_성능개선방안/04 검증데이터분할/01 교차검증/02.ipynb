{
 "cells": [
  {
   "cell_type": "code",
   "execution_count": 1,
   "id": "edabc624-83b6-4bcb-b552-9804e13adbf1",
   "metadata": {},
   "outputs": [
    {
     "name": "stdout",
     "output_type": "stream",
     "text": [
      "--- 분석에 사용될 Logit Formula: disease ~ age + bmi + smoker_1 + activity_level_1 + activity_level_2 ---\n"
     ]
    }
   ],
   "source": [
    "import pandas as pd\n",
    "import numpy as np\n",
    "from statsmodels.formula.api import logit\n",
    "from sklearn.preprocessing import StandardScaler\n",
    "from sklearn.model_selection import StratifiedKFold, cross_val_score\n",
    "from sklearn.linear_model import LogisticRegression # cross_val_score를 위해 사용\n",
    "\n",
    "# --------------------\n",
    "# 데이터 로드 및 전처리\n",
    "# --------------------\n",
    "\n",
    "# 데이터 로드\n",
    "df = pd.read_csv(\"health_survey.csv\")\n",
    "\n",
    "# 범주형 변수에 대한 원-핫 인코딩 수행\n",
    "# smoker와 activity_level을 범주형으로 처리 (drop_first=True로 다중공선성 방지)\n",
    "df_encoded = pd.get_dummies(df, columns=['smoker', 'activity_level'], drop_first=True)\n",
    "\n",
    "# 수치형 변수 스케일링 (로지스틱 회귀 모델의 안정성 확보)\n",
    "scaler = StandardScaler()\n",
    "# age와 bmi만 스케일링하고, 나머지는 그대로 둡니다.\n",
    "df_encoded[['age', 'bmi']] = scaler.fit_transform(df_encoded[['age', 'bmi']])\n",
    "\n",
    "# --------------------\n",
    "# 독립변수 식 정의 (Statsmodels formula 형식)\n",
    "# --------------------\n",
    "# 모든 인코딩된 특성을 포함하여 formula를 동적으로 생성합니다.\n",
    "features = ' + '.join(col for col in df_encoded.columns if col not in ['disease'])\n",
    "formula = f\"disease ~ {features}\"\n",
    "\n",
    "print(f\"--- 분석에 사용될 Logit Formula: {formula} ---\")"
   ]
  },
  {
   "cell_type": "code",
   "execution_count": 2,
   "id": "a5bdcd0a-1994-4aeb-9e23-d17e0f85447f",
   "metadata": {},
   "outputs": [
    {
     "name": "stdout",
     "output_type": "stream",
     "text": [
      "\n",
      "\n",
      "#####################################################\n",
      "## 1. 교차 검증 전 (단일 모델 학습 및 해석)\n",
      "#####################################################\n",
      "Optimization terminated successfully.\n",
      "         Current function value: 0.636888\n",
      "         Iterations 5\n",
      "\n",
      "--- [1] Logit Regression Summary Table ---\n",
      "                           Logit Regression Results                           \n",
      "==============================================================================\n",
      "Dep. Variable:                disease   No. Observations:                 1000\n",
      "Model:                          Logit   Df Residuals:                      994\n",
      "Method:                           MLE   Df Model:                            5\n",
      "Date:                Fri, 17 Oct 2025   Pseudo R-squ.:                 0.06005\n",
      "Time:                        01:07:31   Log-Likelihood:                -636.89\n",
      "converged:                       True   LL-Null:                       -677.58\n",
      "Covariance Type:            nonrobust   LLR p-value:                 4.313e-16\n",
      "============================================================================================\n",
      "                               coef    std err          z      P>|z|      [0.025      0.975]\n",
      "--------------------------------------------------------------------------------------------\n",
      "Intercept                    0.5585      0.122      4.571      0.000       0.319       0.798\n",
      "smoker_1[T.True]             0.3138      0.149      2.106      0.035       0.022       0.606\n",
      "activity_level_1[T.True]    -0.3461      0.164     -2.112      0.035      -0.667      -0.025\n",
      "activity_level_2[T.True]    -0.4765      0.164     -2.913      0.004      -0.797      -0.156\n",
      "age                          0.3278      0.068      4.833      0.000       0.195       0.461\n",
      "bmi                          0.4444      0.070      6.393      0.000       0.308       0.581\n",
      "============================================================================================\n",
      "\n",
      "--- [2] 회귀 계수와 오즈비 (Odds Ratio) ---\n"
     ]
    },
    {
     "ename": "KeyError",
     "evalue": "\"['smoker_1', 'activity_level_1', 'activity_level_2'] not in index\"",
     "output_type": "error",
     "traceback": [
      "\u001b[0;31m---------------------------------------------------------------------------\u001b[0m",
      "\u001b[0;31mKeyError\u001b[0m                                  Traceback (most recent call last)",
      "Cell \u001b[0;32mIn[2], line 26\u001b[0m\n\u001b[1;32m     21\u001b[0m odds_ratio_table \u001b[38;5;241m=\u001b[39m pd\u001b[38;5;241m.\u001b[39mDataFrame({\n\u001b[1;32m     22\u001b[0m     \u001b[38;5;124m'\u001b[39m\u001b[38;5;124mCoef. (회귀 계수)\u001b[39m\u001b[38;5;124m'\u001b[39m: model_single_fit\u001b[38;5;241m.\u001b[39mparams,\n\u001b[1;32m     23\u001b[0m     \u001b[38;5;124m'\u001b[39m\u001b[38;5;124mOdds Ratio (오즈비)\u001b[39m\u001b[38;5;124m'\u001b[39m: odds_ratios\n\u001b[1;32m     24\u001b[0m })\n\u001b[1;32m     25\u001b[0m \u001b[38;5;66;03m# BMI와 흡연 여부(smoker_1)만 출력\u001b[39;00m\n\u001b[0;32m---> 26\u001b[0m \u001b[38;5;28mprint\u001b[39m(\u001b[43modds_ratio_table\u001b[49m\u001b[38;5;241;43m.\u001b[39;49m\u001b[43mloc\u001b[49m\u001b[43m[\u001b[49m\u001b[43m[\u001b[49m\u001b[38;5;124;43m'\u001b[39;49m\u001b[38;5;124;43mbmi\u001b[39;49m\u001b[38;5;124;43m'\u001b[39;49m\u001b[43m,\u001b[49m\u001b[43m \u001b[49m\u001b[38;5;124;43m'\u001b[39;49m\u001b[38;5;124;43msmoker_1\u001b[39;49m\u001b[38;5;124;43m'\u001b[39;49m\u001b[43m,\u001b[49m\u001b[43m \u001b[49m\u001b[38;5;124;43m'\u001b[39;49m\u001b[38;5;124;43mactivity_level_1\u001b[39;49m\u001b[38;5;124;43m'\u001b[39;49m\u001b[43m,\u001b[49m\u001b[43m \u001b[49m\u001b[38;5;124;43m'\u001b[39;49m\u001b[38;5;124;43mactivity_level_2\u001b[39;49m\u001b[38;5;124;43m'\u001b[39;49m\u001b[43m]\u001b[49m\u001b[43m]\u001b[49m)\n\u001b[1;32m     28\u001b[0m \u001b[38;5;66;03m# 오즈비 값 해석 예시\u001b[39;00m\n\u001b[1;32m     29\u001b[0m \u001b[38;5;28mprint\u001b[39m(\u001b[38;5;124m\"\u001b[39m\u001b[38;5;130;01m\\n\u001b[39;00m\u001b[38;5;124m[오즈비 해석: OR > 1 이면 질병 발생 가능성 증가]\u001b[39m\u001b[38;5;124m\"\u001b[39m)\n",
      "File \u001b[0;32m/opt/conda/lib/python3.11/site-packages/pandas/core/indexing.py:1153\u001b[0m, in \u001b[0;36m_LocationIndexer.__getitem__\u001b[0;34m(self, key)\u001b[0m\n\u001b[1;32m   1150\u001b[0m axis \u001b[38;5;241m=\u001b[39m \u001b[38;5;28mself\u001b[39m\u001b[38;5;241m.\u001b[39maxis \u001b[38;5;129;01mor\u001b[39;00m \u001b[38;5;241m0\u001b[39m\n\u001b[1;32m   1152\u001b[0m maybe_callable \u001b[38;5;241m=\u001b[39m com\u001b[38;5;241m.\u001b[39mapply_if_callable(key, \u001b[38;5;28mself\u001b[39m\u001b[38;5;241m.\u001b[39mobj)\n\u001b[0;32m-> 1153\u001b[0m \u001b[38;5;28;01mreturn\u001b[39;00m \u001b[38;5;28;43mself\u001b[39;49m\u001b[38;5;241;43m.\u001b[39;49m\u001b[43m_getitem_axis\u001b[49m\u001b[43m(\u001b[49m\u001b[43mmaybe_callable\u001b[49m\u001b[43m,\u001b[49m\u001b[43m \u001b[49m\u001b[43maxis\u001b[49m\u001b[38;5;241;43m=\u001b[39;49m\u001b[43maxis\u001b[49m\u001b[43m)\u001b[49m\n",
      "File \u001b[0;32m/opt/conda/lib/python3.11/site-packages/pandas/core/indexing.py:1382\u001b[0m, in \u001b[0;36m_LocIndexer._getitem_axis\u001b[0;34m(self, key, axis)\u001b[0m\n\u001b[1;32m   1379\u001b[0m     \u001b[38;5;28;01mif\u001b[39;00m \u001b[38;5;28mhasattr\u001b[39m(key, \u001b[38;5;124m\"\u001b[39m\u001b[38;5;124mndim\u001b[39m\u001b[38;5;124m\"\u001b[39m) \u001b[38;5;129;01mand\u001b[39;00m key\u001b[38;5;241m.\u001b[39mndim \u001b[38;5;241m>\u001b[39m \u001b[38;5;241m1\u001b[39m:\n\u001b[1;32m   1380\u001b[0m         \u001b[38;5;28;01mraise\u001b[39;00m \u001b[38;5;167;01mValueError\u001b[39;00m(\u001b[38;5;124m\"\u001b[39m\u001b[38;5;124mCannot index with multidimensional key\u001b[39m\u001b[38;5;124m\"\u001b[39m)\n\u001b[0;32m-> 1382\u001b[0m     \u001b[38;5;28;01mreturn\u001b[39;00m \u001b[38;5;28;43mself\u001b[39;49m\u001b[38;5;241;43m.\u001b[39;49m\u001b[43m_getitem_iterable\u001b[49m\u001b[43m(\u001b[49m\u001b[43mkey\u001b[49m\u001b[43m,\u001b[49m\u001b[43m \u001b[49m\u001b[43maxis\u001b[49m\u001b[38;5;241;43m=\u001b[39;49m\u001b[43maxis\u001b[49m\u001b[43m)\u001b[49m\n\u001b[1;32m   1384\u001b[0m \u001b[38;5;66;03m# nested tuple slicing\u001b[39;00m\n\u001b[1;32m   1385\u001b[0m \u001b[38;5;28;01mif\u001b[39;00m is_nested_tuple(key, labels):\n",
      "File \u001b[0;32m/opt/conda/lib/python3.11/site-packages/pandas/core/indexing.py:1322\u001b[0m, in \u001b[0;36m_LocIndexer._getitem_iterable\u001b[0;34m(self, key, axis)\u001b[0m\n\u001b[1;32m   1319\u001b[0m \u001b[38;5;28mself\u001b[39m\u001b[38;5;241m.\u001b[39m_validate_key(key, axis)\n\u001b[1;32m   1321\u001b[0m \u001b[38;5;66;03m# A collection of keys\u001b[39;00m\n\u001b[0;32m-> 1322\u001b[0m keyarr, indexer \u001b[38;5;241m=\u001b[39m \u001b[38;5;28;43mself\u001b[39;49m\u001b[38;5;241;43m.\u001b[39;49m\u001b[43m_get_listlike_indexer\u001b[49m\u001b[43m(\u001b[49m\u001b[43mkey\u001b[49m\u001b[43m,\u001b[49m\u001b[43m \u001b[49m\u001b[43maxis\u001b[49m\u001b[43m)\u001b[49m\n\u001b[1;32m   1323\u001b[0m \u001b[38;5;28;01mreturn\u001b[39;00m \u001b[38;5;28mself\u001b[39m\u001b[38;5;241m.\u001b[39mobj\u001b[38;5;241m.\u001b[39m_reindex_with_indexers(\n\u001b[1;32m   1324\u001b[0m     {axis: [keyarr, indexer]}, copy\u001b[38;5;241m=\u001b[39m\u001b[38;5;28;01mTrue\u001b[39;00m, allow_dups\u001b[38;5;241m=\u001b[39m\u001b[38;5;28;01mTrue\u001b[39;00m\n\u001b[1;32m   1325\u001b[0m )\n",
      "File \u001b[0;32m/opt/conda/lib/python3.11/site-packages/pandas/core/indexing.py:1520\u001b[0m, in \u001b[0;36m_LocIndexer._get_listlike_indexer\u001b[0;34m(self, key, axis)\u001b[0m\n\u001b[1;32m   1517\u001b[0m ax \u001b[38;5;241m=\u001b[39m \u001b[38;5;28mself\u001b[39m\u001b[38;5;241m.\u001b[39mobj\u001b[38;5;241m.\u001b[39m_get_axis(axis)\n\u001b[1;32m   1518\u001b[0m axis_name \u001b[38;5;241m=\u001b[39m \u001b[38;5;28mself\u001b[39m\u001b[38;5;241m.\u001b[39mobj\u001b[38;5;241m.\u001b[39m_get_axis_name(axis)\n\u001b[0;32m-> 1520\u001b[0m keyarr, indexer \u001b[38;5;241m=\u001b[39m \u001b[43max\u001b[49m\u001b[38;5;241;43m.\u001b[39;49m\u001b[43m_get_indexer_strict\u001b[49m\u001b[43m(\u001b[49m\u001b[43mkey\u001b[49m\u001b[43m,\u001b[49m\u001b[43m \u001b[49m\u001b[43maxis_name\u001b[49m\u001b[43m)\u001b[49m\n\u001b[1;32m   1522\u001b[0m \u001b[38;5;28;01mreturn\u001b[39;00m keyarr, indexer\n",
      "File \u001b[0;32m/opt/conda/lib/python3.11/site-packages/pandas/core/indexes/base.py:6114\u001b[0m, in \u001b[0;36mIndex._get_indexer_strict\u001b[0;34m(self, key, axis_name)\u001b[0m\n\u001b[1;32m   6111\u001b[0m \u001b[38;5;28;01melse\u001b[39;00m:\n\u001b[1;32m   6112\u001b[0m     keyarr, indexer, new_indexer \u001b[38;5;241m=\u001b[39m \u001b[38;5;28mself\u001b[39m\u001b[38;5;241m.\u001b[39m_reindex_non_unique(keyarr)\n\u001b[0;32m-> 6114\u001b[0m \u001b[38;5;28;43mself\u001b[39;49m\u001b[38;5;241;43m.\u001b[39;49m\u001b[43m_raise_if_missing\u001b[49m\u001b[43m(\u001b[49m\u001b[43mkeyarr\u001b[49m\u001b[43m,\u001b[49m\u001b[43m \u001b[49m\u001b[43mindexer\u001b[49m\u001b[43m,\u001b[49m\u001b[43m \u001b[49m\u001b[43maxis_name\u001b[49m\u001b[43m)\u001b[49m\n\u001b[1;32m   6116\u001b[0m keyarr \u001b[38;5;241m=\u001b[39m \u001b[38;5;28mself\u001b[39m\u001b[38;5;241m.\u001b[39mtake(indexer)\n\u001b[1;32m   6117\u001b[0m \u001b[38;5;28;01mif\u001b[39;00m \u001b[38;5;28misinstance\u001b[39m(key, Index):\n\u001b[1;32m   6118\u001b[0m     \u001b[38;5;66;03m# GH 42790 - Preserve name from an Index\u001b[39;00m\n",
      "File \u001b[0;32m/opt/conda/lib/python3.11/site-packages/pandas/core/indexes/base.py:6178\u001b[0m, in \u001b[0;36mIndex._raise_if_missing\u001b[0;34m(self, key, indexer, axis_name)\u001b[0m\n\u001b[1;32m   6175\u001b[0m     \u001b[38;5;28;01mraise\u001b[39;00m \u001b[38;5;167;01mKeyError\u001b[39;00m(\u001b[38;5;124mf\u001b[39m\u001b[38;5;124m\"\u001b[39m\u001b[38;5;124mNone of [\u001b[39m\u001b[38;5;132;01m{\u001b[39;00mkey\u001b[38;5;132;01m}\u001b[39;00m\u001b[38;5;124m] are in the [\u001b[39m\u001b[38;5;132;01m{\u001b[39;00maxis_name\u001b[38;5;132;01m}\u001b[39;00m\u001b[38;5;124m]\u001b[39m\u001b[38;5;124m\"\u001b[39m)\n\u001b[1;32m   6177\u001b[0m not_found \u001b[38;5;241m=\u001b[39m \u001b[38;5;28mlist\u001b[39m(ensure_index(key)[missing_mask\u001b[38;5;241m.\u001b[39mnonzero()[\u001b[38;5;241m0\u001b[39m]]\u001b[38;5;241m.\u001b[39munique())\n\u001b[0;32m-> 6178\u001b[0m \u001b[38;5;28;01mraise\u001b[39;00m \u001b[38;5;167;01mKeyError\u001b[39;00m(\u001b[38;5;124mf\u001b[39m\u001b[38;5;124m\"\u001b[39m\u001b[38;5;132;01m{\u001b[39;00mnot_found\u001b[38;5;132;01m}\u001b[39;00m\u001b[38;5;124m not in index\u001b[39m\u001b[38;5;124m\"\u001b[39m)\n",
      "\u001b[0;31mKeyError\u001b[0m: \"['smoker_1', 'activity_level_1', 'activity_level_2'] not in index\""
     ]
    }
   ],
   "source": [
    "#교차검증 전 코드\n",
    "# --------------------\n",
    "# 1) 교차 검증 전 코드 (단일 학습 및 통계 해석)\n",
    "# --------------------\n",
    "\n",
    "print(\"\\n\\n#####################################################\")\n",
    "print(\"## 1. 교차 검증 전 (단일 모델 학습 및 해석)\")\n",
    "print(\"#####################################################\")\n",
    "\n",
    "# 1단계: Statsmodels Logit 모델 학습\n",
    "model_single_fit = logit(formula, data=df_encoded).fit()\n",
    "\n",
    "# 2단계: 결과 요약 출력 (OLS와 유사한 표 형태)\n",
    "print(\"\\n--- [1] Logit Regression Summary Table ---\")\n",
    "print(model_single_fit.summary())\n",
    "\n",
    "# 3단계: 오즈비 (Odds Ratio) 확인\n",
    "# 해석의 편의성을 위해 가장 중요한 특성(BMI)과 나머지 특성들을 출력\n",
    "print(\"\\n--- [2] 회귀 계수와 오즈비 (Odds Ratio) ---\")\n",
    "odds_ratios = np.exp(model_single_fit.params)\n",
    "odds_ratio_table = pd.DataFrame({\n",
    "    'Coef. (회귀 계수)': model_single_fit.params,\n",
    "    'Odds Ratio (오즈비)': odds_ratios\n",
    "})\n",
    "# BMI와 흡연 여부(smoker_1)만 출력\n",
    "print(odds_ratio_table.loc[['bmi', 'smoker_1', 'activity_level_1', 'activity_level_2']])\n",
    "\n",
    "# 오즈비 값 해석 예시\n",
    "print(\"\\n[오즈비 해석: OR > 1 이면 질병 발생 가능성 증가]\")\n",
    "print(f\"BMI OR: {np.exp(model_single_fit.params['bmi']):.4f}\")"
   ]
  },
  {
   "cell_type": "code",
   "execution_count": 3,
   "id": "089e8412-998b-4727-8db8-1641c69d4014",
   "metadata": {},
   "outputs": [
    {
     "name": "stdout",
     "output_type": "stream",
     "text": [
      "\n",
      "\n",
      "#####################################################\n",
      "## 2. 교차 검증 후 (일반화 성능 평가)\n",
      "#####################################################\n",
      "\n",
      "--- K-Fold 교차 검증 (5-Fold) 결과 ---\n",
      "각 Fold의 정확도: [0.575 0.65  0.61  0.63  0.6  ]\n",
      "교차 검증 평균 정확도: 0.6130\n",
      "정확도 표준 편차: 0.0256\n"
     ]
    }
   ],
   "source": [
    "# --------------------\n",
    "# 2) 교차 검증 후 코드 (K-Fold를 통한 일반화 성능 평가)\n",
    "# --------------------\n",
    "\n",
    "print(\"\\n\\n#####################################################\")\n",
    "print(\"## 2. 교차 검증 후 (일반화 성능 평가)\")\n",
    "print(\"#####################################################\")\n",
    "\n",
    "# 종속변수/독립변수를 Scikit-learn 형식으로 준비\n",
    "y = df_encoded['disease']\n",
    "X = df_encoded.drop('disease', axis=1)\n",
    "\n",
    "# 1단계: Stratified K-Fold 설정 (K=5)\n",
    "# 분류 문제이므로 클래스 비율을 유지하는 StratifiedKFold 사용\n",
    "skf = StratifiedKFold(n_splits=5, shuffle=True, random_state=42)\n",
    "\n",
    "# 2단계: Scikit-learn 로지스틱 회귀 모델 정의\n",
    "model_cv = LogisticRegression(random_state=42)\n",
    "\n",
    "# 3단계: cross_val_score 함수로 교차 검증 실행\n",
    "cv_scores = cross_val_score(\n",
    "    model_cv,       # Scikit-learn 모델\n",
    "    X, y,           # 전체 데이터\n",
    "    cv=skf,         # K-Fold 설정\n",
    "    scoring='accuracy', # 평가 지표\n",
    "    n_jobs=-1\n",
    ")\n",
    "\n",
    "# 4단계: 최종 결과 출력\n",
    "mean_cv_accuracy = cv_scores.mean()\n",
    "std_cv_accuracy = cv_scores.std()\n",
    "\n",
    "print(\"\\n--- K-Fold 교차 검증 (5-Fold) 결과 ---\")\n",
    "print(f\"각 Fold의 정확도: {cv_scores}\")\n",
    "print(f\"교차 검증 평균 정확도: {mean_cv_accuracy:.4f}\")\n",
    "print(f\"정확도 표준 편차: {std_cv_accuracy:.4f}\")\n",
    "\n",
    "# 해석: 이 평균 정확도 값은 모델이 새로운 데이터에 대해 기대할 수 있는 성능을 객관적으로 나타냅니다."
   ]
  },
  {
   "cell_type": "code",
   "execution_count": null,
   "id": "c963af6d-8b2d-4037-8bed-0841bba2c397",
   "metadata": {},
   "outputs": [],
   "source": []
  }
 ],
 "metadata": {
  "kernelspec": {
   "display_name": "Python 3 (ipykernel)",
   "language": "python",
   "name": "python3"
  },
  "language_info": {
   "codemirror_mode": {
    "name": "ipython",
    "version": 3
   },
   "file_extension": ".py",
   "mimetype": "text/x-python",
   "name": "python",
   "nbconvert_exporter": "python",
   "pygments_lexer": "ipython3",
   "version": "3.11.6"
  }
 },
 "nbformat": 4,
 "nbformat_minor": 5
}
