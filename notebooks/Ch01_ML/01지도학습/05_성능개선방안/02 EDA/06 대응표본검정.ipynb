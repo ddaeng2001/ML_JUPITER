{
 "cells": [
  {
   "cell_type": "markdown",
   "id": "4c5e741b-0466-4cc6-b524-9d9561fa53b6",
   "metadata": {},
   "source": [
    "# 대응 표본 검정"
   ]
  },
  {
   "cell_type": "code",
   "execution_count": 11,
   "id": "468177a0-6175-43a5-bb91-970e1907aece",
   "metadata": {},
   "outputs": [],
   "source": [
    "# 같은 집단(한 컬럼)에서 2번 이상 측정된 데이터의 평균의 차이를 비교할때 사용됨\n",
    "# 시간이 지남에 따라서 전과 후가 차이가 있는지 확인 가능\n",
    "\n",
    "# -----------------------------------------------------------------------------\n",
    "# 2. 대응 표본검정\n",
    "# -----------------------------------------------------------------------------\n",
    "# 대응표본 t검정(paired t-test) 은\n",
    "# 같은 집단에서 두 번 이상 측정된 데이터의 평균 차이를 비교할 때 사용하는 검정\n",
    "\n",
    "# 즉,\n",
    "\n",
    "# “같은 사람(또는 같은 대상)에게 두 번 측정한 값이 통계적으로 달라졌는가?”\n",
    "# 를 확인하는 검정입니다.\n",
    "\n",
    "# 2. 예시로 이해하기\n",
    "# | 예시 상황                       | 설명                                     |\n",
    "# | --------------------           | -------------------------------------- |\n",
    "# | **다이어트 전후 체중 비교**      | 같은 사람 30명을 대상으로, 식단 전/후의 체중 차이가 있는지 검정 |\n",
    "# | **교육 프로그램 전후 점수 비교** | 같은 학생들이 수업 전/후 시험을 본 후 점수 향상이 있는지 검정   |\n",
    "# | **약 복용 전후 혈압 변화**      | 같은 환자군에서 약 복용 전후 혈압이 유의하게 달라졌는지 검정     |\n",
    "\n",
    "# 이런 경우, 두 데이터(전(before) / 후(after))가 서로 연결(대응) 되어 있으므로, 대응표본 t검정을 사용합니다.\n",
    "\n",
    "# 3. 가설 설정\n",
    "# | 구분            | 내용              | 수식                 |\n",
    "# | ------------- | --------------- | ------------------ |\n",
    "# | **귀무가설 (H₀)** | 두 시점의 평균 차이가 없다 | μ<sub>차이</sub> = 0 |\n",
    "# | **대립가설 (H₁)** | 두 시점의 평균 차이가 있다 | μ<sub>차이</sub> ≠ 0 |\n",
    "\n"
   ]
  },
  {
   "cell_type": "code",
   "execution_count": 7,
   "id": "10d177bf-7a68-4d7d-8f1a-0f30e9de3d1d",
   "metadata": {},
   "outputs": [],
   "source": [
    "import pandas as pd\n",
    "df = pd.DataFrame({\n",
    "    'before':[85, 90, 92, 88, 86, 89, 83, 87],\n",
    "    'after':[85.5,89.9,92.6,89.5,85.8,88.8,84.6,87.8]\n",
    "})\n"
   ]
  },
  {
   "cell_type": "code",
   "execution_count": 8,
   "id": "356de75c-50d8-4fd7-975f-f5812431eff5",
   "metadata": {},
   "outputs": [
    {
     "name": "stdout",
     "output_type": "stream",
     "text": [
      "TtestResult(statistic=-2.2127749675452324, pvalue=0.03127028733756238, df=7)\n"
     ]
    }
   ],
   "source": [
    "from scipy import stats\n",
    "print(stats.ttest_rel(df['before'], df['after'], alternative='less'))\n"
   ]
  },
  {
   "cell_type": "code",
   "execution_count": 9,
   "id": "1d063ea6-087a-4a2f-9fd3-1b0def634c11",
   "metadata": {},
   "outputs": [
    {
     "name": "stdout",
     "output_type": "stream",
     "text": [
      "TtestResult(statistic=2.2127749675452324, pvalue=0.03127028733756238, df=7)\n"
     ]
    }
   ],
   "source": [
    "print(stats.ttest_rel(df['after'], df['before'], alternative='greater'))\n"
   ]
  },
  {
   "cell_type": "code",
   "execution_count": 12,
   "id": "b8a58323-1cd0-4d7a-a6a2-2dd284bcf41e",
   "metadata": {},
   "outputs": [
    {
     "name": "stdout",
     "output_type": "stream",
     "text": [
      "TtestResult(statistic=2.2127749675452324, pvalue=0.06254057467512476, df=7)\n"
     ]
    }
   ],
   "source": [
    "print(stats.ttest_rel(df['after'], df['before']))"
   ]
  },
  {
   "cell_type": "code",
   "execution_count": null,
   "id": "6e2ccfdc-391d-4602-a6bd-02f8959153c6",
   "metadata": {},
   "outputs": [],
   "source": [
    "# -----------------------------------------------\n",
    "# sales_data_sample\n",
    "# -----------------------------------------------"
   ]
  },
  {
   "cell_type": "code",
   "execution_count": 13,
   "id": "f801d2b6-a1ac-4cba-b0ec-ffbcccf9fb2a",
   "metadata": {},
   "outputs": [],
   "source": [
    "# ---------------------------------------\n",
    "# 문제정의 - sales_data_sample.csv\n",
    "# ---------------------------------------\n",
    "# 같은 제품의 1분기와 2분기(QTR_ID) 매출이 유의하게 다른지 확인\n",
    "# 2004년 기준, Q1 vs Q2 매출 비교\n",
    "\n",
    "# | 컬럼명                  | 한글명칭     | 데이터 내용 / 설명                                    |\n",
    "# | -------------------- | -------- | ---------------------------------------------- |\n",
    "# | **ORDERNUMBER**      | 주문번호     | 하나의 주문을 구분하는 고유 번호. 하나의 주문에 여러 상품 라인이 있을 수 있음. |\n",
    "# | **QUANTITYORDERED**  | 주문수량     | 해당 상품이 주문된 수량 (예: 30개, 50개 등).                 |\n",
    "# | **PRICEEACH**        | 개당가격     | 상품 1개의 단가 (예: 95.7 달러).                        |\n",
    "# | **ORDERLINENUMBER**  | 주문라인번호   | 같은 주문번호 내에서 상품별 순서(1, 2, 3...)를 구분.            |\n",
    "# | **SALES**            | 매출금액     | 주문 수량 × 단가. 한 라인의 총 매출액.                       |\n",
    "# | **ORDERDATE**        | 주문일자     | 주문이 접수된 날짜 (`YYYY-MM-DD`).                     |\n",
    "# | **STATUS**           | 주문상태     | 주문의 진행상태 (예: Shipped, Cancelled, On Hold 등).   |\n",
    "# | **QTR_ID**           | 분기번호     | 해당 주문의 회계분기 (1~4분기 중 하나).                      |\n",
    "# | **MONTH_ID**         | 월번호      | 주문 발생 월 (1~12).                                |\n",
    "# | **YEAR_ID**          | 연도       | 주문 발생 연도 (예: 2003, 2004, 2005).                |\n",
    "# | **PRODUCTLINE**      | 제품라인     | 제품이 속한 카테고리명 (예: Classic Cars, Motorcycles 등). |\n",
    "# | **MSRP**             | 권장소비자가격  | 제조사가 제시한 권장 판매가.                               |\n",
    "# | **PRODUCTCODE**      | 제품코드     | 제품을 고유하게 식별하는 코드 (예: `S10_1678`).              |\n",
    "# | **CUSTOMERNAME**     | 고객명      | 주문을 한 고객(회사) 이름.                               |\n",
    "# | **PHONE**            | 전화번호     | 고객의 연락처 전화번호.                                  |\n",
    "# | **ADDRESSLINE1**     | 주소(1)    | 고객의 기본 주소 (도로명 주소).                            |\n",
    "# | **ADDRESSLINE2**     | 주소(2)    | 추가 주소 정보 (건물명, 층 등). 비어 있는 경우도 많음.             |\n",
    "# | **CITY**             | 도시       | 고객이 속한 도시명 (예: San Francisco, Madrid 등).       |\n",
    "# | **STATE**            | 주(State) | 미국/캐나다 등에서 사용하는 주 단위 지역명.                      |\n",
    "# | **POSTALCODE**       | 우편번호     | 고객 주소의 우편번호.                                   |\n",
    "# | **COUNTRY**          | 국가       | 고객이 위치한 나라명 (예: USA, France 등).                |\n",
    "# | **TERRITORY**        | 영업지역     | 영업 담당 구역 (예: EMEA, APAC, NA 등).                |\n",
    "# | **CONTACTLASTNAME**  | 담당자 성    | 고객 담당자의 성(last name).                          |\n",
    "# | **CONTACTFIRSTNAME** | 담당자 이름   | 고객 담당자의 이름(first name).                        |\n",
    "# | **DEALSIZE**         | 거래규모     | 거래 규모 등급 (예: Small, Medium, Large 등으로 분류).     |\n"
   ]
  },
  {
   "cell_type": "code",
   "execution_count": null,
   "id": "487cb40d-1302-4962-aed0-04cd79c0c0a8",
   "metadata": {},
   "outputs": [],
   "source": [
    "# QTR_ID 의 1분기 , 2분기각 평균 비교"
   ]
  },
  {
   "cell_type": "code",
   "execution_count": 24,
   "id": "a38672dc-8c24-40ee-9483-4a9ebda028f9",
   "metadata": {},
   "outputs": [
    {
     "name": "stdout",
     "output_type": "stream",
     "text": [
      "    ORDERNUMBER  QUANTITYORDERED  PRICEEACH  ORDERLINENUMBER    SALES  \\\n",
      "9         10211               41      100.0               14  4708.44   \n",
      "10        10223               37      100.0                1  3965.66   \n",
      "11        10237               23      100.0                7  2333.12   \n",
      "12        10251               28      100.0                2  3188.64   \n",
      "13        10263               34      100.0                2  3676.76   \n",
      "\n",
      "         ORDERDATE   STATUS  QTR_ID  MONTH_ID  YEAR_ID  ...  \\\n",
      "9   1/15/2004 0:00  Shipped       1         1     2004  ...   \n",
      "10  2/20/2004 0:00  Shipped       1         2     2004  ...   \n",
      "11   4/5/2004 0:00  Shipped       2         4     2004  ...   \n",
      "12  5/18/2004 0:00  Shipped       2         5     2004  ...   \n",
      "13  6/28/2004 0:00  Shipped       2         6     2004  ...   \n",
      "\n",
      "           ADDRESSLINE1  ADDRESSLINE2         CITY     STATE POSTALCODE  \\\n",
      "9     25, rue Lauriston           NaN        Paris       NaN      75016   \n",
      "10    636 St Kilda Road       Level 3    Melbourne  Victoria       3004   \n",
      "11    2678 Kingston Rd.     Suite 101          NYC        NY      10022   \n",
      "12        7476 Moss Rd.           NaN       Newark        NJ      94019   \n",
      "13  25593 South Bay Ln.           NaN  Bridgewater        CT      97562   \n",
      "\n",
      "      COUNTRY TERRITORY CONTACTLASTNAME CONTACTFIRSTNAME DEALSIZE  \n",
      "9      France      EMEA         Perrier        Dominique   Medium  \n",
      "10  Australia      APAC        Ferguson            Peter   Medium  \n",
      "11        USA       NaN           Frick          Michael    Small  \n",
      "12        USA       NaN           Brown          William   Medium  \n",
      "13        USA       NaN            King            Julie   Medium  \n",
      "\n",
      "[5 rows x 25 columns]\n",
      "QTR_ID              1         2         3         4\n",
      "PRODUCTCODE                                        \n",
      "S10_1678      8674.10   9198.52  10874.42  22337.49\n",
      "S10_1949     12538.53  13800.98  20056.40  40436.34\n",
      "S10_2016      8431.48  13080.60  13146.29  16873.16\n",
      "S10_4698     15897.43  22439.07  19023.33  21095.87\n",
      "S10_4757     11195.52   6288.64   9928.00  15661.58\n",
      "...               ...       ...       ...       ...\n",
      "S700_3505    13250.30   5449.15   8859.08  14163.77\n",
      "S700_3962     8659.12   7234.45  11058.50  15543.75\n",
      "S700_4002     6137.15   7317.37   8381.31  17573.15\n",
      "S72_1253      3561.51   3042.83   5301.42  13928.27\n",
      "S72_3212      6155.76   2979.58   5312.30  13844.95\n",
      "\n",
      "[109 rows x 4 columns]\n",
      "대응표본 t검정 (연도: 2004, Q1 vs Q2 매출)\n",
      "t-statistic: 1.6790047760565883\n",
      "p-value: 0.09604215245565047\n"
     ]
    }
   ],
   "source": [
    "import pandas as pd\n",
    "from scipy import stats\n",
    "\n",
    "# 1. 데이터 불러오기\n",
    "df = pd.read_csv(\"sales_data_sample.csv\")\n",
    "\n",
    "# 2. 특정 연도(데이터가 가장 많은 연도)만 선택\n",
    "target_year = int(df[\"YEAR_ID\"].value_counts().idxmax())\n",
    "# target_year # 결과 : 2004\n",
    "data = df[df[\"YEAR_ID\"] == target_year]\n",
    "# data # 2004년도의 데이터만 추출\n",
    "\n",
    "# # 3. 제품별 분기별 매출 합계 계산\n",
    "# 기존의 컬럼에서 원하는 형태의 테이블을 만드는 작업\n",
    "pivot = data.pivot_table(index=\"PRODUCTCODE\", columns=\"QTR_ID\", values=\"SALES\", aggfunc=\"sum\")\n",
    "print(data.head(5))\n",
    "print(pivot)\n",
    "# # 4. Q1, Q2 매출이 모두 존재하는 제품만 추출\n",
    "paired = pivot[[1, 2]].dropna() # NAN제거(결측치 제거)\n",
    "before = paired[1]  # Q1 매출\n",
    "after = paired[2]   # Q2 매출\n",
    "\n",
    "before\n",
    "\n",
    "# # 5. 대응표본 t검정 수행 (양측검정)\n",
    "t_stat, p_val = stats.ttest_rel(before, after)\n",
    "\n",
    "# # 6. 결과 출력\n",
    "print(f\"대응표본 t검정 (연도: {target_year}, Q1 vs Q2 매출)\")\n",
    "print(\"t-statistic:\", t_stat)\n",
    "print(\"p-value:\", p_val)\n",
    "\n",
    "# # 7. 해석\n",
    "# if p_val < 0.05:\n",
    "#     print(\"귀무가설 기각 → Q1과 Q2의 평균 매출에 통계적으로 유의한 차이가 있습니다.\")\n",
    "# else:\n",
    "#     print(\"귀무가설 채택 → Q1과 Q2의 평균 매출에 유의한 차이가 없습니다.\")\n",
    "\n",
    "\n",
    "# # 귀무가설(H₀) : \"두 집단의 평균은 같다\" 또는 \"차이가 없다\"는 가정\n",
    "# # 대립가설(H₁) : \"두 집단의 평균은 다르다\" 또는 \"차이가 있다\"는 주장\n",
    "# # p-value(유의확률) : “귀무가설이 참이라고 가정했을 때, 지금처럼 극단적인 결과가 나올 확률\"\n",
    "# # p-value가 작다(0.05 미만) -> 귀무가설이 맞을 가능성이 낮음 -> ‘차이가 있다’(통계적으로 유의함) 라고 판단\n",
    "# # p-value가 크다(0.05 이상) -> 이런 결과는 우연히도 충분히 일어날 수 있음 -> ‘차이가 없다’(유의하지 않음)\n",
    "\n",
    "# # 즉, 1분기(Q1)과 2분기(Q2) 매출이 ‘통계적으로는 비슷’하다\n",
    "# # 분기가 달라져도 (1분기 -> 2분기) 매출에 뚜렷한 영향을 준다고 보기 어렵다 \n",
    "# # ->분기컬럼을 삭제하는 방향으로 고려해도 괜찮을것같다(나머지 Q3,Q4도  확인해서 유의성 검정)"
   ]
  },
  {
   "cell_type": "code",
   "execution_count": null,
   "id": "d200dca5-e8dc-4308-aa77-9da2bb23d026",
   "metadata": {},
   "outputs": [],
   "source": []
  }
 ],
 "metadata": {
  "kernelspec": {
   "display_name": "Python 3 (ipykernel)",
   "language": "python",
   "name": "python3"
  },
  "language_info": {
   "codemirror_mode": {
    "name": "ipython",
    "version": 3
   },
   "file_extension": ".py",
   "mimetype": "text/x-python",
   "name": "python",
   "nbconvert_exporter": "python",
   "pygments_lexer": "ipython3",
   "version": "3.11.6"
  }
 },
 "nbformat": 4,
 "nbformat_minor": 5
}
