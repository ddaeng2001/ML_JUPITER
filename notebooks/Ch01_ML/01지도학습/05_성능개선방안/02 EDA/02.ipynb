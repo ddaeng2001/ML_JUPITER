{
 "cells": [
  {
   "cell_type": "code",
   "execution_count": 1,
   "id": "ec80f89a-53eb-451a-812b-f2fe46d685e7",
   "metadata": {},
   "outputs": [],
   "source": [
    "from scipy.stats import chi2_contingency\n",
    "import pandas as pd\n",
    "\n",
    "# 데이터 예시 (성별에 따라 제품 선택에 차이가 있도록 설정)\n",
    "df = pd.DataFrame({\n",
    "    'gender': ['M','M','M','M','M','F','F','F','F','F'],\n",
    "    'product': ['A','A','A','B','B','B','B','B','A','A']\n",
    "})"
   ]
  },
  {
   "cell_type": "code",
   "execution_count": 2,
   "id": "f53c9a02-9390-4092-97a5-11120133d9fb",
   "metadata": {},
   "outputs": [
    {
     "data": {
      "text/html": [
       "<div>\n",
       "<style scoped>\n",
       "    .dataframe tbody tr th:only-of-type {\n",
       "        vertical-align: middle;\n",
       "    }\n",
       "\n",
       "    .dataframe tbody tr th {\n",
       "        vertical-align: top;\n",
       "    }\n",
       "\n",
       "    .dataframe thead th {\n",
       "        text-align: right;\n",
       "    }\n",
       "</style>\n",
       "<table border=\"1\" class=\"dataframe\">\n",
       "  <thead>\n",
       "    <tr style=\"text-align: right;\">\n",
       "      <th>product</th>\n",
       "      <th>A</th>\n",
       "      <th>B</th>\n",
       "    </tr>\n",
       "    <tr>\n",
       "      <th>gender</th>\n",
       "      <th></th>\n",
       "      <th></th>\n",
       "    </tr>\n",
       "  </thead>\n",
       "  <tbody>\n",
       "    <tr>\n",
       "      <th>F</th>\n",
       "      <td>2</td>\n",
       "      <td>3</td>\n",
       "    </tr>\n",
       "    <tr>\n",
       "      <th>M</th>\n",
       "      <td>3</td>\n",
       "      <td>2</td>\n",
       "    </tr>\n",
       "  </tbody>\n",
       "</table>\n",
       "</div>"
      ],
      "text/plain": [
       "product  A  B\n",
       "gender       \n",
       "F        2  3\n",
       "M        3  2"
      ]
     },
     "execution_count": 2,
     "metadata": {},
     "output_type": "execute_result"
    }
   ],
   "source": [
    "# 교차표 생성\n",
    "crosstab = pd.crosstab(df['gender'], df['product'])\n",
    "crosstab"
   ]
  },
  {
   "cell_type": "code",
   "execution_count": 3,
   "id": "11f4c068-1906-4ee7-b9cd-17937966e18a",
   "metadata": {},
   "outputs": [
    {
     "name": "stdout",
     "output_type": "stream",
     "text": [
      "Chi-square:  0.0\n",
      "p-value:  1.0\n",
      "자유도:  1\n",
      "기대빈도:  [[2.5 2.5]\n",
      " [2.5 2.5]]\n"
     ]
    }
   ],
   "source": [
    "# # 카이제곱 검정\n",
    "chi2, pval, dof, expected = chi2_contingency(crosstab)\n",
    "print('Chi-square: ',chi2)\n",
    "print('p-value: ',pval)\n",
    "print('자유도: ', dof)\n",
    "print('기대빈도: ',expected)"
   ]
  },
  {
   "cell_type": "code",
   "execution_count": null,
   "id": "7bb373fd-9330-46f0-bb33-0270efccf5a3",
   "metadata": {},
   "outputs": [],
   "source": [
    "# # 결과 해석\n",
    "alpha = 0.05\n",
    "if pval < alpha:\n",
    "    print('→ 두 변수는 유의한 관계가 있습니다.')\n",
    "else:\n",
    "    print('→ 두 변수는 독립적입니다.')"
   ]
  },
  {
   "cell_type": "code",
   "execution_count": 4,
   "id": "0cd49dd6-46e5-4cbf-a7d6-cffdb1500d9e",
   "metadata": {},
   "outputs": [],
   "source": [
    "# -----------------------------------------------"
   ]
  },
  {
   "cell_type": "code",
   "execution_count": 7,
   "id": "28ed81de-96ef-49b0-ad57-3ae5c9738bee",
   "metadata": {},
   "outputs": [
    {
     "name": "stdout",
     "output_type": "stream",
     "text": [
      "<class 'pandas.core.frame.DataFrame'>\n",
      "RangeIndex: 29304 entries, 0 to 29303\n",
      "Data columns (total 16 columns):\n",
      " #   Column          Non-Null Count  Dtype  \n",
      "---  ------          --------------  -----  \n",
      " 0   id              29304 non-null  int64  \n",
      " 1   age             29292 non-null  float64\n",
      " 2   workclass       27642 non-null  object \n",
      " 3   fnlwgt          29304 non-null  int64  \n",
      " 4   education       29304 non-null  object \n",
      " 5   education.num   29304 non-null  int64  \n",
      " 6   marital.status  29304 non-null  object \n",
      " 7   occupation      27636 non-null  object \n",
      " 8   relationship    29304 non-null  object \n",
      " 9   race            29304 non-null  object \n",
      " 10  sex             29304 non-null  object \n",
      " 11  capital.gain    29304 non-null  int64  \n",
      " 12  capital.loss    29304 non-null  int64  \n",
      " 13  hours.per.week  29291 non-null  float64\n",
      " 14  native.country  28767 non-null  object \n",
      " 15  income          29304 non-null  object \n",
      "dtypes: float64(2), int64(5), object(9)\n",
      "memory usage: 3.6+ MB\n"
     ]
    },
    {
     "data": {
      "text/plain": [
       "['workclass',\n",
       " 'education',\n",
       " 'marital.status',\n",
       " 'occupation',\n",
       " 'relationship',\n",
       " 'race',\n",
       " 'sex',\n",
       " 'native.country']"
      ]
     },
     "execution_count": 7,
     "metadata": {},
     "output_type": "execute_result"
    }
   ],
   "source": [
    "import pandas as pd\n",
    "# 1. CSV 파일 불러오기\n",
    "df = pd.read_csv('train.csv')\n",
    "df.info()\n",
    "\n",
    "# 2 target 분리\n",
    "target = df.pop('income')\n",
    "\n",
    "# 3 범주형 x 분리\n",
    "categorical_cols = df.select_dtypes(include=['object']).columns.tolist()\n",
    "categorical_cols\n",
    "\n",
    "# 4. 카이제곱 검정 수행 및 결과 저장\n",
    "results = []\n",
    "\n",
    "for col in categorical_cols:\n",
    "    crosstab = pd.crosstab(df[col], target)\n",
    "    chi2, p, dof, expected = chi2_contingency(crosstab)\n",
    "    results.append({\n",
    "    '변수명':col,\n",
    "    'Chi2 통계량': round(chi2, 4),\n",
    "    'p-value':round(p,4),\n",
    "    '자유도':dof,\n",
    "    '유의성(p<0.05)':'유의함' if p< 0.05 else '유의하지 않음'\n",
    "    })\n",
    "\n",
    "# 5. DataFrame 생성 및 정렬\n",
    "chi2_df = pd.DataFrame(results).sort_values('p-value', ascending=True).reset"
   ]
  },
  {
   "cell_type": "code",
   "execution_count": null,
   "id": "3c049769-ee7e-4464-a8c9-66120039436c",
   "metadata": {},
   "outputs": [],
   "source": []
  }
 ],
 "metadata": {
  "kernelspec": {
   "display_name": "Python 3 (ipykernel)",
   "language": "python",
   "name": "python3"
  },
  "language_info": {
   "codemirror_mode": {
    "name": "ipython",
    "version": 3
   },
   "file_extension": ".py",
   "mimetype": "text/x-python",
   "name": "python",
   "nbconvert_exporter": "python",
   "pygments_lexer": "ipython3",
   "version": "3.11.6"
  }
 },
 "nbformat": 4,
 "nbformat_minor": 5
}
