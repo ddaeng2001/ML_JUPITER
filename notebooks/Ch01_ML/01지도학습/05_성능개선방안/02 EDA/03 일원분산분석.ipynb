{
 "cells": [
  {
   "cell_type": "code",
   "execution_count": 1,
   "id": "4704bf17-a2be-4773-bc4a-9aca86cd860d",
   "metadata": {},
   "outputs": [],
   "source": [
    "# --------------------------------------------------------------------\n",
    "# 일원 분산분석 - 1\n",
    "# --------------------------------------------------------------------\n",
    "# 범주형 변수(X)**가 **수치형 변수(Y) 에 영향을 주는지 확인하는 검정\n",
    "# 통계적으로 공정하게 비교하기 위함\n",
    "# 하나의 X의 3개 이상 집단(범주)의 평균이 같은지 검정\n",
    "# 독립변수(X) 1개 - 종속변수(Y)\n",
    "\n",
    "# ----------------------------------------------------------------------------------\n",
    "# H₀ (귀무가설) : 모든 집단의 평균은 같다. (차이가 없다)\n",
    "# H₁ (대립가설) : 적어도 한 집단의 평균은 다르다.\n",
    "\n",
    "# p ≤ 0.05 → 귀무가설 기각 → 집단 간 평균이 다르다 → 유의한 차이 있음\n",
    "# p > 0.05 → 귀무가설 채택 → 집단 간 평균이 같다 → 유의한 차이 없음\n",
    "\n",
    "# ‘차이가 있다’는 것은 ‘영향이 있다’는 뜻\n",
    "# X: 비료 종류 (A, B, C, D)\n",
    "# Y: 식물 성장량\n",
    "# “비료 종류가 다르면 진짜 성장량에 차이가 날까?”\n",
    "# 그래서 통계적으로 **“이 차이가 우연인지, 진짜 차이인지”**를 판단하기 위해 검정이 필요\n",
    " \n",
    "# 귀무가설 (H₀) : 비료 종류에 따른 성장량의 평균은 모두 같다. :\n",
    "# 대립가설 (H₁) : 적어도 하나의 비료 평균은 다르다.\n",
    "\n",
    "\n",
    "# ----------------------------------------------------------------------------------\n",
    "# X (독립변수) → 범주형 (그룹 구분용)\n",
    "# Y (종속변수) → 수치형 (비교할 평균값)\n",
    "\n",
    "# 기본 구조\n",
    "# | 구분 | 역할                          | 변수 종류  | 예시                  |\n",
    "# | -- | -------------------------      | -------   | ------------------- |\n",
    "# | X  | 독립변수(요인, Grouping factor) | **범주형** | 성별, 학력, 지역, 약물 종류 등 |\n",
    "# | Y  | 종속변수(Response variable)     | **수치형** | 급여, 점수, 혈압, 매출액 등   |\n",
    "\n",
    "# # 예시 1 — 학력에 따른 소득 차이\n",
    "# | 학력(X, 범주형) | 소득(Y, 수치형) |\n",
    "# | ---------- | ----------  |\n",
    "# | 고졸         | 2500       |\n",
    "# | 고졸         | 2300       |\n",
    "# | 대졸         | 3500       |\n",
    "# | 대졸         | 3700       |\n",
    "# | 대학원졸     | 4200       |\n",
    "# | 대학원졸     | 4000       |\n",
    "\n",
    "# X (독립변수): education = {고졸, 대졸, 대학원졸}\n",
    "# Y (종속변수): income (소득)\n",
    "\n",
    "# 질문:\n",
    "# “학력 수준에 따라 평균 소득이 유의하게 다른가?”\n",
    "# → 일원분산분석 ANOVA 사용"
   ]
  },
  {
   "cell_type": "markdown",
   "id": "d24843dd-154d-4913-9a1c-d78b8ecd80e4",
   "metadata": {},
   "source": [
    "# 분산분석"
   ]
  },
  {
   "cell_type": "code",
   "execution_count": null,
   "id": "6e559025-b2d0-4dd3-85e4-c973b103dcc4",
   "metadata": {},
   "outputs": [],
   "source": [
    "# 일원분산 분석 1:1"
   ]
  },
  {
   "cell_type": "code",
   "execution_count": 2,
   "id": "f378533a-a9f7-47bd-8a15-2849cee666b8",
   "metadata": {},
   "outputs": [
    {
     "name": "stdout",
     "output_type": "stream",
     "text": [
      "      A     B     C    D\n",
      "0  10.5  11.9  11.2  9.8\n",
      "1  11.3  12.4  11.7  9.4\n"
     ]
    }
   ],
   "source": [
    "import pandas as pd\n",
    "df = pd.DataFrame({\n",
    "    'A': [10.5, 11.3, 10.8, 9.6, 11.1, 10.2, 10.9, 11.4, 10.5, 10.3],\n",
    "    'B': [11.9, 12.4, 12.1, 13.2, 12.5, 11.8, 12.2, 12.9, 12.4, 12.3],\n",
    "    'C': [11.2, 11.7, 11.6, 10.9, 11.3, 11.1, 10.8, 11.5, 11.4, 11.0],\n",
    "    'D': [9.8, 9.4, 9.1, 9.5, 9.6, 9.9, 9.2, 9.7, 9.3, 9.4]\n",
    "})\n",
    "print(df.head(2))\n"
   ]
  },
  {
   "cell_type": "code",
   "execution_count": null,
   "id": "ba4c8b81-8aaf-4ea7-957c-b3cdd97b75ab",
   "metadata": {},
   "outputs": [],
   "source": [
    "from scipy import stats\n",
    "\n",
    "print(\"=== 정규성 검정 ===\")\n",
    "print(stats.shapiro(df['A']))\n",
    "print(stats.shapiro(df['B']))\n",
    "print(stats.shapiro(df['C']))\n",
    "print(stats.shapiro(df['D']))\n",
    "\n",
    "print(\"\\n === 등분산 검정 ===\")\n",
    "print(stats.levene(df['A'], df['B'], df['C'], df['D']))\n",
    "\n",
    "print(\"\\n === 일원 분산 분석 ===\")\n",
    "print(stats.f_oneway(df['A'], df['B'], df['C'], df['D']))\n",
    "\n",
    "# 정규성 검정 → 데이터가 정규분포를 따르는지 확인한다. / 즉, 데이터가 종 모양으로 고르게 퍼져 있는지 보는 검사\n",
    "# 등분산 검정 → 그룹 간 분산이 동일한지 확인한다. / 각 그룹의 데이터 흩어짐 정도가 비슷한지 확인\n",
    "# 일원분산분석(ANOVA) → 그룹 간 평균이 서로 다른지 검정한다. / 여러 그룹의 평균이 진짜로 차이가 나는지 비교하는 검사\n",
    "\n"
   ]
  },
  {
   "cell_type": "code",
   "execution_count": null,
   "id": "a5703d0d-e64a-44bb-b8c4-4198f2177264",
   "metadata": {},
   "outputs": [],
   "source": [
    "# 정규성 검정\n",
    "# | 변수| statistic | p-value | 해석                          |\n",
    "# | --  | --------- | ------- | ----------------------        |\n",
    "# | A   | 0.9649    | 0.8400  | p>0.05 → **정규분포를 따른다** | - p > 0.05 → 귀무가설 채택 → 집단 간 평균이 같다 → 유의한 차이 없음\n",
    "# | B   | 0.9468    | 0.6309  | p>0.05 → **정규분포를 따른다** | - p > 0.05 → 귀무가설 채택 → 집단 간 평균이 같다 → 유의한 차이 없음\n",
    "# | C   | 0.9702    | 0.8924  | p>0.05 → **정규분포를 따른다** | - p > 0.05 → 귀무가설 채택 → 집단 간 평균이 같다 → 유의한 차이 없음\n",
    "# | D   | 0.9752    | 0.9347  | p>0.05 → **정규분포를 따른다** | - p > 0.05 → 귀무가설 채택 → 집단 간 평균이 같다 → 유의한 차이 없음\n",
    "\n",
    "# 등분산 검정\n",
    "# | 항목                        | 값      | 해석                                          |\n",
    "# | ----------------------     | ------ | --------------------------------               |\n",
    "# | **검정 통계량 (statistic)** | 1.9355 | 그룹 간 분산 차이를 나타내는 값 (참고용)          |\n",
    "# | **p-value**                | 0.1413 | 0.05보다 큼 → 귀무가설(분산이 같다)을 기각하지 않음 |\n",
    "\n",
    "# 일원분산분석(ANOVA)\n",
    "# | 항목                         | 값                        | 해석                                      |\n",
    "# | ------------------------     | -------------------      | --------------------------------------- |\n",
    "# | **검정 통계량 (F statistic)** | 89.1261                  | 그룹 간 평균 차이를 나타내는 값 (F값이 클수록 집단 간 차이가 큼) |\n",
    "# | **p-value**                  | 1.0018e-16               | 0.05보다 매우 작음 → 귀무가설(모든 평균이 같다)을 기각      |\n",
    "# | **유의수준 (α)**              | 0.05                     | 통상적인 기준값                                |\n",
    "# | **결론**                      | 귀무가설 기각             | 집단 간 평균 차이가 통계적으로 유의함                   |\n",
    "# | **추가 분석 권장**             | 사후 검정 (Tukey HSD 등)  | 어떤 집단 간 차이가 유의한지 구체적으로 확인 필요            |\n",
    "\n",
    "\n"
   ]
  },
  {
   "cell_type": "code",
   "execution_count": 1,
   "id": "ad08463f-08f5-4dd3-87bb-07394245aa83",
   "metadata": {},
   "outputs": [],
   "source": [
    "import pandas as pd\n",
    "# df = pd.read_csv(\"fertilizer.csv\")\n",
    "df_2 = pd.read_csv(\"https://raw.githubusercontent.com/lovedlim/bigdata_analyst_cert/main/part3/ch2/fertilizer.csv\")"
   ]
  },
  {
   "cell_type": "code",
   "execution_count": 7,
   "id": "ef4db71f-94b6-4d64-8282-9f159a003634",
   "metadata": {},
   "outputs": [
    {
     "name": "stdout",
     "output_type": "stream",
     "text": [
      "            df    sum_sq    mean_sq          F        PR(>F)\n",
      "C(비료)      3.0  43.21875  14.406250  89.126139  1.001838e-16\n",
      "Residual  36.0   5.81900   0.161639        NaN           NaN\n"
     ]
    }
   ],
   "source": [
    "from statsmodels.formula.api import ols\n",
    "from statsmodels.stats.anova import anova_lm\n",
    "model = ols('성장 ~ C(비료)', df_2).fit()\n",
    "# print(model.summary()) # ors\n",
    "print(anova_lm(model))\n",
    "\n",
    "# 비료 종류(범주형 변수) 가 식물 성장(연속형 변수) 에 미치는 영향을 검정하는 모델"
   ]
  },
  {
   "cell_type": "code",
   "execution_count": null,
   "id": "6b09cb7a-df28-4fbe-aa5d-f8dfd017b181",
   "metadata": {},
   "outputs": [],
   "source": []
  },
  {
   "cell_type": "code",
   "execution_count": null,
   "id": "0acd4667-3b46-49aa-953f-0185e741c29f",
   "metadata": {},
   "outputs": [],
   "source": [
    "import pandas as pd\n",
    "df_3 = pd.read_csv(\"train.csv\")"
   ]
  },
  {
   "cell_type": "code",
   "execution_count": null,
   "id": "b6355c70-96b5-4fc9-b7c1-f653c3048191",
   "metadata": {},
   "outputs": [],
   "source": [
    "# 결측치 이상치 제거\n",
    "m = df_3['workclass'].mode()[0]\n",
    "df_3['workclass'] = df_3['workclass'].fillna(m)"
   ]
  },
  {
   "cell_type": "code",
   "execution_count": null,
   "id": "f478b54f-b911-4321-9045-0092335d6f17",
   "metadata": {},
   "outputs": [],
   "source": [
    "df_3[\"income_code\"] = df_3[\"income\"].map({'<=50K':0, '>50K':1})"
   ]
  },
  {
   "cell_type": "code",
   "execution_count": null,
   "id": "29852606-b33d-4a7a-9ba9-9d708d7c004f",
   "metadata": {},
   "outputs": [],
   "source": [
    "from statsmodels.formula.api import ols\n",
    "from statsmodels.stats.anova import anova_lm\n",
    "model = ols('income_code ~ C(workclass)', df_3).fit()\n",
    "print(anova_lm(model))"
   ]
  },
  {
   "cell_type": "code",
   "execution_count": null,
   "id": "86fd9000-a0b9-4148-a15d-2d602ce1538f",
   "metadata": {},
   "outputs": [],
   "source": []
  }
 ],
 "metadata": {
  "kernelspec": {
   "display_name": "Python 3 (ipykernel)",
   "language": "python",
   "name": "python3"
  },
  "language_info": {
   "codemirror_mode": {
    "name": "ipython",
    "version": 3
   },
   "file_extension": ".py",
   "mimetype": "text/x-python",
   "name": "python",
   "nbconvert_exporter": "python",
   "pygments_lexer": "ipython3",
   "version": "3.11.6"
  }
 },
 "nbformat": 4,
 "nbformat_minor": 5
}
