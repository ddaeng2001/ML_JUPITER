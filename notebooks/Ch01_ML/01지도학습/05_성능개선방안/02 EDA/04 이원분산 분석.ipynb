{
 "cells": [
  {
   "cell_type": "code",
   "execution_count": 6,
   "id": "16d5b032-2bdc-4deb-ba94-894552c54e79",
   "metadata": {},
   "outputs": [
    {
     "name": "stdout",
     "output_type": "stream",
     "text": [
      "   나무  비료        성장률\n",
      "79  C   2  43.124311\n",
      "75  C   2  71.219025\n",
      "78  C   2  63.917608\n",
      "67  C   1  70.035329\n",
      "46  B   2  53.393612\n",
      "15  A   2  47.377125\n",
      "65  C   1  73.562400\n",
      "32  B   1  54.865028\n",
      "36  B   1  57.088636\n",
      "18  A   2  43.919759\n"
     ]
    }
   ],
   "source": [
    "import pandas as pd\n",
    "# df = pd.read_csv(\"tree.csv\")\n",
    "df = pd.read_csv(\"https://raw.githubusercontent.com/lovedlim/bigdata_analyst_cert/main/part3/ch2/tree.csv\")\n",
    "print(df.sample(10))\n"
   ]
  },
  {
   "cell_type": "code",
   "execution_count": 7,
   "id": "1ca9a7ab-7131-4b21-9036-016649420795",
   "metadata": {},
   "outputs": [
    {
     "name": "stdout",
     "output_type": "stream",
     "text": [
      "             df       sum_sq      mean_sq          F        PR(>F)\n",
      "나무          3.0  4783.353938  1594.451313  18.391274  9.016693e-10\n",
      "비료          1.0   873.322002   873.322002  10.073374  1.942421e-03\n",
      "나무:비료       3.0   394.801585   131.600528   1.517952  2.137666e-01\n",
      "Residual  112.0  9709.960792    86.696078        NaN           NaN\n"
     ]
    }
   ],
   "source": [
    "import statsmodels.api as sm\n",
    "from statsmodels.formula.api import ols\n",
    "\n",
    "model = ols('성장률 ~ 나무 + 비료 + 나무:비료', data=df).fit()\n",
    "anova_table = sm.stats.anova_lm(model)\n",
    "print(anova_table)\n"
   ]
  },
  {
   "cell_type": "code",
   "execution_count": 8,
   "id": "e83ec515-e324-4646-8842-a8bac9366843",
   "metadata": {},
   "outputs": [
    {
     "name": "stdout",
     "output_type": "stream",
     "text": [
      "                df       sum_sq      mean_sq          F        PR(>F)\n",
      "C(나무)          3.0  4783.353938  1594.451313  18.855528  6.600012e-10\n",
      "C(비료)          2.0  1127.924259   563.962129   6.669256  1.857612e-03\n",
      "C(나무):C(비료)    6.0   717.520672   119.586779   1.414199  2.157357e-01\n",
      "Residual     108.0  9132.639448    84.561476        NaN           NaN\n"
     ]
    }
   ],
   "source": [
    "import statsmodels.api as sm\n",
    "from statsmodels.formula.api import ols\n",
    "\n",
    "model = ols('성장률 ~ C(나무) + C(비료) + C(나무):C(비료)', data=df).fit()\n",
    "anova_table = sm.stats.anova_lm(model)\n",
    "print(anova_table)\n"
   ]
  },
  {
   "cell_type": "code",
   "execution_count": 9,
   "id": "4ed10047-7aef-4786-a11a-47fc24aeb789",
   "metadata": {},
   "outputs": [
    {
     "name": "stdout",
     "output_type": "stream",
     "text": [
      "0.00000000066\n",
      "0.00185761200\n",
      "0.21573570000\n"
     ]
    }
   ],
   "source": [
    "print(format(6.600012e-10, '.11f'))\n",
    "print(format(1.857612e-03, '.11f'))\n",
    "print(format(2.157357e-01, '.11f'))\n"
   ]
  },
  {
   "cell_type": "code",
   "execution_count": 10,
   "id": "8f51af10-9d34-4f6a-b70d-c2c6705db182",
   "metadata": {},
   "outputs": [
    {
     "name": "stdout",
     "output_type": "stream",
     "text": [
      "                df       sum_sq      mean_sq          F        PR(>F)\n",
      "C(나무)          3.0  4783.353938  1594.451313  18.855528  6.600012e-10\n",
      "C(비료)          2.0  1127.924259   563.962129   6.669256  1.857612e-03\n",
      "C(나무):C(비료)    6.0   717.520672   119.586779   1.414199  2.157357e-01\n",
      "Residual     108.0  9132.639448    84.561476        NaN           NaN\n"
     ]
    }
   ],
   "source": [
    "model = ols('성장률 ~ C(나무) * C(비료)', data=df).fit()\n",
    "anova_table = sm.stats.anova_lm(model)\n",
    "print(anova_table)\n"
   ]
  },
  {
   "cell_type": "code",
   "execution_count": 11,
   "id": "220d227e-2aa6-4853-9f11-580bebe3ca35",
   "metadata": {},
   "outputs": [],
   "source": [
    "# '성장률 ~ 나무 + 비료 + 나무:비료'\n",
    "# 전체 구조: Y ~ X1 + X2 + X1:X2\n",
    "# | 구문      | 의미                                       |\n",
    "# | ------- | ---------------------------------------- |\n",
    "# | **`Y`** | 종속변수 (결과변수) — 여기서는 `성장률`                 |\n",
    "# | **`~`** | “~ 오른쪽에 있는 변수들이 왼쪽의 Y를 설명한다”는 의미         |\n",
    "# | **`+`** | 여러 독립변수를 함께 포함한다는 뜻                      |\n",
    "# | **`:`** | 두 변수 간의 **상호작용(Interaction)** 항을 포함한다는 뜻 |\n",
    "\n",
    "# | 항목        | 의미               | 설명                          |\n",
    "# | -------    | ------------       | --------------------------- |\n",
    "# | `성장률`    | 종속변수 (Y)        | 나무 종류, 비료 종류에 따라 달라지는 결과 변수 |\n",
    "# | `나무`      | 독립변수1 (요인 A)  | 예: 나무 종류 (소나무, 참나무 등)       |\n",
    "# | `비료`      | 독립변수2 (요인 B)  | 예: 비료 종류 (A, B, C 등)        |\n",
    "# | `나무:비료` | 상호작용항 (A×B)    | “나무 종류별로 비료 효과가 다르다”는 관계 포함 |"
   ]
  },
  {
   "cell_type": "code",
   "execution_count": 12,
   "id": "6970cc93-1905-40c7-89c7-0216d4c4e07d",
   "metadata": {},
   "outputs": [
    {
     "name": "stdout",
     "output_type": "stream",
     "text": [
      "                df       sum_sq      mean_sq          F        PR(>F)\n",
      "C(나무)          3.0  4783.353938  1594.451313  18.855528  6.600012e-10\n",
      "C(비료)          2.0  1127.924259   563.962129   6.669256  1.857612e-03\n",
      "C(나무):C(비료)    6.0   717.520672   119.586779   1.414199  2.157357e-01\n",
      "Residual     108.0  9132.639448    84.561476        NaN           NaN\n"
     ]
    }
   ],
   "source": [
    "import statsmodels.api as sm\n",
    "from statsmodels.formula.api import ols\n",
    "\n",
    "# 범주형으로 비교하기 때문에 수치형 비교보다 더 정확 - r : 나무종류가 숫자가 아니기 때문에\n",
    "model = ols('성장률 ~ C(나무) + C(비료) + C(나무):C(비료)', data=df).fit()\n",
    "anova_table = sm.stats.anova_lm(model)\n",
    "print(anova_table)\n"
   ]
  },
  {
   "cell_type": "code",
   "execution_count": 13,
   "id": "cf9b1281-5a98-41a1-bb4d-0a6a73ff8e89",
   "metadata": {},
   "outputs": [
    {
     "name": "stdout",
     "output_type": "stream",
     "text": [
      "0.00000000066\n",
      "0.00185761200\n",
      "0.21573570000\n"
     ]
    }
   ],
   "source": [
    "print(format(6.600012e-10, '.11f'))\n",
    "print(format(1.857612e-03, '.11f'))\n",
    "print(format(2.157357e-01, '.11f'))\n"
   ]
  },
  {
   "cell_type": "code",
   "execution_count": 14,
   "id": "0658acdd-0332-49bd-9612-ee2904358535",
   "metadata": {},
   "outputs": [
    {
     "name": "stdout",
     "output_type": "stream",
     "text": [
      "                df       sum_sq      mean_sq          F        PR(>F)\n",
      "C(나무)          3.0  4783.353938  1594.451313  18.855528  6.600012e-10\n",
      "C(비료)          2.0  1127.924259   563.962129   6.669256  1.857612e-03\n",
      "C(나무):C(비료)    6.0   717.520672   119.586779   1.414199  2.157357e-01\n",
      "Residual     108.0  9132.639448    84.561476        NaN           NaN\n"
     ]
    }
   ],
   "source": [
    "model = ols('성장률 ~ C(나무) * C(비료)', data=df).fit()\n",
    "anova_table = sm.stats.anova_lm(model)\n",
    "print(anova_table)\n"
   ]
  },
  {
   "cell_type": "code",
   "execution_count": null,
   "id": "3d31c48c-caeb-4326-82d3-6886e4f36b41",
   "metadata": {},
   "outputs": [],
   "source": [
    "# ------------------------"
   ]
  },
  {
   "cell_type": "code",
   "execution_count": 15,
   "id": "e3018633-fd71-4227-8415-2256eb7274b3",
   "metadata": {},
   "outputs": [],
   "source": [
    "# train 데이터 넣어서 이원분산으로 바꾸기\n",
    "import pandas as pd\n",
    "df_3 = pd.read_csv(\"train.csv\")"
   ]
  },
  {
   "cell_type": "code",
   "execution_count": 16,
   "id": "91469a11-dd90-4732-b68c-91c9e922d2b4",
   "metadata": {},
   "outputs": [],
   "source": [
    "# 결측치 이상치 제거\n",
    "m = df_3['workclass'].mode()[0]\n",
    "df_3['workclass'] = df_3['workclass'].fillna(m)"
   ]
  },
  {
   "cell_type": "code",
   "execution_count": 17,
   "id": "2874f172-2624-4da7-92a7-4ac6daa7eeac",
   "metadata": {},
   "outputs": [],
   "source": [
    "df_3[\"income_code\"] = df_3[\"income\"].map({'<=50K':0, '>50K':1})"
   ]
  },
  {
   "cell_type": "code",
   "execution_count": 18,
   "id": "f6b510e3-d7ab-4b38-b213-97a591604dbd",
   "metadata": {},
   "outputs": [
    {
     "name": "stdout",
     "output_type": "stream",
     "text": [
      "                                df       sum_sq    mean_sq           F  \\\n",
      "C(workclass)                   7.0   149.623342  21.374763  137.975427   \n",
      "C(education)                  15.0   648.602960  43.240197  279.118166   \n",
      "C(workclass):C(education)    105.0    28.412960   0.270600    1.746737   \n",
      "Residual                   29204.0  4524.201131   0.154917         NaN   \n",
      "\n",
      "                                  PR(>F)  \n",
      "C(workclass)               6.632449e-201  \n",
      "C(education)                0.000000e+00  \n",
      "C(workclass):C(education)   3.624615e-06  \n",
      "Residual                             NaN  \n"
     ]
    }
   ],
   "source": [
    "from statsmodels.formula.api import ols\n",
    "from statsmodels.stats.anova import anova_lm\n",
    "model = ols('income_code ~ C(workclass) * C(education)', df_3).fit()\n",
    "print(anova_lm(model))"
   ]
  },
  {
   "cell_type": "code",
   "execution_count": null,
   "id": "f522728c-b105-47bc-b53f-93a2bd49ae50",
   "metadata": {},
   "outputs": [],
   "source": []
  }
 ],
 "metadata": {
  "kernelspec": {
   "display_name": "Python 3 (ipykernel)",
   "language": "python",
   "name": "python3"
  },
  "language_info": {
   "codemirror_mode": {
    "name": "ipython",
    "version": 3
   },
   "file_extension": ".py",
   "mimetype": "text/x-python",
   "name": "python",
   "nbconvert_exporter": "python",
   "pygments_lexer": "ipython3",
   "version": "3.11.6"
  }
 },
 "nbformat": 4,
 "nbformat_minor": 5
}
