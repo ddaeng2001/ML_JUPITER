{
 "cells": [
  {
   "cell_type": "code",
   "execution_count": 1,
   "id": "10d177bf-7a68-4d7d-8f1a-0f30e9de3d1d",
   "metadata": {},
   "outputs": [],
   "source": [
    "import pandas as pd\n",
    "df = pd.DataFrame({\n",
    "    'before':[85, 90, 92, 88, 86, 89, 83, 87],\n",
    "    'after':[85.5,89.9,92.6,89.5,85.8,88.8,84.6,87.8]\n",
    "})\n"
   ]
  },
  {
   "cell_type": "code",
   "execution_count": 2,
   "id": "356de75c-50d8-4fd7-975f-f5812431eff5",
   "metadata": {},
   "outputs": [
    {
     "name": "stdout",
     "output_type": "stream",
     "text": [
      "t-statistic: 2.1155384372682344\n",
      "p-value: 0.043092957066609296\n"
     ]
    }
   ],
   "source": [
    "from scipy import stats\n",
    "print(stats.ttest_rel(df['before'], df['after'], alternative='less'))\n"
   ]
  },
  {
   "cell_type": "code",
   "execution_count": 3,
   "id": "1d063ea6-087a-4a2f-9fd3-1b0def634c11",
   "metadata": {},
   "outputs": [
    {
     "name": "stdout",
     "output_type": "stream",
     "text": [
      "TtestResult(statistic=2.1155384372682344, pvalue=0.043092957066609296, df=29)\n"
     ]
    }
   ],
   "source": [
    "print(stats.ttest_rel(df['after'], df['before'], alternative='greater'))\n"
   ]
  },
  {
   "cell_type": "code",
   "execution_count": 4,
   "id": "b8a58323-1cd0-4d7a-a6a2-2dd284bcf41e",
   "metadata": {},
   "outputs": [
    {
     "name": "stdout",
     "output_type": "stream",
     "text": [
      "TtestResult(statistic=2.1155384372682344, pvalue=0.043092957066609296, df=29)\n"
     ]
    }
   ],
   "source": [
    "print(stats.ttest_rel(df['after'], df['before']))\n",
    "\n"
   ]
  },
  {
   "cell_type": "code",
   "execution_count": 5,
   "id": "e3afa556-e3d0-48e3-b631-c8ad5ac00755",
   "metadata": {},
   "outputs": [
    {
     "name": "stdout",
     "output_type": "stream",
     "text": [
      "TtestResult(statistic=2.1155384372682344, pvalue=0.021546478533304648, df=29)\n"
     ]
    }
   ],
   "source": [
    "print(stats.ttest_1samp(df['weights'], 120, alternative='greater')) # 오른쪽검정 (평균이 120보다 '큰지' 검정)\n"
   ]
  },
  {
   "cell_type": "code",
   "execution_count": 6,
   "id": "170c5c54-a917-4c69-a1b9-6a7f7dc971b7",
   "metadata": {},
   "outputs": [
    {
     "name": "stdout",
     "output_type": "stream",
     "text": [
      "TtestResult(statistic=2.1155384372682344, pvalue=0.9784535214666953, df=29)\n"
     ]
    }
   ],
   "source": [
    "print(stats.ttest_1samp(df['weights'], 120, alternative='less')) # 왼쪽검정 (평균이 120보다 '작은지' 검정)\n"
   ]
  },
  {
   "cell_type": "code",
   "execution_count": null,
   "id": "9330a84d-b07f-49b0-8b77-c5798a7ecdbf",
   "metadata": {},
   "outputs": [],
   "source": []
  }
 ],
 "metadata": {
  "kernelspec": {
   "display_name": "Python 3 (ipykernel)",
   "language": "python",
   "name": "python3"
  },
  "language_info": {
   "codemirror_mode": {
    "name": "ipython",
    "version": 3
   },
   "file_extension": ".py",
   "mimetype": "text/x-python",
   "name": "python",
   "nbconvert_exporter": "python",
   "pygments_lexer": "ipython3",
   "version": "3.11.6"
  }
 },
 "nbformat": 4,
 "nbformat_minor": 5
}
