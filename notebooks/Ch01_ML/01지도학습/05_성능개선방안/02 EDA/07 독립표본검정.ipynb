{
 "cells": [
  {
   "cell_type": "code",
   "execution_count": null,
   "id": "98ab2610-5bac-472b-bf3d-0d67e3c3c2d7",
   "metadata": {},
   "outputs": [],
   "source": [
    "# -----------------------------------------------------------------------------\n",
    "# 독립 표본검정\n",
    "# -----------------------------------------------------------------------------\n",
    "독립표본검정은 **두 개의 독립된 집단 간 평균의 차이**가 통계적으로 유의한지를 검정하는 통계 방법\n",
    "각 집단의 표본은 서로 독립적이며, 한 집단의 결과가 다른 집단에 영향을 주지 않는 경우에 사용"
   ]
  },
  {
   "cell_type": "code",
   "execution_count": 1,
   "id": "49da449e-4578-4cf1-a627-ec90820ffd9f",
   "metadata": {},
   "outputs": [],
   "source": [
    "import pandas as pd\n",
    "class1 = [85, 90, 92, 88, 86, 89, 83, 87] # p-value 값이 높을 수록 차이가 없다 == 기무가설일 확률 높음\n",
    "class2 = [80, 82, 88, 85, 84]\n"
   ]
  },
  {
   "cell_type": "code",
   "execution_count": 2,
   "id": "b501d2c8-3992-4231-ac2b-f47c69497040",
   "metadata": {},
   "outputs": [
    {
     "name": "stdout",
     "output_type": "stream",
     "text": [
      "TtestResult(statistic=2.2108140580092237, pvalue=0.04914857789252186, df=11.0)\n"
     ]
    }
   ],
   "source": [
    "from scipy import stats\n",
    "print(stats.ttest_ind(class1, class2))\n"
   ]
  },
  {
   "cell_type": "code",
   "execution_count": null,
   "id": "21c991e8-aa7d-40c1-958c-d5ade648ec4d",
   "metadata": {},
   "outputs": [],
   "source": [
    "print(stats.ttest_ind(class1, class2, equal_var=False))\n"
   ]
  },
  {
   "cell_type": "code",
   "execution_count": null,
   "id": "64da1e8e-d1c8-4b2b-b5c1-ae58e0d3c319",
   "metadata": {},
   "outputs": [],
   "source": [
    "print(stats.ttest_ind(class1, class2, equal_var=True, alternative='less'))\n"
   ]
  },
  {
   "cell_type": "code",
   "execution_count": 3,
   "id": "e2d04584-06ca-4d64-ac9a-0380258d1ce1",
   "metadata": {},
   "outputs": [
    {
     "name": "stdout",
     "output_type": "stream",
     "text": [
      "TtestResult(statistic=2.2108140580092237, pvalue=0.02457428894626093, df=11.0)\n"
     ]
    }
   ],
   "source": [
    "print(stats.ttest_ind(class1, class2, equal_var=True, alternative='greater'))\n"
   ]
  },
  {
   "cell_type": "code",
   "execution_count": null,
   "id": "6c10c465-ee9d-48c7-94d3-9ca2a2aea8df",
   "metadata": {},
   "outputs": [],
   "source": [
    "# -----------------------------------------\n",
    "# StudentsPerformance\n",
    "# -----------------------------------------"
   ]
  },
  {
   "cell_type": "code",
   "execution_count": 4,
   "id": "930ce9f9-cc6d-4e23-bc0b-6d0321fbb107",
   "metadata": {},
   "outputs": [
    {
     "name": "stdout",
     "output_type": "stream",
     "text": [
      "등분산 가정 t-검정 결과: TtestResult(statistic=-5.383245869828983, pvalue=9.120185549328822e-08, df=998.0)\n",
      "Welch t-검정 결과: TtestResult(statistic=-5.398000564160736, pvalue=8.420838109090415e-08, df=997.9840751727494)\n",
      "여학생 < 남학생 : TtestResult(statistic=-5.383245869828983, pvalue=4.560092774664411e-08, df=998.0)\n",
      "여학생 > 남학생 : TtestResult(statistic=-5.383245869828983, pvalue=0.9999999543990722, df=998.0)\n"
     ]
    }
   ],
   "source": [
    "# StudentsPerformance.csv - 간단한 독립표본 t-검정\n",
    "\n",
    "# 남녀의 수학 점수 비교\n",
    "import pandas as pd\n",
    "from scipy import stats\n",
    "\n",
    "# 1) CSV 불러오기\n",
    "df = pd.read_csv(\"StudentsPerformance.csv\")\n",
    "\n",
    "# 2) 남학생과 여학생 데이터 분리\n",
    "female = df[df['gender'] == 'female']['math score']\n",
    "male   = df[df['gender'] == 'male']['math score']\n",
    "\n",
    "# 3) 독립표본 t-검정 (등분산 가정)\n",
    "result_equal = stats.ttest_ind(female, male, equal_var=True)\n",
    "print(\"등분산 가정 t-검정 결과:\", result_equal)\n",
    "\n",
    "# 4) Welch t-검정 (등분산 가정하지 않음)\n",
    "result_welch = stats.ttest_ind(female, male, equal_var=False)\n",
    "print(\"Welch t-검정 결과:\", result_welch)\n",
    "\n",
    "# 5) 방향성 검정 (여학생 점수가 남학생보다 낮은지 / 높은지)\n",
    "print(\"여학생 < 남학생 :\", stats.ttest_ind(female, male, alternative='less'))\n",
    "print(\"여학생 > 남학생 :\", stats.ttest_ind(female, male, alternative='greater'))\n"
   ]
  },
  {
   "cell_type": "code",
   "execution_count": null,
   "id": "50040a90-ce56-4ec0-a4fb-40576a9f1a88",
   "metadata": {},
   "outputs": [],
   "source": []
  }
 ],
 "metadata": {
  "kernelspec": {
   "display_name": "Python 3 (ipykernel)",
   "language": "python",
   "name": "python3"
  },
  "language_info": {
   "codemirror_mode": {
    "name": "ipython",
    "version": 3
   },
   "file_extension": ".py",
   "mimetype": "text/x-python",
   "name": "python",
   "nbconvert_exporter": "python",
   "pygments_lexer": "ipython3",
   "version": "3.11.6"
  }
 },
 "nbformat": 4,
 "nbformat_minor": 5
}
