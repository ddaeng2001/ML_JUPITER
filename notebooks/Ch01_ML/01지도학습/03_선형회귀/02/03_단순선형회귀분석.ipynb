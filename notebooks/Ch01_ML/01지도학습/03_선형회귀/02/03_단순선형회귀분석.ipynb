{
 "cells": [
  {
   "cell_type": "markdown",
   "id": "3deb4417-7f61-4e6b-8c62-378d7d14c9d4",
   "metadata": {},
   "source": [
    "# 데이터 가져오기"
   ]
  },
  {
   "cell_type": "code",
   "execution_count": 1,
   "id": "be022fd7-347e-4322-81b6-64020e5d09fc",
   "metadata": {},
   "outputs": [
    {
     "data": {
      "text/html": [
       "<div>\n",
       "<style scoped>\n",
       "    .dataframe tbody tr th:only-of-type {\n",
       "        vertical-align: middle;\n",
       "    }\n",
       "\n",
       "    .dataframe tbody tr th {\n",
       "        vertical-align: top;\n",
       "    }\n",
       "\n",
       "    .dataframe thead th {\n",
       "        text-align: right;\n",
       "    }\n",
       "</style>\n",
       "<table border=\"1\" class=\"dataframe\">\n",
       "  <thead>\n",
       "    <tr style=\"text-align: right;\">\n",
       "      <th></th>\n",
       "      <th>키</th>\n",
       "      <th>몸무게</th>\n",
       "    </tr>\n",
       "  </thead>\n",
       "  <tbody>\n",
       "    <tr>\n",
       "      <th>0</th>\n",
       "      <td>150</td>\n",
       "      <td>42</td>\n",
       "    </tr>\n",
       "    <tr>\n",
       "      <th>1</th>\n",
       "      <td>160</td>\n",
       "      <td>50</td>\n",
       "    </tr>\n",
       "    <tr>\n",
       "      <th>2</th>\n",
       "      <td>170</td>\n",
       "      <td>70</td>\n",
       "    </tr>\n",
       "    <tr>\n",
       "      <th>3</th>\n",
       "      <td>175</td>\n",
       "      <td>64</td>\n",
       "    </tr>\n",
       "    <tr>\n",
       "      <th>4</th>\n",
       "      <td>165</td>\n",
       "      <td>56</td>\n",
       "    </tr>\n",
       "    <tr>\n",
       "      <th>5</th>\n",
       "      <td>155</td>\n",
       "      <td>48</td>\n",
       "    </tr>\n",
       "    <tr>\n",
       "      <th>6</th>\n",
       "      <td>172</td>\n",
       "      <td>68</td>\n",
       "    </tr>\n",
       "    <tr>\n",
       "      <th>7</th>\n",
       "      <td>168</td>\n",
       "      <td>60</td>\n",
       "    </tr>\n",
       "    <tr>\n",
       "      <th>8</th>\n",
       "      <td>174</td>\n",
       "      <td>65</td>\n",
       "    </tr>\n",
       "    <tr>\n",
       "      <th>9</th>\n",
       "      <td>158</td>\n",
       "      <td>52</td>\n",
       "    </tr>\n",
       "    <tr>\n",
       "      <th>10</th>\n",
       "      <td>162</td>\n",
       "      <td>54</td>\n",
       "    </tr>\n",
       "    <tr>\n",
       "      <th>11</th>\n",
       "      <td>173</td>\n",
       "      <td>67</td>\n",
       "    </tr>\n",
       "    <tr>\n",
       "      <th>12</th>\n",
       "      <td>156</td>\n",
       "      <td>49</td>\n",
       "    </tr>\n",
       "    <tr>\n",
       "      <th>13</th>\n",
       "      <td>159</td>\n",
       "      <td>51</td>\n",
       "    </tr>\n",
       "    <tr>\n",
       "      <th>14</th>\n",
       "      <td>167</td>\n",
       "      <td>58</td>\n",
       "    </tr>\n",
       "    <tr>\n",
       "      <th>15</th>\n",
       "      <td>163</td>\n",
       "      <td>55</td>\n",
       "    </tr>\n",
       "    <tr>\n",
       "      <th>16</th>\n",
       "      <td>171</td>\n",
       "      <td>69</td>\n",
       "    </tr>\n",
       "    <tr>\n",
       "      <th>17</th>\n",
       "      <td>169</td>\n",
       "      <td>61</td>\n",
       "    </tr>\n",
       "    <tr>\n",
       "      <th>18</th>\n",
       "      <td>176</td>\n",
       "      <td>66</td>\n",
       "    </tr>\n",
       "    <tr>\n",
       "      <th>19</th>\n",
       "      <td>161</td>\n",
       "      <td>53</td>\n",
       "    </tr>\n",
       "  </tbody>\n",
       "</table>\n",
       "</div>"
      ],
      "text/plain": [
       "      키  몸무게\n",
       "0   150   42\n",
       "1   160   50\n",
       "2   170   70\n",
       "3   175   64\n",
       "4   165   56\n",
       "5   155   48\n",
       "6   172   68\n",
       "7   168   60\n",
       "8   174   65\n",
       "9   158   52\n",
       "10  162   54\n",
       "11  173   67\n",
       "12  156   49\n",
       "13  159   51\n",
       "14  167   58\n",
       "15  163   55\n",
       "16  171   69\n",
       "17  169   61\n",
       "18  176   66\n",
       "19  161   53"
      ]
     },
     "execution_count": 1,
     "metadata": {},
     "output_type": "execute_result"
    }
   ],
   "source": [
    "import pandas as pd\n",
    "\n",
    "data = {\n",
    "    '키': [150, 160, 170, 175, 165, 155, 172, 168, 174, 158,\n",
    "          162, 173, 156, 159, 167, 163, 171, 169, 176, 161],\n",
    "    '몸무게': [42, 50, 70, 64, 56, 48, 68, 60, 65, 52,\n",
    "            54, 67, 49, 51, 58, 55, 69, 61, 66, 53]\n",
    "}\n",
    "df = pd.DataFrame(data)\n",
    "df"
   ]
  },
  {
   "cell_type": "markdown",
   "id": "a56d38bd-dbb8-4f65-97bd-8f125bf3cc83",
   "metadata": {},
   "source": []
  },
  {
   "cell_type": "code",
   "execution_count": 2,
   "id": "6c61343f-8d2c-48be-a8ce-2310f60b213c",
   "metadata": {},
   "outputs": [],
   "source": [
    "# OLS 확인\n",
    "# y값이 연속적으로 나오는 상황에서 추천\n",
    "# Ordinary Least Squares (최소제곱법)\n",
    "# 데이터의 실제값과 예측값의 차이(잔차)의 제곱합이 최소가 되도록 회귀선(선형식)을 찾는 통계적 방법"
   ]
  },
  {
   "cell_type": "code",
   "execution_count": 3,
   "id": "a54a94c5-ac10-4070-bb80-54d28933c4db",
   "metadata": {},
   "outputs": [
    {
     "name": "stdout",
     "output_type": "stream",
     "text": [
      "                            OLS Regression Results                            \n",
      "==============================================================================\n",
      "Dep. Variable:                      키   R-squared:                       0.892\n",
      "Model:                            OLS   Adj. R-squared:                  0.886\n",
      "Method:                 Least Squares   F-statistic:                     148.0\n",
      "Date:                Fri, 10 Oct 2025   Prob (F-statistic):           4.04e-10\n",
      "Time:                        01:24:08   Log-Likelihood:                -45.761\n",
      "No. Observations:                  20   AIC:                             95.52\n",
      "Df Residuals:                      18   BIC:                             97.51\n",
      "Df Model:                           1                                         \n",
      "Covariance Type:            nonrobust                                         \n",
      "==============================================================================\n",
      "                 coef    std err          t      P>|t|      [0.025      0.975]\n",
      "------------------------------------------------------------------------------\n",
      "Intercept    115.0676      4.158     27.671      0.000     106.331     123.804\n",
      "몸무게            0.8658      0.071     12.167      0.000       0.716       1.015\n",
      "==============================================================================\n",
      "Omnibus:                        0.985   Durbin-Watson:                   2.609\n",
      "Prob(Omnibus):                  0.611   Jarque-Bera (JB):                0.336\n",
      "Skew:                          -0.315   Prob(JB):                        0.845\n",
      "Kurtosis:                       3.082   Cond. No.                         432.\n",
      "==============================================================================\n",
      "\n",
      "Notes:\n",
      "[1] Standard Errors assume that the covariance matrix of the errors is correctly specified.\n"
     ]
    }
   ],
   "source": [
    "from statsmodels.formula.api import ols\n",
    "model = ols('키 ~ 몸무게', data=df).fit() # '키'를 '몸무게'로부터 예측하겠다\n",
    "print(model.summary())"
   ]
  },
  {
   "cell_type": "code",
   "execution_count": null,
   "id": "cddeee57-868c-43f6-afa7-c67bbb206cb3",
   "metadata": {},
   "outputs": [],
   "source": []
  },
  {
   "cell_type": "code",
   "execution_count": 4,
   "id": "56853e65-c23e-44c4-bab4-7f58e5bfd47a",
   "metadata": {},
   "outputs": [
    {
     "data": {
      "text/plain": [
       "0.8915914350087264"
      ]
     },
     "execution_count": 4,
     "metadata": {},
     "output_type": "execute_result"
    }
   ],
   "source": [
    "# 결정계수값 확인\n",
    "# : 모델이 데이터를 얼마나 잘 설명하는지를 나타내는 점수\n",
    "model.rsquared"
   ]
  },
  {
   "cell_type": "code",
   "execution_count": 6,
   "id": "4b9d439d-1206-4793-a665-98ae280307ac",
   "metadata": {},
   "outputs": [
    {
     "name": "stdout",
     "output_type": "stream",
     "text": [
      "기울기 :  0.8658438852380201\n",
      "절편 :  115.06763904471865\n"
     ]
    }
   ],
   "source": [
    "# 기울기 /절편 확인\n",
    "print(\"기울기 : \", model.params['몸무게']) # 베타1 # 몸무게(x)가 1kg 증가 -> 키 0.86cm 증가\n",
    "print(\"절편 : \", model.params['Intercept']) # 베타0 # 몸무게가 0kg -> 키 115cm"
   ]
  },
  {
   "cell_type": "code",
   "execution_count": 7,
   "id": "88332502-17f1-40b7-a79a-73a695f7224f",
   "metadata": {},
   "outputs": [
    {
     "name": "stdout",
     "output_type": "stream",
     "text": [
      "pvalue: 4.0379325599303615e-10\n",
      "pvalue: 0.0000000004\n"
     ]
    }
   ],
   "source": [
    "# p_value 확인 : 관계여부에 대한 확률\n",
    "# 관계정도 확률 / 0.05 미만 - 유의함(관계있음) / 0.05 이상 - 유의 x(관계가 없음) )\n",
    "print(\"pvalue:\", model.pvalues['몸무게'])\n",
    "print(\"pvalue:\", \"{:.10f}\".format(model.pvalues['몸무게']))"
   ]
  },
  {
   "cell_type": "code",
   "execution_count": null,
   "id": "455277db-bcfc-4910-9e18-547e24215a2a",
   "metadata": {},
   "outputs": [],
   "source": [
    "# pvalue: 4.0379325599303615e-10 # 0.00000000004 - 0.05보다 작다 -> 관계 있을 확률 높음 #몸무게(x) - 키(y) 영향준다\n",
    "# pvalue: 0.0000000004"
   ]
  },
  {
   "cell_type": "code",
   "execution_count": 9,
   "id": "8f022f8a-9642-4f5f-adb9-43a036d1bb74",
   "metadata": {},
   "outputs": [
    {
     "data": {
      "text/html": [
       "<div>\n",
       "<style scoped>\n",
       "    .dataframe tbody tr th:only-of-type {\n",
       "        vertical-align: middle;\n",
       "    }\n",
       "\n",
       "    .dataframe tbody tr th {\n",
       "        vertical-align: top;\n",
       "    }\n",
       "\n",
       "    .dataframe thead th {\n",
       "        text-align: right;\n",
       "    }\n",
       "</style>\n",
       "<table border=\"1\" class=\"dataframe\">\n",
       "  <thead>\n",
       "    <tr style=\"text-align: right;\">\n",
       "      <th></th>\n",
       "      <th>키</th>\n",
       "      <th>몸무게</th>\n",
       "      <th>잔차</th>\n",
       "    </tr>\n",
       "  </thead>\n",
       "  <tbody>\n",
       "    <tr>\n",
       "      <th>0</th>\n",
       "      <td>150</td>\n",
       "      <td>42</td>\n",
       "      <td>-1.433082</td>\n",
       "    </tr>\n",
       "    <tr>\n",
       "      <th>1</th>\n",
       "      <td>160</td>\n",
       "      <td>50</td>\n",
       "      <td>1.640167</td>\n",
       "    </tr>\n",
       "    <tr>\n",
       "      <th>2</th>\n",
       "      <td>170</td>\n",
       "      <td>70</td>\n",
       "      <td>-5.676711</td>\n",
       "    </tr>\n",
       "    <tr>\n",
       "      <th>3</th>\n",
       "      <td>175</td>\n",
       "      <td>64</td>\n",
       "      <td>4.518352</td>\n",
       "    </tr>\n",
       "    <tr>\n",
       "      <th>4</th>\n",
       "      <td>165</td>\n",
       "      <td>56</td>\n",
       "      <td>1.445103</td>\n",
       "    </tr>\n",
       "    <tr>\n",
       "      <th>5</th>\n",
       "      <td>155</td>\n",
       "      <td>48</td>\n",
       "      <td>-1.628146</td>\n",
       "    </tr>\n",
       "    <tr>\n",
       "      <th>6</th>\n",
       "      <td>172</td>\n",
       "      <td>68</td>\n",
       "      <td>-1.945023</td>\n",
       "    </tr>\n",
       "    <tr>\n",
       "      <th>7</th>\n",
       "      <td>168</td>\n",
       "      <td>60</td>\n",
       "      <td>0.981728</td>\n",
       "    </tr>\n",
       "    <tr>\n",
       "      <th>8</th>\n",
       "      <td>174</td>\n",
       "      <td>65</td>\n",
       "      <td>2.652508</td>\n",
       "    </tr>\n",
       "    <tr>\n",
       "      <th>9</th>\n",
       "      <td>158</td>\n",
       "      <td>52</td>\n",
       "      <td>-2.091521</td>\n",
       "    </tr>\n",
       "    <tr>\n",
       "      <th>10</th>\n",
       "      <td>162</td>\n",
       "      <td>54</td>\n",
       "      <td>0.176791</td>\n",
       "    </tr>\n",
       "    <tr>\n",
       "      <th>11</th>\n",
       "      <td>173</td>\n",
       "      <td>67</td>\n",
       "      <td>-0.079179</td>\n",
       "    </tr>\n",
       "    <tr>\n",
       "      <th>12</th>\n",
       "      <td>156</td>\n",
       "      <td>49</td>\n",
       "      <td>-1.493989</td>\n",
       "    </tr>\n",
       "    <tr>\n",
       "      <th>13</th>\n",
       "      <td>159</td>\n",
       "      <td>51</td>\n",
       "      <td>-0.225677</td>\n",
       "    </tr>\n",
       "    <tr>\n",
       "      <th>14</th>\n",
       "      <td>167</td>\n",
       "      <td>58</td>\n",
       "      <td>1.713416</td>\n",
       "    </tr>\n",
       "    <tr>\n",
       "      <th>15</th>\n",
       "      <td>163</td>\n",
       "      <td>55</td>\n",
       "      <td>0.310947</td>\n",
       "    </tr>\n",
       "    <tr>\n",
       "      <th>16</th>\n",
       "      <td>171</td>\n",
       "      <td>69</td>\n",
       "      <td>-3.810867</td>\n",
       "    </tr>\n",
       "    <tr>\n",
       "      <th>17</th>\n",
       "      <td>169</td>\n",
       "      <td>61</td>\n",
       "      <td>1.115884</td>\n",
       "    </tr>\n",
       "    <tr>\n",
       "      <th>18</th>\n",
       "      <td>176</td>\n",
       "      <td>66</td>\n",
       "      <td>3.786665</td>\n",
       "    </tr>\n",
       "    <tr>\n",
       "      <th>19</th>\n",
       "      <td>161</td>\n",
       "      <td>53</td>\n",
       "      <td>0.042635</td>\n",
       "    </tr>\n",
       "  </tbody>\n",
       "</table>\n",
       "</div>"
      ],
      "text/plain": [
       "      키  몸무게        잔차\n",
       "0   150   42 -1.433082\n",
       "1   160   50  1.640167\n",
       "2   170   70 -5.676711\n",
       "3   175   64  4.518352\n",
       "4   165   56  1.445103\n",
       "5   155   48 -1.628146\n",
       "6   172   68 -1.945023\n",
       "7   168   60  0.981728\n",
       "8   174   65  2.652508\n",
       "9   158   52 -2.091521\n",
       "10  162   54  0.176791\n",
       "11  173   67 -0.079179\n",
       "12  156   49 -1.493989\n",
       "13  159   51 -0.225677\n",
       "14  167   58  1.713416\n",
       "15  163   55  0.310947\n",
       "16  171   69 -3.810867\n",
       "17  169   61  1.115884\n",
       "18  176   66  3.786665\n",
       "19  161   53  0.042635"
      ]
     },
     "execution_count": 9,
     "metadata": {},
     "output_type": "execute_result"
    }
   ],
   "source": [
    "# 잔차확인\n",
    "# 잔차 : 결과의 오차\n",
    "# : 표본(sample)으로 추정한 회귀식과 실제 관측값의 차이\n",
    "df['잔차'] = df['키'] - model.predict(df)\n",
    "df"
   ]
  },
  {
   "cell_type": "code",
   "execution_count": null,
   "id": "0aa45973-06c7-4bff-bc8f-750b36c25c54",
   "metadata": {},
   "outputs": [],
   "source": []
  },
  {
   "cell_type": "code",
   "execution_count": 11,
   "id": "7a215b63-96ef-46a4-a810-1a9450c3fbf9",
   "metadata": {},
   "outputs": [
    {
     "data": {
      "text/plain": [
       "0    173.079179\n",
       "dtype: float64"
      ]
     },
     "execution_count": 11,
     "metadata": {},
     "output_type": "execute_result"
    }
   ],
   "source": [
    "# 몸무게(x)가 67kg일 때 예측 키(y)\n",
    "\n",
    "new_data = pd.DataFrame({'몸무게':[67]})\n",
    "new_data\n",
    "result = model.predict(new_data)\n",
    "result"
   ]
  },
  {
   "cell_type": "code",
   "execution_count": 15,
   "id": "d21e72bb-e890-4622-8e37-0eb1e4e5698c",
   "metadata": {},
   "outputs": [
    {
     "name": "stdout",
     "output_type": "stream",
     "text": [
      "신뢰구간:\n",
      " 0    0.716337\n",
      "1    1.015351\n",
      "Name: 몸무게, dtype: float64\n"
     ]
    }
   ],
   "source": [
    "# 신뢰구간 확인\n",
    "print(\"신뢰구간:\\n\", model.conf_int(alpha=0.05).loc['몸무게'])\n",
    "# alpha : 95% 신뢰구간에 한정해서 몸무게 구간의 사이값(기울기)확인"
   ]
  },
  {
   "cell_type": "code",
   "execution_count": null,
   "id": "13685e99-bb3f-43f4-a373-6f82ed3eec5e",
   "metadata": {},
   "outputs": [],
   "source": [
    "# 기울기값 0.71 ~ 1.0 사이(95%정도의 신뢰)\n",
    "0.716337\n",
    "~\n",
    "1.015351"
   ]
  },
  {
   "cell_type": "code",
   "execution_count": 17,
   "id": "4067778d-f00d-4dd3-b82e-1e1594325957",
   "metadata": {},
   "outputs": [
    {
     "data": {
      "text/html": [
       "<div>\n",
       "<style scoped>\n",
       "    .dataframe tbody tr th:only-of-type {\n",
       "        vertical-align: middle;\n",
       "    }\n",
       "\n",
       "    .dataframe tbody tr th {\n",
       "        vertical-align: top;\n",
       "    }\n",
       "\n",
       "    .dataframe thead th {\n",
       "        text-align: right;\n",
       "    }\n",
       "</style>\n",
       "<table border=\"1\" class=\"dataframe\">\n",
       "  <thead>\n",
       "    <tr style=\"text-align: right;\">\n",
       "      <th></th>\n",
       "      <th>mean</th>\n",
       "      <th>mean_se</th>\n",
       "      <th>mean_ci_lower</th>\n",
       "      <th>mean_ci_upper</th>\n",
       "      <th>obs_ci_lower</th>\n",
       "      <th>obs_ci_upper</th>\n",
       "    </tr>\n",
       "  </thead>\n",
       "  <tbody>\n",
       "    <tr>\n",
       "      <th>0</th>\n",
       "      <td>158.359833</td>\n",
       "      <td>0.794986</td>\n",
       "      <td>156.68963</td>\n",
       "      <td>160.030037</td>\n",
       "      <td>152.820798</td>\n",
       "      <td>163.898869</td>\n",
       "    </tr>\n",
       "  </tbody>\n",
       "</table>\n",
       "</div>"
      ],
      "text/plain": [
       "         mean   mean_se  mean_ci_lower  mean_ci_upper  obs_ci_lower  \\\n",
       "0  158.359833  0.794986      156.68963     160.030037    152.820798   \n",
       "\n",
       "   obs_ci_upper  \n",
       "0    163.898869  "
      ]
     },
     "execution_count": 17,
     "metadata": {},
     "output_type": "execute_result"
    }
   ],
   "source": [
    "new_data = pd.DataFrame({\"몸무게\": [50]})\n",
    "pred = model.get_prediction(new_data)\n",
    "result = pred.summary_frame(alpha=0.05) # 95%의 신뢰도 지님\n",
    "result\n",
    "# print(\"예측값의 신뢰구간과 예측구간:\\n\", result)"
   ]
  },
  {
   "cell_type": "code",
   "execution_count": 12,
   "id": "d33eca0f-b563-4839-8f31-0fa071d08805",
   "metadata": {},
   "outputs": [
    {
     "data": {
      "text/plain": [
       "113.74226638884431"
      ]
     },
     "execution_count": 12,
     "metadata": {},
     "output_type": "execute_result"
    }
   ],
   "source": [
    "# 잔차 제곱합(오차 전체 크기)\n",
    "SSR=sum(df['잔차']**2) \n",
    "SSR"
   ]
  },
  {
   "cell_type": "code",
   "execution_count": 13,
   "id": "b902780b-4278-430f-ba6f-a52d33a05e21",
   "metadata": {},
   "outputs": [
    {
     "data": {
      "text/plain": [
       "5.687113319442214"
      ]
     },
     "execution_count": 13,
     "metadata": {},
     "output_type": "execute_result"
    }
   ],
   "source": [
    "# MSE(잔차제곱의 평균)\n",
    "MSE = (df['잔차']**2).mean()\n",
    "MSE"
   ]
  },
  {
   "cell_type": "code",
   "execution_count": 14,
   "id": "aab20099-8fa7-4cb8-a6b0-143a341eed85",
   "metadata": {},
   "outputs": [
    {
     "name": "stdout",
     "output_type": "stream",
     "text": [
      "MSE : 5.687113319442214\n"
     ]
    }
   ],
   "source": [
    "from sklearn.metrics import mean_squared_error\n",
    "pred = model.predict(df['몸무게'])\n",
    "mse = mean_squared_error(df['키'], pred)\n",
    "print(\"MSE :\", mse)"
   ]
  },
  {
   "cell_type": "code",
   "execution_count": null,
   "id": "a9a7dcce-b193-4a80-ab0d-53b26a8160d8",
   "metadata": {},
   "outputs": [],
   "source": [
    "# <<결과값>>\n",
    "\n",
    "# 설명해주는 메타 데이터 값\n",
    "#                             OLS Regression Results                            \n",
    "# ==============================================================================\n",
    "# Dep. Variable(종속변수 y값):        키   R-squared(정확도):               0.892(모델의 설명정도 / 89% 설명력이 매우 높음)\n",
    "# Model(설명지표모델):               OLS   Adj. R-squared:                  0.886(모델의 설명정도 / x값이 많을 때도 적용되는 설명정도)\n",
    "# Method:                 Least Squares   F-statistic:                     148.0(F검정:모델 전체 유의성 검정, 값이 클수록 모델이 적합하다)\n",
    "# Date:                Fri, 10 Oct 2025   Prob (F-statistic):           4.04e-10(F검정의 p값 : 값이 작을수록 유의함(0.05이하)\n",
    "# Time:                        01:24:08   Log-Likelihood:                -45.761(로그우도값 : 모델의 적합도 지표/ 절대값 작을수록 좋음)\n",
    "# No. Observations(데이터개수):       20   AIC:                             95.52(모델 품질 지표/ 낮을수록 좋음)\n",
    "# Df Residuals(잔차자유도/데이터수(20)-회귀계수(2): 18   BIC:                97.51(베이지안 정보 기준 / 낮을수록 좋음)\n",
    "# Df Model:                           1(독립변수, x값, 현재는 몸무게)                                         \n",
    "# Covariance Type:            nonrobust(공분산 계산 방식 : 기본값(등분산 가정) / 공분산 : 변수들이 같이 변하는 정도 / 등분산: 븐신정도가 같다                                         \n",
    "# ==============================================================================\n",
    "\n",
    "# ★★★중요 포인트 ★★★\n",
    "# 결과값(하단부)\n",
    "#                  coef    std err          t      P>|t|      [0.025      0.975] - 신뢰도 : 0.975 - 0.025 = 95%\n",
    "# ------------------------------------------------------------------------------\n",
    "# Intercept    115.0676      4.158     27.671      0.000     106.331     123.804 = (범위 : 106.331 ~ 123.804)\n",
    "# 몸무게            0.8658      0.071     12.167      0.000       0.716       1.015\n",
    "# ==============================================================================\n",
    "# Omnibus:                        0.985   Durbin-Watson:                   2.609\n",
    "# Prob(Omnibus):                  0.611   Jarque-Bera (JB):                0.336\n",
    "# Skew:                          -0.315   Prob(JB):                        0.845\n",
    "# Kurtosis:                       3.082   Cond. No.                         432.\n",
    "# =============================================================================="
   ]
  },
  {
   "cell_type": "code",
   "execution_count": null,
   "id": "c0acfc99-2086-4899-bd10-f5672326bd8e",
   "metadata": {},
   "outputs": [],
   "source": [
    "# ======================= 회귀분석 주요 지표 설명 =======================\n",
    "\n",
    "# ① coef (회귀계수) - β₁(기울기)\n",
    "# → 독립변수가 1단위 증가할 때 종속변수가 얼마나 변하는지를 의미함.\n",
    "# 예: coef = 0.8658 → 몸무게가 1 증가할 때 키가 평균 0.8658 증가한다는 뜻.\n",
    "\n",
    "# ② std err (표준오차, Standard Error)\n",
    "# → 추정된 회귀계수(coef)가 얼마나 불확실한지를 보여주는 값.\n",
    "# → 값이 작을수록 추정이 안정적이고, 계수가 신뢰할 만함을 의미함.\n",
    "\n",
    "# ③ t (t-통계량)\n",
    "# → 회귀계수가 ‘0이 아니다’라는 가설을 검증하는 통계량.\n",
    "# → t값 = coef / std err 로 계산됨.\n",
    "# → 절댓값이 클수록 독립변수가 종속변수에 유의미한 영향을 미친다는 뜻.\n",
    "\n",
    "# ④ P>|t| (p값, 유의확률)\n",
    "# → t검정의 p값. \"이 변수가 실제로 영향이 없을 확률\"을 의미함.\n",
    "# → p < 0.05 → 통계적으로 유의함 (즉, 실제로 영향이 있다).\n",
    "# → p ≥ 0.05 → 통계적으로 유의하지 않음 (영향이 없을 가능성 큼).\n",
    "\n",
    "# ⑤ [0.025  0.975] (95% 신뢰구간)\n",
    "# → 회귀계수(coef)가 95% 확률로 포함될 범위.\n",
    "# → 예: [0.716, 1.015] → 계수는 0.716~1.015 사이일 가능성이 95%.\n",
    "# → 이 구간에 0이 포함되지 않으면, 그 변수는 유의하다고 볼 수 있음.\n",
    "\n",
    "# ======================= 한 줄 요약 =======================\n",
    "# coef : 영향의 크기(기울기)\n",
    "# std err : 계수의 불확실성\n",
    "# t : 영향의 통계적 강도\n",
    "# P>|t| : 영향의 유의성(p<0.05면 유의)\n",
    "# [0.025 0.975] : 계수가 존재할 95% 신뢰구간"
   ]
  },
  {
   "cell_type": "markdown",
   "id": "14dad995-7236-4b1e-a732-216ab014785d",
   "metadata": {},
   "source": [
    "# 1. OLS란?\n",
    "OLS는 최소제곱법(Ordinary Least Squares) 으로,\n",
    "데이터의 실제값과 예측값의 차이(잔차) 의 제곱합이 최소가 되도록\n",
    "회귀선(선형식) 을 찾는 통계적 방법이다.\n",
    "\n",
    "[ Y = β₀ + β₁X + ε ]\n",
    "\n",
    "Y: 종속변수 (예: 키)\n",
    "X: 독립변수 (예: 몸무게)\n",
    "β₀: 절편(intercept)\n",
    "β₁: 기울기(slope)\n",
    "ε: 오차항(residual) - 예측하지 못한 오류\n",
    "OLS는 다음 식을 최소화하도록 β₀, β₁을 찾는다.\n",
    "\n",
    "# 회귀분석 기본 개념 요약표\n",
    "\n",
    "| 구분 | 용어 | 뜻 (쉽게 설명) | 예시 |\n",
    "|------|------|----------------|------|\n",
    "| 1 | 회귀분석 (Regression) | 한 변수(Y)가 다른 변수(X)에 따라 어떻게 변하는지 관계를 찾는 방법 | 몸무게가 늘면 키도 커질까? |\n",
    "| 2 | 절편 (Intercept, β₀) | X=0일 때 Y의 예측값. 그래프가 y축과 만나는 점 | 몸무게 0kg일 때 키 약 115cm |\n",
    "| 3 | 회귀계수 (Coefficient, β₁) | X가 1 증가할 때 Y가 얼마나 변하는지. 그래프의 기울기 | 몸무게 1kg 늘면 키 0.87cm 증가 |\n",
    "| 4 | 잔차 (Residual) | 실제값 - 예측값 (오차) | 실제 키 170, 예측 168 → 잔차 = 2 |\n",
    "| 5 | 결정계수 (R²) | 모델이 데이터를 얼마나 잘 설명하는가 (0~1) | R²=0.89 → 89% 설명 가능 |\n",
    "| 6 | p-value (유의확률) | 변수가 Y에 진짜 영향을 주는지 판단 | p<0.05 → 진짜 영향 있음 |\n",
    "| 7 | F통계량 (F-statistic) | 전체 모델이 유의한지 검사 | F값 큼 + p<0.05 → 모델 유의함 |\n",
    "| 8 | Durbin-Watson | 오차 간의 상관 확인 (2에 가까울수록 좋음) | DW=2.0 → 잔차가 독립적 |\n",
    "| 9 | 정규성 검정 (Omnibus, JB) | 오차들이 무작위로 분포하는지 확인 | p>0.05 → 정규성 만족 |\n",
    "| 10 | 예측식 예시 | 회귀식 형태로 표현 | 키 = 115.07 + 0.87 × 몸무게 |"
   ]
  },
  {
   "cell_type": "code",
   "execution_count": null,
   "id": "971f1e3a-9654-455e-ae63-efc490fff5e2",
   "metadata": {},
   "outputs": [],
   "source": []
  }
 ],
 "metadata": {
  "kernelspec": {
   "display_name": "Python 3 (ipykernel)",
   "language": "python",
   "name": "python3"
  },
  "language_info": {
   "codemirror_mode": {
    "name": "ipython",
    "version": 3
   },
   "file_extension": ".py",
   "mimetype": "text/x-python",
   "name": "python",
   "nbconvert_exporter": "python",
   "pygments_lexer": "ipython3",
   "version": "3.11.6"
  }
 },
 "nbformat": 4,
 "nbformat_minor": 5
}
