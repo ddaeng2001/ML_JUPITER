{
 "cells": [
  {
   "cell_type": "markdown",
   "id": "aeecff05-7012-421d-bb53-a95ac2508636",
   "metadata": {},
   "source": [
    "# 1 문제정의\n",
    "### 나이(age) - 소득(income) 간의 로지스틱회귀\r\n",
    "### 나이가 증가하면할수록 소득이 높을 확률\r\n",
    "```, 1개)있음``"
   ]
  },
  {
   "cell_type": "markdown",
   "id": "0b0fbdef-d5a9-402e-8ae5-372b4fe69b45",
   "metadata": {},
   "source": [
    "# 2 라이브러리가져오기"
   ]
  },
  {
   "cell_type": "code",
   "execution_count": 1,
   "id": "aafc283d-4f5b-46a3-843b-31c5b3017db1",
   "metadata": {},
   "outputs": [
    {
     "data": {
      "text/html": [
       "<div>\n",
       "<style scoped>\n",
       "    .dataframe tbody tr th:only-of-type {\n",
       "        vertical-align: middle;\n",
       "    }\n",
       "\n",
       "    .dataframe tbody tr th {\n",
       "        vertical-align: top;\n",
       "    }\n",
       "\n",
       "    .dataframe thead th {\n",
       "        text-align: right;\n",
       "    }\n",
       "</style>\n",
       "<table border=\"1\" class=\"dataframe\">\n",
       "  <thead>\n",
       "    <tr style=\"text-align: right;\">\n",
       "      <th></th>\n",
       "      <th>id</th>\n",
       "      <th>age</th>\n",
       "      <th>workclass</th>\n",
       "      <th>fnlwgt</th>\n",
       "      <th>education</th>\n",
       "      <th>education.num</th>\n",
       "      <th>marital.status</th>\n",
       "      <th>occupation</th>\n",
       "      <th>relationship</th>\n",
       "      <th>race</th>\n",
       "      <th>sex</th>\n",
       "      <th>capital.gain</th>\n",
       "      <th>capital.loss</th>\n",
       "      <th>hours.per.week</th>\n",
       "      <th>native.country</th>\n",
       "      <th>income</th>\n",
       "    </tr>\n",
       "  </thead>\n",
       "  <tbody>\n",
       "    <tr>\n",
       "      <th>0</th>\n",
       "      <td>3331</td>\n",
       "      <td>34.0</td>\n",
       "      <td>State-gov</td>\n",
       "      <td>177331</td>\n",
       "      <td>Some-college</td>\n",
       "      <td>10</td>\n",
       "      <td>Married-civ-spouse</td>\n",
       "      <td>Prof-specialty</td>\n",
       "      <td>Husband</td>\n",
       "      <td>Black</td>\n",
       "      <td>Male</td>\n",
       "      <td>4386</td>\n",
       "      <td>0</td>\n",
       "      <td>40.0</td>\n",
       "      <td>United-States</td>\n",
       "      <td>&gt;50K</td>\n",
       "    </tr>\n",
       "    <tr>\n",
       "      <th>1</th>\n",
       "      <td>19749</td>\n",
       "      <td>58.0</td>\n",
       "      <td>Private</td>\n",
       "      <td>290661</td>\n",
       "      <td>HS-grad</td>\n",
       "      <td>9</td>\n",
       "      <td>Married-civ-spouse</td>\n",
       "      <td>Craft-repair</td>\n",
       "      <td>Husband</td>\n",
       "      <td>White</td>\n",
       "      <td>Male</td>\n",
       "      <td>0</td>\n",
       "      <td>0</td>\n",
       "      <td>40.0</td>\n",
       "      <td>United-States</td>\n",
       "      <td>&lt;=50K</td>\n",
       "    </tr>\n",
       "    <tr>\n",
       "      <th>2</th>\n",
       "      <td>1157</td>\n",
       "      <td>48.0</td>\n",
       "      <td>Private</td>\n",
       "      <td>125933</td>\n",
       "      <td>Some-college</td>\n",
       "      <td>10</td>\n",
       "      <td>Widowed</td>\n",
       "      <td>Exec-managerial</td>\n",
       "      <td>Unmarried</td>\n",
       "      <td>Black</td>\n",
       "      <td>Female</td>\n",
       "      <td>0</td>\n",
       "      <td>1669</td>\n",
       "      <td>38.0</td>\n",
       "      <td>United-States</td>\n",
       "      <td>&lt;=50K</td>\n",
       "    </tr>\n",
       "    <tr>\n",
       "      <th>3</th>\n",
       "      <td>693</td>\n",
       "      <td>58.0</td>\n",
       "      <td>Private</td>\n",
       "      <td>100313</td>\n",
       "      <td>Some-college</td>\n",
       "      <td>10</td>\n",
       "      <td>Married-civ-spouse</td>\n",
       "      <td>Protective-serv</td>\n",
       "      <td>Husband</td>\n",
       "      <td>White</td>\n",
       "      <td>Male</td>\n",
       "      <td>0</td>\n",
       "      <td>1902</td>\n",
       "      <td>40.0</td>\n",
       "      <td>United-States</td>\n",
       "      <td>&gt;50K</td>\n",
       "    </tr>\n",
       "    <tr>\n",
       "      <th>4</th>\n",
       "      <td>12522</td>\n",
       "      <td>41.0</td>\n",
       "      <td>Private</td>\n",
       "      <td>195661</td>\n",
       "      <td>Some-college</td>\n",
       "      <td>10</td>\n",
       "      <td>Married-civ-spouse</td>\n",
       "      <td>Transport-moving</td>\n",
       "      <td>Husband</td>\n",
       "      <td>White</td>\n",
       "      <td>Male</td>\n",
       "      <td>0</td>\n",
       "      <td>0</td>\n",
       "      <td>54.0</td>\n",
       "      <td>United-States</td>\n",
       "      <td>&lt;=50K</td>\n",
       "    </tr>\n",
       "    <tr>\n",
       "      <th>...</th>\n",
       "      <td>...</td>\n",
       "      <td>...</td>\n",
       "      <td>...</td>\n",
       "      <td>...</td>\n",
       "      <td>...</td>\n",
       "      <td>...</td>\n",
       "      <td>...</td>\n",
       "      <td>...</td>\n",
       "      <td>...</td>\n",
       "      <td>...</td>\n",
       "      <td>...</td>\n",
       "      <td>...</td>\n",
       "      <td>...</td>\n",
       "      <td>...</td>\n",
       "      <td>...</td>\n",
       "      <td>...</td>\n",
       "    </tr>\n",
       "    <tr>\n",
       "      <th>29299</th>\n",
       "      <td>15999</td>\n",
       "      <td>28.0</td>\n",
       "      <td>Private</td>\n",
       "      <td>47168</td>\n",
       "      <td>10th</td>\n",
       "      <td>6</td>\n",
       "      <td>Never-married</td>\n",
       "      <td>Machine-op-inspct</td>\n",
       "      <td>Own-child</td>\n",
       "      <td>White</td>\n",
       "      <td>Female</td>\n",
       "      <td>0</td>\n",
       "      <td>0</td>\n",
       "      <td>40.0</td>\n",
       "      <td>United-States</td>\n",
       "      <td>&lt;=50K</td>\n",
       "    </tr>\n",
       "    <tr>\n",
       "      <th>29300</th>\n",
       "      <td>21604</td>\n",
       "      <td>44.0</td>\n",
       "      <td>Local-gov</td>\n",
       "      <td>231793</td>\n",
       "      <td>Doctorate</td>\n",
       "      <td>16</td>\n",
       "      <td>Married-spouse-absent</td>\n",
       "      <td>Prof-specialty</td>\n",
       "      <td>Unmarried</td>\n",
       "      <td>White</td>\n",
       "      <td>Female</td>\n",
       "      <td>0</td>\n",
       "      <td>0</td>\n",
       "      <td>38.0</td>\n",
       "      <td>United-States</td>\n",
       "      <td>&lt;=50K</td>\n",
       "    </tr>\n",
       "    <tr>\n",
       "      <th>29301</th>\n",
       "      <td>26839</td>\n",
       "      <td>41.0</td>\n",
       "      <td>Local-gov</td>\n",
       "      <td>201435</td>\n",
       "      <td>HS-grad</td>\n",
       "      <td>9</td>\n",
       "      <td>Married-civ-spouse</td>\n",
       "      <td>Transport-moving</td>\n",
       "      <td>Husband</td>\n",
       "      <td>Black</td>\n",
       "      <td>Male</td>\n",
       "      <td>0</td>\n",
       "      <td>0</td>\n",
       "      <td>40.0</td>\n",
       "      <td>United-States</td>\n",
       "      <td>&lt;=50K</td>\n",
       "    </tr>\n",
       "    <tr>\n",
       "      <th>29302</th>\n",
       "      <td>16681</td>\n",
       "      <td>43.0</td>\n",
       "      <td>Private</td>\n",
       "      <td>137722</td>\n",
       "      <td>HS-grad</td>\n",
       "      <td>9</td>\n",
       "      <td>Married-civ-spouse</td>\n",
       "      <td>Handlers-cleaners</td>\n",
       "      <td>Husband</td>\n",
       "      <td>White</td>\n",
       "      <td>Male</td>\n",
       "      <td>0</td>\n",
       "      <td>0</td>\n",
       "      <td>40.0</td>\n",
       "      <td>United-States</td>\n",
       "      <td>&lt;=50K</td>\n",
       "    </tr>\n",
       "    <tr>\n",
       "      <th>29303</th>\n",
       "      <td>16069</td>\n",
       "      <td>22.0</td>\n",
       "      <td>Private</td>\n",
       "      <td>406978</td>\n",
       "      <td>Bachelors</td>\n",
       "      <td>13</td>\n",
       "      <td>Never-married</td>\n",
       "      <td>Exec-managerial</td>\n",
       "      <td>Other-relative</td>\n",
       "      <td>White</td>\n",
       "      <td>Female</td>\n",
       "      <td>0</td>\n",
       "      <td>0</td>\n",
       "      <td>40.0</td>\n",
       "      <td>United-States</td>\n",
       "      <td>&lt;=50K</td>\n",
       "    </tr>\n",
       "  </tbody>\n",
       "</table>\n",
       "<p>29304 rows × 16 columns</p>\n",
       "</div>"
      ],
      "text/plain": [
       "          id   age  workclass  fnlwgt     education  education.num  \\\n",
       "0       3331  34.0  State-gov  177331  Some-college             10   \n",
       "1      19749  58.0    Private  290661       HS-grad              9   \n",
       "2       1157  48.0    Private  125933  Some-college             10   \n",
       "3        693  58.0    Private  100313  Some-college             10   \n",
       "4      12522  41.0    Private  195661  Some-college             10   \n",
       "...      ...   ...        ...     ...           ...            ...   \n",
       "29299  15999  28.0    Private   47168          10th              6   \n",
       "29300  21604  44.0  Local-gov  231793     Doctorate             16   \n",
       "29301  26839  41.0  Local-gov  201435       HS-grad              9   \n",
       "29302  16681  43.0    Private  137722       HS-grad              9   \n",
       "29303  16069  22.0    Private  406978     Bachelors             13   \n",
       "\n",
       "              marital.status         occupation    relationship   race  \\\n",
       "0         Married-civ-spouse     Prof-specialty         Husband  Black   \n",
       "1         Married-civ-spouse       Craft-repair         Husband  White   \n",
       "2                    Widowed    Exec-managerial       Unmarried  Black   \n",
       "3         Married-civ-spouse    Protective-serv         Husband  White   \n",
       "4         Married-civ-spouse   Transport-moving         Husband  White   \n",
       "...                      ...                ...             ...    ...   \n",
       "29299          Never-married  Machine-op-inspct       Own-child  White   \n",
       "29300  Married-spouse-absent     Prof-specialty       Unmarried  White   \n",
       "29301     Married-civ-spouse   Transport-moving         Husband  Black   \n",
       "29302     Married-civ-spouse  Handlers-cleaners         Husband  White   \n",
       "29303          Never-married    Exec-managerial  Other-relative  White   \n",
       "\n",
       "          sex  capital.gain  capital.loss  hours.per.week native.country  \\\n",
       "0        Male          4386             0            40.0  United-States   \n",
       "1        Male             0             0            40.0  United-States   \n",
       "2      Female             0          1669            38.0  United-States   \n",
       "3        Male             0          1902            40.0  United-States   \n",
       "4        Male             0             0            54.0  United-States   \n",
       "...       ...           ...           ...             ...            ...   \n",
       "29299  Female             0             0            40.0  United-States   \n",
       "29300  Female             0             0            38.0  United-States   \n",
       "29301    Male             0             0            40.0  United-States   \n",
       "29302    Male             0             0            40.0  United-States   \n",
       "29303  Female             0             0            40.0  United-States   \n",
       "\n",
       "      income  \n",
       "0       >50K  \n",
       "1      <=50K  \n",
       "2      <=50K  \n",
       "3       >50K  \n",
       "4      <=50K  \n",
       "...      ...  \n",
       "29299  <=50K  \n",
       "29300  <=50K  \n",
       "29301  <=50K  \n",
       "29302  <=50K  \n",
       "29303  <=50K  \n",
       "\n",
       "[29304 rows x 16 columns]"
      ]
     },
     "execution_count": 1,
     "metadata": {},
     "output_type": "execute_result"
    }
   ],
   "source": [
    "# 판다스 라이브러리\n",
    "import pandas as pd\n",
    "\n",
    "# 데이터 불러오기\n",
    "train = pd.read_csv('인구조사DataSet/train.csv')\n",
    "test = pd.read_csv('인구조사DataSet/test.csv')\n",
    "\n",
    "train"
   ]
  },
  {
   "cell_type": "markdown",
   "id": "346adc0a-31fa-4a9f-a4f5-7c76b2c76de3",
   "metadata": {},
   "source": [
    "# 탐색적 데이터 분석(EDA)"
   ]
  },
  {
   "cell_type": "code",
   "execution_count": 2,
   "id": "f14692ca-668a-445c-8ada-01b94e58de4f",
   "metadata": {},
   "outputs": [
    {
     "name": "stdout",
     "output_type": "stream",
     "text": [
      "<class 'pandas.core.frame.DataFrame'>\n",
      "RangeIndex: 29304 entries, 0 to 29303\n",
      "Data columns (total 16 columns):\n",
      " #   Column          Non-Null Count  Dtype  \n",
      "---  ------          --------------  -----  \n",
      " 0   id              29304 non-null  int64  \n",
      " 1   age             29292 non-null  float64\n",
      " 2   workclass       27642 non-null  object \n",
      " 3   fnlwgt          29304 non-null  int64  \n",
      " 4   education       29304 non-null  object \n",
      " 5   education.num   29304 non-null  int64  \n",
      " 6   marital.status  29304 non-null  object \n",
      " 7   occupation      27636 non-null  object \n",
      " 8   relationship    29304 non-null  object \n",
      " 9   race            29304 non-null  object \n",
      " 10  sex             29304 non-null  object \n",
      " 11  capital.gain    29304 non-null  int64  \n",
      " 12  capital.loss    29304 non-null  int64  \n",
      " 13  hours.per.week  29291 non-null  float64\n",
      " 14  native.country  28767 non-null  object \n",
      " 15  income          29304 non-null  object \n",
      "dtypes: float64(2), int64(5), object(9)\n",
      "memory usage: 3.6+ MB\n"
     ]
    },
    {
     "data": {
      "text/plain": [
       "income\n",
       "<=50K    22263\n",
       ">50K      7041\n",
       "Name: count, dtype: int64"
      ]
     },
     "execution_count": 2,
     "metadata": {},
     "output_type": "execute_result"
    }
   ],
   "source": [
    "# 데이터 샘플\n",
    "train.head(3)\n",
    "# 데이터 크기\n",
    "train.shape, test.shape\n",
    "# 자료형 (타입)\n",
    "train.info()\n",
    "# 수치형 컬럼 통계값 확인(train)\n",
    "train.describe()\n",
    "# 수치형 컬럼 통계값 확인(test)\n",
    "test.describe()\n",
    "# 범주형 컬럼 통계값 확인 (train)\n",
    "train.describe(include='O')\n",
    "# 범주형 컬럼 통계값 확인 (test)\n",
    "test.describe(include='object')\n",
    "# 결측치 (train)\n",
    "train.isnull().sum()\n",
    "# 결측치 (test)\n",
    "test.isnull().sum()\n",
    "# label(target)별 개수 확인\n",
    "train['income'].value_counts()"
   ]
  },
  {
   "cell_type": "code",
   "execution_count": 3,
   "id": "449c780a-a5f7-452e-b33a-f830a3c04478",
   "metadata": {},
   "outputs": [],
   "source": [
    "# 데이터 전처리"
   ]
  },
  {
   "cell_type": "code",
   "execution_count": 4,
   "id": "d4b09bce-64bf-4844-9878-92d8efea1fab",
   "metadata": {},
   "outputs": [
    {
     "name": "stdout",
     "output_type": "stream",
     "text": [
      "처리전: (29304, 16)\n",
      "처리후: (27096, 16)\n"
     ]
    }
   ],
   "source": [
    "# 결측치가 있는 데이터(행) 전체 삭제 및 확인 dropna() / 기본값 axis=0\n",
    "print(\"처리전:\", train.shape)\n",
    "df = train.dropna()\n",
    "print(\"처리후:\", df.shape)"
   ]
  },
  {
   "cell_type": "code",
   "execution_count": 5,
   "id": "80f63e6f-4917-4b37-b5fe-016958a9adb7",
   "metadata": {},
   "outputs": [
    {
     "data": {
      "text/plain": [
       "id                 0\n",
       "age               12\n",
       "workclass          0\n",
       "fnlwgt             0\n",
       "education          0\n",
       "education.num      0\n",
       "marital.status     0\n",
       "occupation         6\n",
       "relationship       0\n",
       "race               0\n",
       "sex                0\n",
       "capital.gain       0\n",
       "capital.loss       0\n",
       "hours.per.week    13\n",
       "native.country     0\n",
       "income             0\n",
       "dtype: int64"
      ]
     },
     "execution_count": 5,
     "metadata": {},
     "output_type": "execute_result"
    }
   ],
   "source": [
    "# 결측치가 있는 특정컬럼 데이터(행)삭제\n",
    "df = train.dropna(subset=['native.country','workclass'])\n",
    "df.isnull().sum()\n"
   ]
  },
  {
   "cell_type": "code",
   "execution_count": 6,
   "id": "1fc5a55b-05b0-41e0-ad8c-73a16319e4ba",
   "metadata": {},
   "outputs": [
    {
     "name": "stdout",
     "output_type": "stream",
     "text": [
      "처리전: (29304, 16)\n",
      "처리후: (29304, 11)\n"
     ]
    }
   ],
   "source": [
    "# 결측치가 있는 컬럼 삭제 dropna(axis=1)\n",
    "print(\"처리전:\", train.shape)\n",
    "df = train.dropna(axis=1)\n",
    "print(\"처리후:\", df.shape)"
   ]
  },
  {
   "cell_type": "code",
   "execution_count": 7,
   "id": "5b56506f-d216-4aa8-920b-4badae0c206e",
   "metadata": {},
   "outputs": [
    {
     "name": "stdout",
     "output_type": "stream",
     "text": [
      "처리전: (29304, 16)\n",
      "처리후: (29304, 14)\n"
     ]
    }
   ],
   "source": [
    "# 결측치가 많은 특정 컬럼 삭제 drop\n",
    "print(\"처리전:\", train.shape)\n",
    "df = train.drop(['native.country','workclass'], axis=1)\n",
    "print(\"처리후:\", df.shape)"
   ]
  },
  {
   "cell_type": "code",
   "execution_count": 8,
   "id": "2df79318-48bb-4d4d-9de6-b5a5e7ce93e8",
   "metadata": {},
   "outputs": [
    {
     "data": {
      "text/plain": [
       "id                   0\n",
       "age                 12\n",
       "workclass            0\n",
       "fnlwgt               0\n",
       "education            0\n",
       "education.num        0\n",
       "marital.status       0\n",
       "occupation        1668\n",
       "relationship         0\n",
       "race                 0\n",
       "sex                  0\n",
       "capital.gain         0\n",
       "capital.loss         0\n",
       "hours.per.week      13\n",
       "native.country       0\n",
       "income               0\n",
       "dtype: int64"
      ]
     },
     "execution_count": 8,
     "metadata": {},
     "output_type": "execute_result"
    }
   ],
   "source": [
    "# 최빈값\n",
    "m = train['workclass'].mode()[0]\n",
    "train['workclass'] = train['workclass'].fillna(m)\n",
    "\n",
    "m = train['native.country'].mode()[0]\n",
    "train['native.country'] = train['native.country'].fillna(m)\n",
    "\n",
    "train.isnull().sum()"
   ]
  },
  {
   "cell_type": "code",
   "execution_count": 9,
   "id": "2eb0bc0d-6c4a-4b58-a230-586cafe11d6f",
   "metadata": {},
   "outputs": [
    {
     "data": {
      "text/plain": [
       "id                 0\n",
       "age               12\n",
       "workclass          0\n",
       "fnlwgt             0\n",
       "education          0\n",
       "education.num      0\n",
       "marital.status     0\n",
       "occupation         0\n",
       "relationship       0\n",
       "race               0\n",
       "sex                0\n",
       "capital.gain       0\n",
       "capital.loss       0\n",
       "hours.per.week    13\n",
       "native.country     0\n",
       "income             0\n",
       "dtype: int64"
      ]
     },
     "execution_count": 9,
     "metadata": {},
     "output_type": "execute_result"
    }
   ],
   "source": [
    "# 결측값을 새로운 카테고리로 생성 X_train['occupation']\n",
    "train['occupation'] = train['occupation'].fillna('X')\n",
    "train.isnull().sum()"
   ]
  },
  {
   "cell_type": "code",
   "execution_count": 10,
   "id": "c0ef1160-9264-4a70-873d-0e105340086f",
   "metadata": {},
   "outputs": [],
   "source": [
    "# test데이터\n",
    "test['workclass'] = test['workclass'].fillna(train['workclass'].mode()[0])\n",
    "test['native.country']  = test['native.country'].fillna(train['native.country'].mode()[0])\n",
    "test['occupation'] = test['occupation'].fillna(\"X\")"
   ]
  },
  {
   "cell_type": "code",
   "execution_count": 11,
   "id": "3fb8c3b1-1306-4b36-a593-6e57b8f71d1e",
   "metadata": {},
   "outputs": [
    {
     "name": "stdout",
     "output_type": "stream",
     "text": [
      "평균값: 38\n"
     ]
    }
   ],
   "source": [
    "# age 컬럼 평균값으로 채우기\n",
    "value = int(train['age'].mean())\n",
    "print(\"평균값:\", value)\n",
    "train['age'] = train['age'].fillna(value)\n",
    "test['age'] = test['age'].fillna(value)"
   ]
  },
  {
   "cell_type": "code",
   "execution_count": 12,
   "id": "9bed9396-7f1e-4ec7-b5df-c9256a04dbef",
   "metadata": {},
   "outputs": [
    {
     "name": "stdout",
     "output_type": "stream",
     "text": [
      "중앙값: 40\n"
     ]
    }
   ],
   "source": [
    "# 주당 근무시간 중앙값으로 채우기\n",
    "value = int(train['hours.per.week'].median())\n",
    "print(\"중앙값:\", value)\n",
    "train['hours.per.week'] = train['hours.per.week'].fillna(value)\n",
    "test['hours.per.week'] = test['hours.per.week'].fillna(value)"
   ]
  },
  {
   "cell_type": "code",
   "execution_count": 13,
   "id": "5ce764fe-5ecd-407c-9173-5371e6c78030",
   "metadata": {},
   "outputs": [],
   "source": [
    "## 이상치 처리"
   ]
  },
  {
   "cell_type": "code",
   "execution_count": 14,
   "id": "79c17a09-a777-4a30-9fc2-7e449a9afd8e",
   "metadata": {},
   "outputs": [
    {
     "name": "stdout",
     "output_type": "stream",
     "text": [
      "(29304, 16)\n",
      "(29301, 16)\n"
     ]
    }
   ],
   "source": [
    "# age가 1이상인 데이터만 살림\n",
    "print(train.shape)\n",
    "train = train[train['age']>0]\n",
    "print(train.shape)"
   ]
  },
  {
   "cell_type": "code",
   "execution_count": 15,
   "id": "c4474657-f979-42ab-82e1-3746f5b11339",
   "metadata": {},
   "outputs": [],
   "source": [
    "# ------------------------------------------------------------\n",
    "# [문제] 로지스틱 회귀 TEST\n",
    "# ------------------------------------------------------------\n",
    "### 나이(age) - 소득(income) 간의 로지스틱회귀\n",
    "### 나이가 증가하면할수록 소득이 높을 확률"
   ]
  },
  {
   "cell_type": "code",
   "execution_count": null,
   "id": "f666903b-e587-4333-9e48-8e90cc59852c",
   "metadata": {},
   "outputs": [],
   "source": []
  },
  {
   "cell_type": "code",
   "execution_count": null,
   "id": "c0c85eed-e43b-4569-a40b-9db1efb16ab2",
   "metadata": {},
   "outputs": [],
   "source": []
  }
 ],
 "metadata": {
  "kernelspec": {
   "display_name": "Python 3 (ipykernel)",
   "language": "python",
   "name": "python3"
  },
  "language_info": {
   "codemirror_mode": {
    "name": "ipython",
    "version": 3
   },
   "file_extension": ".py",
   "mimetype": "text/x-python",
   "name": "python",
   "nbconvert_exporter": "python",
   "pygments_lexer": "ipython3",
   "version": "3.11.6"
  }
 },
 "nbformat": 4,
 "nbformat_minor": 5
}
