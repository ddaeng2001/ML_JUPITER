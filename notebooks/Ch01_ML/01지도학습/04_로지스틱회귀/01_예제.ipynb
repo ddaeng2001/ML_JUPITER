{
 "cells": [
  {
   "cell_type": "code",
   "execution_count": null,
   "id": "7b557334-c3ec-4b6b-98af-99a596c99ed9",
   "metadata": {},
   "outputs": [],
   "source": [
    "# ---------------------------------------------------------\n",
    "# 로지스틱 회귀(Logistic Regression) - 범주형 예측\n",
    "# ---------------------------------------------------------\n",
    "# - Y가 \"점수 자체\"가 아니라 \"합격/불합격\"처럼 **범주형(0/1)** 일 때 사용\n",
    "# - 예) 시험 점수(Y)를 바로 예측하는 게 아니라,\n",
    "# \"합격(1) / 불합격(0)\"을 예측\n",
    "# - 공식적으로는 선형결과를 S자 곡선(시그모이드 함수)에 통과시켜 00~1 확률로 변환\n",
    "\n",
    "# 예시:\n",
    "# - 공부시간 20시간 → 합격 확률 80% (Y=1일 가능성 높음)\n",
    "# - 공부시간 2시간 → 합격확률 10% (Y=0일 가능성 높음)"
   ]
  },
  {
   "cell_type": "code",
   "execution_count": 2,
   "id": "59cff7c5-3efe-442e-b4ce-7b0862c81cc3",
   "metadata": {},
   "outputs": [
    {
     "data": {
      "text/html": [
       "<div>\n",
       "<style scoped>\n",
       "    .dataframe tbody tr th:only-of-type {\n",
       "        vertical-align: middle;\n",
       "    }\n",
       "\n",
       "    .dataframe tbody tr th {\n",
       "        vertical-align: top;\n",
       "    }\n",
       "\n",
       "    .dataframe thead th {\n",
       "        text-align: right;\n",
       "    }\n",
       "</style>\n",
       "<table border=\"1\" class=\"dataframe\">\n",
       "  <thead>\n",
       "    <tr style=\"text-align: right;\">\n",
       "      <th></th>\n",
       "      <th>age</th>\n",
       "      <th>bmi</th>\n",
       "      <th>smoker</th>\n",
       "      <th>activity_level</th>\n",
       "      <th>disease</th>\n",
       "    </tr>\n",
       "  </thead>\n",
       "  <tbody>\n",
       "    <tr>\n",
       "      <th>0</th>\n",
       "      <td>62</td>\n",
       "      <td>35.179089</td>\n",
       "      <td>0</td>\n",
       "      <td>0</td>\n",
       "      <td>1</td>\n",
       "    </tr>\n",
       "    <tr>\n",
       "      <th>1</th>\n",
       "      <td>65</td>\n",
       "      <td>18.576042</td>\n",
       "      <td>0</td>\n",
       "      <td>2</td>\n",
       "      <td>1</td>\n",
       "    </tr>\n",
       "    <tr>\n",
       "      <th>2</th>\n",
       "      <td>71</td>\n",
       "      <td>33.178426</td>\n",
       "      <td>0</td>\n",
       "      <td>1</td>\n",
       "      <td>1</td>\n",
       "    </tr>\n",
       "    <tr>\n",
       "      <th>3</th>\n",
       "      <td>18</td>\n",
       "      <td>37.063007</td>\n",
       "      <td>1</td>\n",
       "      <td>2</td>\n",
       "      <td>0</td>\n",
       "    </tr>\n",
       "    <tr>\n",
       "      <th>4</th>\n",
       "      <td>21</td>\n",
       "      <td>17.613266</td>\n",
       "      <td>0</td>\n",
       "      <td>0</td>\n",
       "      <td>0</td>\n",
       "    </tr>\n",
       "    <tr>\n",
       "      <th>...</th>\n",
       "      <td>...</td>\n",
       "      <td>...</td>\n",
       "      <td>...</td>\n",
       "      <td>...</td>\n",
       "      <td>...</td>\n",
       "    </tr>\n",
       "    <tr>\n",
       "      <th>995</th>\n",
       "      <td>75</td>\n",
       "      <td>23.600372</td>\n",
       "      <td>0</td>\n",
       "      <td>2</td>\n",
       "      <td>1</td>\n",
       "    </tr>\n",
       "    <tr>\n",
       "      <th>996</th>\n",
       "      <td>24</td>\n",
       "      <td>9.659333</td>\n",
       "      <td>0</td>\n",
       "      <td>2</td>\n",
       "      <td>0</td>\n",
       "    </tr>\n",
       "    <tr>\n",
       "      <th>997</th>\n",
       "      <td>37</td>\n",
       "      <td>25.959939</td>\n",
       "      <td>0</td>\n",
       "      <td>0</td>\n",
       "      <td>0</td>\n",
       "    </tr>\n",
       "    <tr>\n",
       "      <th>998</th>\n",
       "      <td>52</td>\n",
       "      <td>25.356929</td>\n",
       "      <td>0</td>\n",
       "      <td>1</td>\n",
       "      <td>1</td>\n",
       "    </tr>\n",
       "    <tr>\n",
       "      <th>999</th>\n",
       "      <td>68</td>\n",
       "      <td>25.375065</td>\n",
       "      <td>0</td>\n",
       "      <td>0</td>\n",
       "      <td>1</td>\n",
       "    </tr>\n",
       "  </tbody>\n",
       "</table>\n",
       "<p>1000 rows × 5 columns</p>\n",
       "</div>"
      ],
      "text/plain": [
       "     age        bmi  smoker  activity_level  disease\n",
       "0     62  35.179089       0               0        1\n",
       "1     65  18.576042       0               2        1\n",
       "2     71  33.178426       0               1        1\n",
       "3     18  37.063007       1               2        0\n",
       "4     21  17.613266       0               0        0\n",
       "..   ...        ...     ...             ...      ...\n",
       "995   75  23.600372       0               2        1\n",
       "996   24   9.659333       0               2        0\n",
       "997   37  25.959939       0               0        0\n",
       "998   52  25.356929       0               1        1\n",
       "999   68  25.375065       0               0        1\n",
       "\n",
       "[1000 rows x 5 columns]"
      ]
     },
     "execution_count": 2,
     "metadata": {},
     "output_type": "execute_result"
    }
   ],
   "source": [
    "# -----------------------------\n",
    "# 불러오기\n",
    "# -----------------------------\n",
    "import pandas as pd\n",
    "\n",
    "df = pd.read_csv(\"health_survey.csv\")\n",
    "#df = pd.read_csv(\"https://raw.githubusercontent.com/lovedlim/bigdata_analyst_cert/main/part3/ch5/health_survey.csv\")\n",
    "df"
   ]
  },
  {
   "cell_type": "code",
   "execution_count": 3,
   "id": "d83346a0-2755-4fee-80ba-46c937b6cbc9",
   "metadata": {},
   "outputs": [
    {
     "name": "stdout",
     "output_type": "stream",
     "text": [
      "Optimization terminated successfully.\n",
      "         Current function value: 0.643725\n",
      "         Iterations 5\n"
     ]
    }
   ],
   "source": [
    "# 모델 학습\n",
    "from statsmodels.formula.api import logit\n",
    "model = logit('disease ~ age + bmi', data=df).fit()"
   ]
  },
  {
   "cell_type": "code",
   "execution_count": 5,
   "id": "35916bab-86c2-4e25-b4f0-1c22c4125ebf",
   "metadata": {},
   "outputs": [
    {
     "name": "stdout",
     "output_type": "stream",
     "text": [
      "                           Logit Regression Results                           \n",
      "==============================================================================\n",
      "Dep. Variable:                disease   No. Observations:                 1000\n",
      "Model:                          Logit   Df Residuals:                      997\n",
      "Method:                           MLE   Df Model:                            2\n",
      "Date:                Mon, 13 Oct 2025   Pseudo R-squ.:                 0.04996\n",
      "Time:                        02:24:34   Log-Likelihood:                -643.72\n",
      "converged:                       True   LL-Null:                       -677.58\n",
      "Covariance Type:            nonrobust   LLR p-value:                 1.984e-15\n",
      "==============================================================================\n",
      "                 coef    std err          z      P>|z|      [0.025      0.975]\n",
      "------------------------------------------------------------------------------\n",
      "Intercept     -1.8700      0.289     -6.482      0.000      -2.435      -1.305\n",
      "age            0.0177      0.004      4.747      0.000       0.010       0.025\n",
      "bmi            0.0563      0.009      6.418      0.000       0.039       0.074\n",
      "==============================================================================\n"
     ]
    }
   ],
   "source": [
    "print(model.summary())"
   ]
  },
  {
   "cell_type": "code",
   "execution_count": null,
   "id": "25021f2d-9080-457b-97d2-9a55836ee244",
   "metadata": {},
   "outputs": [],
   "source": [
    "# coef : 회귀계수\n",
    "# → 변수(예: 나이, BMI)가 결과(병이 생길 확률)에 얼마나 영향을 주는지 숫자로 나타냄\n",
    "# → 값이 양수면 \"값이 커질수록 병이 생길 확률이 올라감\"\n",
    "# → 값이 음수면 \"값이 커질수록 병이 생길 확률이 줄어듦\"\n",
    "\n",
    "# P>|z| : 유의확률(p-value)\n",
    "# → 이 변수가 진짜 영향을 주는지, 아니면 우연인지 구분하는 기준\n",
    "# → 값이 0.05보다 작으면 \"진짜로 영향 있음\"이라고 믿을 수 있음\n",
    "# → 값이 0.05보다 크면 \"확실하지 않음, 우연일 수 있음\"\n",
    "\n",
    "# exp(coef) : 오즈비(Odds Ratio, 비율)\n",
    "# → 변수가 1만큼 커질 때, 병이 생길 확률이 몇 배로 바뀌는지 보여줌\n",
    "# → 예: exp(coef)=1.2 → 나이가 1살 늘면 병 생길 확률이 1.2배 (20% 증가)\n",
    "# → exp(coef)=0.8 → BMI가 1 줄면 병 생길 확률이 0.8배 (20% 감소)\n"
   ]
  },
  {
   "cell_type": "code",
   "execution_count": 8,
   "id": "9fc0234e-8804-472d-b91c-8f1832e0ca1d",
   "metadata": {},
   "outputs": [
    {
     "name": "stdout",
     "output_type": "stream",
     "text": [
      "0.056333879687088535\n",
      "1.057950853075076\n"
     ]
    }
   ],
   "source": [
    "# 오즈비값 확인\n",
    "import numpy as np\n",
    "print(model.params['bmi']) # 회귀계수(coef)확인\n",
    "print(np.exp(model.params['bmi'])) # 오즈비(Ratio) 확인\n",
    "\n",
    "# 결과값 : 1.057950853075076\n",
    "# -> bmi 높으면 높을수록 질병에 걸릴 확률 높다"
   ]
  },
  {
   "cell_type": "code",
   "execution_count": 9,
   "id": "397c700d-a45e-49c4-9764-dd21994f6d17",
   "metadata": {},
   "outputs": [
    {
     "name": "stdout",
     "output_type": "stream",
     "text": [
      "0.017705261174417463\n",
      "1.0178629284499419\n"
     ]
    }
   ],
   "source": [
    "import numpy as np\n",
    "print(model.params['age']) # 회귀계수(coef)확인\n",
    "print(np.exp(model.params['age'])) # 오즈비(Ratio) 확인\n",
    "\n",
    "# 결과값 : 1.0178629284499419\n",
    "# -> age가 높으면 높을 수록 질병에 걸릴 확률 높다"
   ]
  },
  {
   "cell_type": "code",
   "execution_count": null,
   "id": "8462a90f-2125-4c87-989e-e02aeead5257",
   "metadata": {},
   "outputs": [],
   "source": []
  },
  {
   "cell_type": "code",
   "execution_count": 11,
   "id": "e411bf4e-5a35-497c-83f4-33107730d3c7",
   "metadata": {},
   "outputs": [
    {
     "data": {
      "text/plain": [
       "0.7155602793085757"
      ]
     },
     "execution_count": 11,
     "metadata": {},
     "output_type": "execute_result"
    }
   ],
   "source": [
    "# 질병 확률 확인\n",
    "X_new = pd.DataFrame([{\"age\": 40, \"bmi\": 37.0}])\n",
    "pred = model.predict(X_new) [0] # 0번째 인덱스\n",
    "pred #결과값 : 71%\n",
    "\n",
    "# 선형이기 떄문에 나이가 올라가면 질병에 걸릴 확률이 높아짐\n",
    "# ++ bmi 지수가 낮아지면 질병에 걸릴 확률이 낮아짐"
   ]
  },
  {
   "cell_type": "code",
   "execution_count": null,
   "id": "48095876-cf58-4b96-bad2-4851c0d6d943",
   "metadata": {},
   "outputs": [],
   "source": []
  }
 ],
 "metadata": {
  "kernelspec": {
   "display_name": "Python 3 (ipykernel)",
   "language": "python",
   "name": "python3"
  },
  "language_info": {
   "codemirror_mode": {
    "name": "ipython",
    "version": 3
   },
   "file_extension": ".py",
   "mimetype": "text/x-python",
   "name": "python",
   "nbconvert_exporter": "python",
   "pygments_lexer": "ipython3",
   "version": "3.11.6"
  }
 },
 "nbformat": 4,
 "nbformat_minor": 5
}
