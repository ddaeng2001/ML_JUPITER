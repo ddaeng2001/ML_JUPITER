{
 "cells": [
  {
   "cell_type": "markdown",
   "id": "4caface4-c085-47b3-b796-9fca084ad927",
   "metadata": {},
   "source": [
    "# 문제정의\n",
    "## 고객별 신용등급 분류\n",
    "## Column : Credit_Score - 타깃 변수(y), 신용등급(1=Bad, 2=Standard, 3=Good)\n",
    "## 타깃(라벨, y값) : Credit_Score"
   ]
  },
  {
   "cell_type": "code",
   "execution_count": 1,
   "id": "3bf86d53-78aa-4e00-8ed9-e2e35a1faa70",
   "metadata": {},
   "outputs": [],
   "source": [
    "#----------------------\n",
    "# 라이브러리 가져오기\n",
    "#----------------------"
   ]
  },
  {
   "cell_type": "code",
   "execution_count": 10,
   "id": "fd0ffbd0-37c5-4b94-b60f-2fc67412fefd",
   "metadata": {},
   "outputs": [],
   "source": [
    "# 판다스 라이브러리\n",
    "import pandas as pd\n",
    "\n",
    "# 데이터 불러오기\n",
    "train = pd.read_csv('./train.csv')\n",
    "test = pd.read_csv('./test.csv')\n",
    "\n"
   ]
  },
  {
   "cell_type": "code",
   "execution_count": 3,
   "id": "395363ea-120e-457a-94a1-e648162e3beb",
   "metadata": {},
   "outputs": [],
   "source": [
    "#----------------------\n",
    "# EDA(데이터 전처리)\n",
    "#----------------------"
   ]
  },
  {
   "cell_type": "code",
   "execution_count": 4,
   "id": "03b51b89-3c52-4924-9a5f-093863fa154c",
   "metadata": {},
   "outputs": [
    {
     "data": {
      "text/html": [
       "<div>\n",
       "<style scoped>\n",
       "    .dataframe tbody tr th:only-of-type {\n",
       "        vertical-align: middle;\n",
       "    }\n",
       "\n",
       "    .dataframe tbody tr th {\n",
       "        vertical-align: top;\n",
       "    }\n",
       "\n",
       "    .dataframe thead th {\n",
       "        text-align: right;\n",
       "    }\n",
       "</style>\n",
       "<table border=\"1\" class=\"dataframe\">\n",
       "  <thead>\n",
       "    <tr style=\"text-align: right;\">\n",
       "      <th></th>\n",
       "      <th>Delay_from_due_date</th>\n",
       "      <th>Num_of_Delayed_Payment</th>\n",
       "      <th>Num_Credit_Inquiries</th>\n",
       "      <th>Credit_Utilization_Ratio</th>\n",
       "      <th>Credit_History_Age</th>\n",
       "      <th>Payment_of_Min_Amount</th>\n",
       "      <th>Amount_invested_monthly</th>\n",
       "      <th>Monthly_Balance</th>\n",
       "      <th>Credit_Score</th>\n",
       "      <th>Credit_Mix</th>\n",
       "      <th>...</th>\n",
       "      <th>Age</th>\n",
       "      <th>Annual_Income</th>\n",
       "      <th>Num_Bank_Accounts</th>\n",
       "      <th>Num_Credit_Card</th>\n",
       "      <th>Interest_Rate</th>\n",
       "      <th>Num_of_Loan</th>\n",
       "      <th>Monthly_Inhand_Salary</th>\n",
       "      <th>Changed_Credit_Limit</th>\n",
       "      <th>Outstanding_Debt</th>\n",
       "      <th>Total_EMI_per_month</th>\n",
       "    </tr>\n",
       "  </thead>\n",
       "  <tbody>\n",
       "    <tr>\n",
       "      <th>534</th>\n",
       "      <td>15.0</td>\n",
       "      <td>20.0</td>\n",
       "      <td>2.0</td>\n",
       "      <td>40.399486</td>\n",
       "      <td>216.0</td>\n",
       "      <td>No</td>\n",
       "      <td>55.731786</td>\n",
       "      <td>553.585773</td>\n",
       "      <td>2</td>\n",
       "      <td>Standard</td>\n",
       "      <td>...</td>\n",
       "      <td>32.0</td>\n",
       "      <td>62031.06</td>\n",
       "      <td>4.0</td>\n",
       "      <td>4.0</td>\n",
       "      <td>7.0</td>\n",
       "      <td>4.0</td>\n",
       "      <td>5295.255000</td>\n",
       "      <td>1.35</td>\n",
       "      <td>46.37</td>\n",
       "      <td>160.207941</td>\n",
       "    </tr>\n",
       "    <tr>\n",
       "      <th>7009</th>\n",
       "      <td>64.0</td>\n",
       "      <td>15.0</td>\n",
       "      <td>11.0</td>\n",
       "      <td>34.190154</td>\n",
       "      <td>13.0</td>\n",
       "      <td>Yes</td>\n",
       "      <td>459.710411</td>\n",
       "      <td>78.820641</td>\n",
       "      <td>2</td>\n",
       "      <td>Bad</td>\n",
       "      <td>...</td>\n",
       "      <td>39.0</td>\n",
       "      <td>64551.12</td>\n",
       "      <td>6.0</td>\n",
       "      <td>9.0</td>\n",
       "      <td>29.0</td>\n",
       "      <td>6.0</td>\n",
       "      <td>5393.260000</td>\n",
       "      <td>19.42</td>\n",
       "      <td>3462.33</td>\n",
       "      <td>290.794948</td>\n",
       "    </tr>\n",
       "    <tr>\n",
       "      <th>7144</th>\n",
       "      <td>23.0</td>\n",
       "      <td>23.0</td>\n",
       "      <td>9.0</td>\n",
       "      <td>33.363182</td>\n",
       "      <td>132.0</td>\n",
       "      <td>Yes</td>\n",
       "      <td>116.998572</td>\n",
       "      <td>212.673420</td>\n",
       "      <td>2</td>\n",
       "      <td>Bad</td>\n",
       "      <td>...</td>\n",
       "      <td>44.0</td>\n",
       "      <td>15712.65</td>\n",
       "      <td>10.0</td>\n",
       "      <td>7.0</td>\n",
       "      <td>22.0</td>\n",
       "      <td>9.0</td>\n",
       "      <td>1195.387500</td>\n",
       "      <td>16.94</td>\n",
       "      <td>2540.41</td>\n",
       "      <td>79.866759</td>\n",
       "    </tr>\n",
       "    <tr>\n",
       "      <th>1951</th>\n",
       "      <td>35.0</td>\n",
       "      <td>16.0</td>\n",
       "      <td>7.0</td>\n",
       "      <td>32.243428</td>\n",
       "      <td>68.0</td>\n",
       "      <td>Yes</td>\n",
       "      <td>44.033525</td>\n",
       "      <td>337.569344</td>\n",
       "      <td>2</td>\n",
       "      <td>Bad</td>\n",
       "      <td>...</td>\n",
       "      <td>27.0</td>\n",
       "      <td>20487.10</td>\n",
       "      <td>8.0</td>\n",
       "      <td>10.0</td>\n",
       "      <td>20.0</td>\n",
       "      <td>3.0</td>\n",
       "      <td>1622.258333</td>\n",
       "      <td>8.75</td>\n",
       "      <td>2654.31</td>\n",
       "      <td>30.622965</td>\n",
       "    </tr>\n",
       "    <tr>\n",
       "      <th>2343</th>\n",
       "      <td>21.0</td>\n",
       "      <td>10.0</td>\n",
       "      <td>7.0</td>\n",
       "      <td>25.799908</td>\n",
       "      <td>125.0</td>\n",
       "      <td>Yes</td>\n",
       "      <td>87.468593</td>\n",
       "      <td>332.490698</td>\n",
       "      <td>1</td>\n",
       "      <td>Standard</td>\n",
       "      <td>...</td>\n",
       "      <td>30.0</td>\n",
       "      <td>20521.36</td>\n",
       "      <td>10.0</td>\n",
       "      <td>8.0</td>\n",
       "      <td>17.0</td>\n",
       "      <td>3.0</td>\n",
       "      <td>1721.113333</td>\n",
       "      <td>9.94</td>\n",
       "      <td>1896.78</td>\n",
       "      <td>42.152042</td>\n",
       "    </tr>\n",
       "  </tbody>\n",
       "</table>\n",
       "<p>5 rows × 21 columns</p>\n",
       "</div>"
      ],
      "text/plain": [
       "      Delay_from_due_date  Num_of_Delayed_Payment  Num_Credit_Inquiries  \\\n",
       "534                  15.0                    20.0                   2.0   \n",
       "7009                 64.0                    15.0                  11.0   \n",
       "7144                 23.0                    23.0                   9.0   \n",
       "1951                 35.0                    16.0                   7.0   \n",
       "2343                 21.0                    10.0                   7.0   \n",
       "\n",
       "      Credit_Utilization_Ratio  Credit_History_Age Payment_of_Min_Amount  \\\n",
       "534                  40.399486               216.0                    No   \n",
       "7009                 34.190154                13.0                   Yes   \n",
       "7144                 33.363182               132.0                   Yes   \n",
       "1951                 32.243428                68.0                   Yes   \n",
       "2343                 25.799908               125.0                   Yes   \n",
       "\n",
       "      Amount_invested_monthly  Monthly_Balance  Credit_Score Credit_Mix  ...  \\\n",
       "534                 55.731786       553.585773             2   Standard  ...   \n",
       "7009               459.710411        78.820641             2        Bad  ...   \n",
       "7144               116.998572       212.673420             2        Bad  ...   \n",
       "1951                44.033525       337.569344             2        Bad  ...   \n",
       "2343                87.468593       332.490698             1   Standard  ...   \n",
       "\n",
       "       Age  Annual_Income  Num_Bank_Accounts  Num_Credit_Card  Interest_Rate  \\\n",
       "534   32.0       62031.06                4.0              4.0            7.0   \n",
       "7009  39.0       64551.12                6.0              9.0           29.0   \n",
       "7144  44.0       15712.65               10.0              7.0           22.0   \n",
       "1951  27.0       20487.10                8.0             10.0           20.0   \n",
       "2343  30.0       20521.36               10.0              8.0           17.0   \n",
       "\n",
       "      Num_of_Loan  Monthly_Inhand_Salary  Changed_Credit_Limit  \\\n",
       "534           4.0            5295.255000                  1.35   \n",
       "7009          6.0            5393.260000                 19.42   \n",
       "7144          9.0            1195.387500                 16.94   \n",
       "1951          3.0            1622.258333                  8.75   \n",
       "2343          3.0            1721.113333                  9.94   \n",
       "\n",
       "      Outstanding_Debt  Total_EMI_per_month  \n",
       "534              46.37           160.207941  \n",
       "7009           3462.33           290.794948  \n",
       "7144           2540.41            79.866759  \n",
       "1951           2654.31            30.622965  \n",
       "2343           1896.78            42.152042  \n",
       "\n",
       "[5 rows x 21 columns]"
      ]
     },
     "execution_count": 4,
     "metadata": {},
     "output_type": "execute_result"
    }
   ],
   "source": [
    "train.head()\n",
    "train.tail()\n",
    "train.sample(5)\n",
    "\n",
    "# Credit_score가 인코딩이 되어있는 상태라 y값을 따로 정의할 필요는 없을 듯!"
   ]
  },
  {
   "cell_type": "code",
   "execution_count": 5,
   "id": "2544b7f0-0f20-4874-89ee-b7412feaecfd",
   "metadata": {},
   "outputs": [
    {
     "data": {
      "text/plain": [
       "((10000, 21), (10000, 20))"
      ]
     },
     "execution_count": 5,
     "metadata": {},
     "output_type": "execute_result"
    }
   ],
   "source": [
    "train.shape, test.shape"
   ]
  },
  {
   "cell_type": "code",
   "execution_count": 6,
   "id": "e49c1805-7e72-4c53-b1e9-9e1db38aae01",
   "metadata": {},
   "outputs": [
    {
     "data": {
      "text/plain": [
       "Credit_Score\n",
       "2               5237\n",
       "1               2978\n",
       "3               1785\n",
       "Name: count, dtype: int64"
      ]
     },
     "execution_count": 6,
     "metadata": {},
     "output_type": "execute_result"
    }
   ],
   "source": [
    "# train의 y값 확인\n",
    "train['Credit_Score']\n",
    "\n",
    "# 표형태로 볼려면\n",
    "train[['Credit_Score']]\n",
    "\n",
    "# 얼마나 카운팅되어있는지 확인\n",
    "train[['Credit_Score']].value_counts()"
   ]
  },
  {
   "cell_type": "code",
   "execution_count": 7,
   "id": "23386030-5c8b-48b1-ad9c-ef4ddf31fd1a",
   "metadata": {},
   "outputs": [
    {
     "name": "stdout",
     "output_type": "stream",
     "text": [
      "<class 'pandas.core.frame.DataFrame'>\n",
      "RangeIndex: 10000 entries, 0 to 9999\n",
      "Data columns (total 21 columns):\n",
      " #   Column                    Non-Null Count  Dtype  \n",
      "---  ------                    --------------  -----  \n",
      " 0   Delay_from_due_date       10000 non-null  float64\n",
      " 1   Num_of_Delayed_Payment    10000 non-null  float64\n",
      " 2   Num_Credit_Inquiries      10000 non-null  float64\n",
      " 3   Credit_Utilization_Ratio  10000 non-null  float64\n",
      " 4   Credit_History_Age        10000 non-null  float64\n",
      " 5   Payment_of_Min_Amount     10000 non-null  object \n",
      " 6   Amount_invested_monthly   10000 non-null  float64\n",
      " 7   Monthly_Balance           10000 non-null  float64\n",
      " 8   Credit_Score              10000 non-null  int64  \n",
      " 9   Credit_Mix                10000 non-null  object \n",
      " 10  Payment_Behaviour         10000 non-null  object \n",
      " 11  Age                       10000 non-null  float64\n",
      " 12  Annual_Income             10000 non-null  float64\n",
      " 13  Num_Bank_Accounts         10000 non-null  float64\n",
      " 14  Num_Credit_Card           10000 non-null  float64\n",
      " 15  Interest_Rate             10000 non-null  float64\n",
      " 16  Num_of_Loan               10000 non-null  float64\n",
      " 17  Monthly_Inhand_Salary     10000 non-null  float64\n",
      " 18  Changed_Credit_Limit      10000 non-null  float64\n",
      " 19  Outstanding_Debt          10000 non-null  float64\n",
      " 20  Total_EMI_per_month       10000 non-null  float64\n",
      "dtypes: float64(17), int64(1), object(3)\n",
      "memory usage: 1.6+ MB\n",
      "<class 'pandas.core.frame.DataFrame'>\n",
      "RangeIndex: 10000 entries, 0 to 9999\n",
      "Data columns (total 20 columns):\n",
      " #   Column                    Non-Null Count  Dtype  \n",
      "---  ------                    --------------  -----  \n",
      " 0   Delay_from_due_date       10000 non-null  float64\n",
      " 1   Num_of_Delayed_Payment    10000 non-null  float64\n",
      " 2   Num_Credit_Inquiries      10000 non-null  float64\n",
      " 3   Credit_Utilization_Ratio  10000 non-null  float64\n",
      " 4   Credit_History_Age        10000 non-null  float64\n",
      " 5   Payment_of_Min_Amount     10000 non-null  object \n",
      " 6   Amount_invested_monthly   10000 non-null  float64\n",
      " 7   Monthly_Balance           10000 non-null  float64\n",
      " 8   Credit_Mix                10000 non-null  object \n",
      " 9   Payment_Behaviour         10000 non-null  object \n",
      " 10  Age                       10000 non-null  float64\n",
      " 11  Annual_Income             10000 non-null  float64\n",
      " 12  Num_Bank_Accounts         10000 non-null  float64\n",
      " 13  Num_Credit_Card           10000 non-null  float64\n",
      " 14  Interest_Rate             10000 non-null  float64\n",
      " 15  Num_of_Loan               10000 non-null  float64\n",
      " 16  Monthly_Inhand_Salary     10000 non-null  float64\n",
      " 17  Changed_Credit_Limit      10000 non-null  float64\n",
      " 18  Outstanding_Debt          10000 non-null  float64\n",
      " 19  Total_EMI_per_month       10000 non-null  float64\n",
      "dtypes: float64(17), object(3)\n",
      "memory usage: 1.5+ MB\n"
     ]
    }
   ],
   "source": [
    "# 범주형/수치형 구성 확인\n",
    "train.info()\n",
    "test.info()\n",
    "# --> 결측치 X, 결측치 처리 필요 없음"
   ]
  },
  {
   "cell_type": "code",
   "execution_count": 8,
   "id": "61555db4-55f0-41aa-875d-f95f55939a2e",
   "metadata": {},
   "outputs": [
    {
     "data": {
      "text/html": [
       "<div>\n",
       "<style scoped>\n",
       "    .dataframe tbody tr th:only-of-type {\n",
       "        vertical-align: middle;\n",
       "    }\n",
       "\n",
       "    .dataframe tbody tr th {\n",
       "        vertical-align: top;\n",
       "    }\n",
       "\n",
       "    .dataframe thead th {\n",
       "        text-align: right;\n",
       "    }\n",
       "</style>\n",
       "<table border=\"1\" class=\"dataframe\">\n",
       "  <thead>\n",
       "    <tr style=\"text-align: right;\">\n",
       "      <th></th>\n",
       "      <th>Payment_of_Min_Amount</th>\n",
       "      <th>Credit_Mix</th>\n",
       "      <th>Payment_Behaviour</th>\n",
       "    </tr>\n",
       "  </thead>\n",
       "  <tbody>\n",
       "    <tr>\n",
       "      <th>count</th>\n",
       "      <td>10000</td>\n",
       "      <td>10000</td>\n",
       "      <td>10000</td>\n",
       "    </tr>\n",
       "    <tr>\n",
       "      <th>unique</th>\n",
       "      <td>3</td>\n",
       "      <td>3</td>\n",
       "      <td>6</td>\n",
       "    </tr>\n",
       "    <tr>\n",
       "      <th>top</th>\n",
       "      <td>Yes</td>\n",
       "      <td>Standard</td>\n",
       "      <td>Low_spent_Small_value_payments</td>\n",
       "    </tr>\n",
       "    <tr>\n",
       "      <th>freq</th>\n",
       "      <td>5167</td>\n",
       "      <td>4590</td>\n",
       "      <td>3498</td>\n",
       "    </tr>\n",
       "  </tbody>\n",
       "</table>\n",
       "</div>"
      ],
      "text/plain": [
       "       Payment_of_Min_Amount Credit_Mix               Payment_Behaviour\n",
       "count                  10000      10000                           10000\n",
       "unique                     3          3                               6\n",
       "top                      Yes   Standard  Low_spent_Small_value_payments\n",
       "freq                    5167       4590                            3498"
      ]
     },
     "execution_count": 8,
     "metadata": {},
     "output_type": "execute_result"
    }
   ],
   "source": [
    "# 이상치 확인\n",
    "train.describe()\n",
    "test.describe()\n",
    "\n",
    "# 범주형 이상치 확인\n",
    "train.describe(include='O')\n",
    "test.describe(include='O')"
   ]
  },
  {
   "cell_type": "code",
   "execution_count": 11,
   "id": "c233dfa4-6caf-41be-92af-bf8fca2835c9",
   "metadata": {},
   "outputs": [
    {
     "data": {
      "text/plain": [
       "Credit_Score\n",
       "2    5237\n",
       "1    2978\n",
       "3    1785\n",
       "Name: count, dtype: int64"
      ]
     },
     "execution_count": 11,
     "metadata": {},
     "output_type": "execute_result"
    }
   ],
   "source": [
    "# 라벨(정답, y값) 분리\n",
    "# 학습시켜야하는 모델의 파라미터로 전달\n",
    "# y_train = train.pop(\"Credit_Score\")\n",
    "y_train\n",
    "\n",
    "y_train.value_counts()"
   ]
  },
  {
   "cell_type": "code",
   "execution_count": null,
   "id": "27f24851-e7e0-4351-8cd7-9baf823070ec",
   "metadata": {},
   "outputs": [],
   "source": [
    "# 기존 레이블 인코딩\n",
    "\n",
    "# from sklearn.preprocessing import LabelEncoder\n",
    "# cols = train.columns[train.dtypes == object] # 범주형 -> 수치형\n",
    "\n",
    "# for col in cols:\n",
    "#     le = LabelEncoder()\n",
    "\n",
    "#     #피팅되는 경우가 안 맞는 경우 각 행마다 이동할 때 train,text행을 합치기\n",
    "#     le.fit(pd.concat([train[col],test[col]] ,axis=0)) # axis=0 행합치기, axis=1 열합치기\n",
    "\n",
    "#     #따로 분리\n",
    "#     train[col] = le.transform(train[col])\n",
    "#     test[col] = le.transform(test[col])"
   ]
  },
  {
   "cell_type": "markdown",
   "id": "9179e70f-6802-4562-a65e-401b6f83ab71",
   "metadata": {},
   "source": [
    "#### 인코딩대체방법(범주형 type -> category로 변경)"
   ]
  },
  {
   "cell_type": "code",
   "execution_count": 13,
   "id": "af5e0180-e4e6-4a9e-93e9-7cce1624220d",
   "metadata": {},
   "outputs": [
    {
     "name": "stdout",
     "output_type": "stream",
     "text": [
      "<class 'pandas.core.frame.DataFrame'>\n",
      "RangeIndex: 10000 entries, 0 to 9999\n",
      "Data columns (total 20 columns):\n",
      " #   Column                    Non-Null Count  Dtype  \n",
      "---  ------                    --------------  -----  \n",
      " 0   Delay_from_due_date       10000 non-null  float64\n",
      " 1   Num_of_Delayed_Payment    10000 non-null  float64\n",
      " 2   Num_Credit_Inquiries      10000 non-null  float64\n",
      " 3   Credit_Utilization_Ratio  10000 non-null  float64\n",
      " 4   Credit_History_Age        10000 non-null  float64\n",
      " 5   Payment_of_Min_Amount     10000 non-null  object \n",
      " 6   Amount_invested_monthly   10000 non-null  float64\n",
      " 7   Monthly_Balance           10000 non-null  float64\n",
      " 8   Credit_Mix                10000 non-null  object \n",
      " 9   Payment_Behaviour         10000 non-null  object \n",
      " 10  Age                       10000 non-null  float64\n",
      " 11  Annual_Income             10000 non-null  float64\n",
      " 12  Num_Bank_Accounts         10000 non-null  float64\n",
      " 13  Num_Credit_Card           10000 non-null  float64\n",
      " 14  Interest_Rate             10000 non-null  float64\n",
      " 15  Num_of_Loan               10000 non-null  float64\n",
      " 16  Monthly_Inhand_Salary     10000 non-null  float64\n",
      " 17  Changed_Credit_Limit      10000 non-null  float64\n",
      " 18  Outstanding_Debt          10000 non-null  float64\n",
      " 19  Total_EMI_per_month       10000 non-null  float64\n",
      "dtypes: float64(17), object(3)\n",
      "memory usage: 1.5+ MB\n",
      "<class 'pandas.core.frame.DataFrame'>\n",
      "RangeIndex: 10000 entries, 0 to 9999\n",
      "Data columns (total 21 columns):\n",
      " #   Column                    Non-Null Count  Dtype   \n",
      "---  ------                    --------------  -----   \n",
      " 0   Delay_from_due_date       10000 non-null  float64 \n",
      " 1   Num_of_Delayed_Payment    10000 non-null  float64 \n",
      " 2   Num_Credit_Inquiries      10000 non-null  float64 \n",
      " 3   Credit_Utilization_Ratio  10000 non-null  float64 \n",
      " 4   Credit_History_Age        10000 non-null  float64 \n",
      " 5   Payment_of_Min_Amount     10000 non-null  category\n",
      " 6   Amount_invested_monthly   10000 non-null  float64 \n",
      " 7   Monthly_Balance           10000 non-null  float64 \n",
      " 8   Credit_Mix                10000 non-null  object  \n",
      " 9   Payment_Behaviour         10000 non-null  category\n",
      " 10  Age                       10000 non-null  float64 \n",
      " 11  Annual_Income             10000 non-null  float64 \n",
      " 12  Num_Bank_Accounts         10000 non-null  float64 \n",
      " 13  Num_Credit_Card           10000 non-null  float64 \n",
      " 14  Interest_Rate             10000 non-null  float64 \n",
      " 15  Num_of_Loan               10000 non-null  float64 \n",
      " 16  Monthly_Inhand_Salary     10000 non-null  float64 \n",
      " 17  Changed_Credit_Limit      10000 non-null  float64 \n",
      " 18  Outstanding_Debt          10000 non-null  float64 \n",
      " 19  Total_EMI_per_month       10000 non-null  float64 \n",
      " 20  Credit_Mix                10000 non-null  category\n",
      "dtypes: category(3), float64(17), object(1)\n",
      "memory usage: 1.4+ MB\n"
     ]
    }
   ],
   "source": [
    "train.info()\n",
    "# category로 Dtype(데이터 타입) 변경\n",
    "train['Payment_of_Min_Amount'] = train['Payment_of_Min_Amount'].astype('category')\n",
    "train['Credit_Mix '] = train['Credit_Mix'].astype('category')\n",
    "train['Payment_Behaviour'] = train['Payment_Behaviour'].astype('category')\n",
    "\n",
    "test['Payment_of_Min_Amount'] = train['Payment_of_Min_Amount'].astype('category')\n",
    "test['Credit_Mix '] = train['Credit_Mix'].astype('category')\n",
    "test['Payment_Behaviour'] = train['Payment_Behaviour'].astype('category')\n",
    "\n",
    "train.info()"
   ]
  },
  {
   "cell_type": "code",
   "execution_count": null,
   "id": "6d42db5e-8a5a-4e5b-9bd4-4e1238eb6ab9",
   "metadata": {},
   "outputs": [],
   "source": [
    "#문자형 -> 숫자형으로 변환\n",
    "train\n",
    "test"
   ]
  },
  {
   "cell_type": "code",
   "execution_count": null,
   "id": "e19efdda-e344-45e5-84bc-2f08b14154bc",
   "metadata": {},
   "outputs": [],
   "source": [
    "#------------------------\n",
    "# 검증 데이터 분할\n",
    "#------------------------"
   ]
  },
  {
   "cell_type": "code",
   "execution_count": null,
   "id": "384042c0-b8d0-428d-ad66-ce070b442e46",
   "metadata": {},
   "outputs": [],
   "source": [
    "from sklearn.model_selection import train_test_split\n",
    "\n",
    "X_train, X_val, y_train, y_val = train_test_split(\n",
    "    train,\n",
    "    y_train, #target 위치\n",
    "    test_size=0.2,\n",
    "    random_state=0)"
   ]
  },
  {
   "cell_type": "code",
   "execution_count": null,
   "id": "f32bd0db-4d6a-4290-9750-d94e3e5f70b3",
   "metadata": {},
   "outputs": [],
   "source": [
    "X_train, X_val, y_train, y_val\n",
    "#train : 학습에 사용될, val : 검증에 사용될\n",
    "\n",
    "X_train.shape, X_val.shape, y_train.shape, y_val.shape"
   ]
  },
  {
   "cell_type": "markdown",
   "id": "757a4692-e096-40da-8540-43eaca67953f",
   "metadata": {},
   "source": [
    "#--------------------\n",
    "# 머신러닝 학습 및 평가\n",
    "#--------------------"
   ]
  },
  {
   "cell_type": "markdown",
   "id": "32fc4e78-eeb9-43cc-914e-f9a4e829c986",
   "metadata": {},
   "source": [
    "## 머신러닝 학습"
   ]
  },
  {
   "cell_type": "code",
   "execution_count": null,
   "id": "945ca326-68d3-4d5a-86a1-b7ffa51b28d2",
   "metadata": {},
   "outputs": [],
   "source": [
    "# 1. 랜덤포레스트 학습\n",
    "\n",
    "# 범주형 데이터를 자료형만 바꿨을 때는 문제가 발생할 예정\n",
    "from sklearn.ensemble import RandomForestClassifier\n",
    "rf = RandomForestClassifier(random_state=0) # 난수값고정 in->out 고정값\n",
    "rf.fit(X_train, y_train) # 모델 학습\n",
    "pred_rf=rf.predict_proba(X_val)\n",
    "pred_rf"
   ]
  },
  {
   "cell_type": "code",
   "execution_count": null,
   "id": "f0146598-eae1-4eb5-9e41-7f8959f39ecd",
   "metadata": {},
   "outputs": [],
   "source": [
    "#2. LIGHTGBM 학습\n",
    "import lightgbm as lgb\n",
    "lgbmc = lgb.LGBMClassifier(random_state=0, verbose=-1)\n",
    "lgbmc.fit(X_train, y_train)\n",
    "pred=lgbmc.predict(X_val) # 예측 y값\n",
    "pred # 결과 : 예측값 도출\n",
    "pred_proba = lgbmc.predict_proba(X_val) # 예측 확률값"
   ]
  },
  {
   "cell_type": "markdown",
   "id": "d1b429ee-25b1-48fe-a227-5f416238f45b",
   "metadata": {},
   "source": [
    "## 평가"
   ]
  },
  {
   "cell_type": "code",
   "execution_count": null,
   "id": "40951d9e-38f3-483c-87de-a20f37a50461",
   "metadata": {},
   "outputs": [],
   "source": [
    "# 정확도와 F1_SCORE 확인\n",
    "from sklearn.metrics import accuracy_score\n",
    "from sklearn.metrics import f1_score\n",
    "from sklearn.metrics import roc_auc_score\n",
    "\n",
    "# roc_auc = roc_auc_score(y_val, pred_proba[:,1]) # 예측 확률값 [오답예측확률, 정답예측확률]\n",
    "accuracy = accuracy_score(y_val, pred) # pred 예측 y값\n",
    "f1 = f1_score(y_val,pred,average='macro') # pred 예측 y값 (클래스별(1,2,3 정답값) 성능을 동등하게 반영)\n",
    "\n",
    "#출력\n",
    "# print('roc_auc: ', roc_auc)\n",
    "print('accuracy: ', accuracy)\n",
    "print('f1: ', f1)"
   ]
  },
  {
   "cell_type": "markdown",
   "id": "52c791d2-b193-4f8d-a97e-1c12e861e1c8",
   "metadata": {},
   "source": [
    "#-------------------------\n",
    "# 예측 파일 제출(.csv)\n",
    "#-------------------------"
   ]
  },
  {
   "cell_type": "code",
   "execution_count": null,
   "id": "553bc3b6-311e-4852-8279-6c8a68e11fd9",
   "metadata": {},
   "outputs": [],
   "source": [
    "pred_submit=lgbmc.predict(test)\n",
    "pred_submit"
   ]
  },
  {
   "cell_type": "code",
   "execution_count": null,
   "id": "2778ae15-c324-4363-8e36-4cd507a3c446",
   "metadata": {},
   "outputs": [],
   "source": [
    "submit_csv = pd.DataFrame({'pred':pred_submit})\n",
    "submit_csv.to_csv(\"result.csv\",index=False)\n"
   ]
  },
  {
   "cell_type": "code",
   "execution_count": null,
   "id": "e5fa5a6e-84c6-439b-946d-cd3925e5afff",
   "metadata": {},
   "outputs": [],
   "source": []
  }
 ],
 "metadata": {
  "kernelspec": {
   "display_name": "Python 3 (ipykernel)",
   "language": "python",
   "name": "python3"
  },
  "language_info": {
   "codemirror_mode": {
    "name": "ipython",
    "version": 3
   },
   "file_extension": ".py",
   "mimetype": "text/x-python",
   "name": "python",
   "nbconvert_exporter": "python",
   "pygments_lexer": "ipython3",
   "version": "3.11.6"
  }
 },
 "nbformat": 4,
 "nbformat_minor": 5
}
