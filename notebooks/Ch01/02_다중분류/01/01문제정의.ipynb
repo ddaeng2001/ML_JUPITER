{
 "cells": [
  {
   "cell_type": "markdown",
   "id": "4caface4-c085-47b3-b796-9fca084ad927",
   "metadata": {},
   "source": [
    "## 문제정의\n",
    "### 고객별 신용등급 분류\n",
    "### Column : Credit_Score - 타깃 변수(y), 신용등급(1=Bad, 2=Standard, 3=Good)\n",
    "### 타깃(라벨, y값) : Credit_Score\n",
    "\n"
   ]
  },
  {
   "cell_type": "code",
   "execution_count": null,
   "id": "3bf86d53-78aa-4e00-8ed9-e2e35a1faa70",
   "metadata": {},
   "outputs": [],
   "source": []
  },
  {
   "cell_type": "code",
   "execution_count": null,
   "id": "075ef8f8-a533-4495-b07c-0c437ae8711b",
   "metadata": {},
   "outputs": [],
   "source": []
  }
 ],
 "metadata": {
  "kernelspec": {
   "display_name": "Python 3 (ipykernel)",
   "language": "python",
   "name": "python3"
  },
  "language_info": {
   "codemirror_mode": {
    "name": "ipython",
    "version": 3
   },
   "file_extension": ".py",
   "mimetype": "text/x-python",
   "name": "python",
   "nbconvert_exporter": "python",
   "pygments_lexer": "ipython3",
   "version": "3.11.6"
  }
 },
 "nbformat": 4,
 "nbformat_minor": 5
}
