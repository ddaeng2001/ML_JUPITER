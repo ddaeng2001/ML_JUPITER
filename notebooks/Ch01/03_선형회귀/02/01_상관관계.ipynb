{
 "cells": [
  {
   "cell_type": "code",
   "execution_count": null,
   "id": "87841c54-49f7-4782-99fd-3fc9fae4dbba",
   "metadata": {},
   "outputs": [],
   "source": []
  },
  {
   "cell_type": "markdown",
   "id": "c2e3e2ca-ee95-4b98-ad9e-5ee830089781",
   "metadata": {},
   "source": [
    "# --------------------\n",
    "# 상관관계(수치형)\n",
    "# --------------------"
   ]
  },
  {
   "cell_type": "code",
   "execution_count": 6,
   "id": "9ee47ec0-c276-4bf2-bc83-602d928145bd",
   "metadata": {},
   "outputs": [
    {
     "data": {
      "text/html": [
       "<div>\n",
       "<style scoped>\n",
       "    .dataframe tbody tr th:only-of-type {\n",
       "        vertical-align: middle;\n",
       "    }\n",
       "\n",
       "    .dataframe tbody tr th {\n",
       "        vertical-align: top;\n",
       "    }\n",
       "\n",
       "    .dataframe thead th {\n",
       "        text-align: right;\n",
       "    }\n",
       "</style>\n",
       "<table border=\"1\" class=\"dataframe\">\n",
       "  <thead>\n",
       "    <tr style=\"text-align: right;\">\n",
       "      <th></th>\n",
       "      <th>키</th>\n",
       "      <th>몸무게</th>\n",
       "    </tr>\n",
       "  </thead>\n",
       "  <tbody>\n",
       "    <tr>\n",
       "      <th>0</th>\n",
       "      <td>150</td>\n",
       "      <td>50</td>\n",
       "    </tr>\n",
       "    <tr>\n",
       "      <th>1</th>\n",
       "      <td>160</td>\n",
       "      <td>60</td>\n",
       "    </tr>\n",
       "    <tr>\n",
       "      <th>2</th>\n",
       "      <td>170</td>\n",
       "      <td>70</td>\n",
       "    </tr>\n",
       "    <tr>\n",
       "      <th>3</th>\n",
       "      <td>175</td>\n",
       "      <td>80</td>\n",
       "    </tr>\n",
       "    <tr>\n",
       "      <th>4</th>\n",
       "      <td>180</td>\n",
       "      <td>90</td>\n",
       "    </tr>\n",
       "  </tbody>\n",
       "</table>\n",
       "</div>"
      ],
      "text/plain": [
       "     키  몸무게\n",
       "0  150   50\n",
       "1  160   60\n",
       "2  170   70\n",
       "3  175   80\n",
       "4  180   90"
      ]
     },
     "execution_count": 6,
     "metadata": {},
     "output_type": "execute_result"
    }
   ],
   "source": [
    "import pandas as pd\n",
    "\n",
    "data = {\n",
    "    \"키\":[150,160,170,175,180],\n",
    "    \"몸무게\":[50,60,70,80,90]\n",
    "}\n",
    "\n",
    "df = pd.DataFrame(data)\n",
    "df"
   ]
  },
  {
   "cell_type": "code",
   "execution_count": 7,
   "id": "b759dd95-85aa-460d-a3f9-61e88d9f892b",
   "metadata": {},
   "outputs": [
    {
     "name": "stdout",
     "output_type": "stream",
     "text": [
      "            키       몸무게\n",
      "키    1.000000  0.984798\n",
      "몸무게  0.984798  1.000000\n"
     ]
    }
   ],
   "source": [
    "# 상관계수 확인(기본 : 피어슨 상관계수 -1 ~ 1)\n",
    "# +1에 가까울 수록 양의 상관관계\n",
    "# -1에 가까울 수록 음의 상관관계\n",
    "# 0에 가까울 수록 상관이 거의없음 == 독립적\n",
    "# 수치형 컬럼 확인방법\n",
    "\n",
    "correlation=df.corr() \n",
    "print(correlation) \n",
    "# 결과값 : 키가 크면 클수록 몸무게 값이 증가함을 알 수 있음~"
   ]
  },
  {
   "cell_type": "code",
   "execution_count": 8,
   "id": "f0e39e69-04e3-4d7b-b2c2-7d6697cb03b7",
   "metadata": {},
   "outputs": [
    {
     "name": "stdout",
     "output_type": "stream",
     "text": [
      "            키       몸무게\n",
      "키    1.000000  0.984798\n",
      "몸무게  0.984798  1.000000\n",
      "       키  몸무게\n",
      "키    1.0  1.0\n",
      "몸무게  1.0  1.0\n",
      "       키  몸무게\n",
      "키    1.0  1.0\n",
      "몸무게  1.0  1.0\n"
     ]
    }
   ],
   "source": [
    "# 피어슨 상관계수(기본) - 선형관계가 얼마나 강한 지 확인가능 ex>키가 크면 클수록 몸무게가 커지냐?\n",
    "                        # 곡선관계 확인은 힘듦 \n",
    "print(df.corr())\n",
    "\n",
    "\n",
    "# 스피어맨 상관계수 - 순위(등수)를 기준으로 비교하는 방법 / 곡선관계도 확인 가능\n",
    "print(df.corr(method='spearman'))\n",
    "\n",
    "\n",
    "# 켄달타우 상관계수 - 순위(등수)를 기준으로 비교하는 방법(순서쌍을 만들어서 비교) \n",
    "                    # 두 변수의 순위가 일치하는지, 불일치하는지를 기반으로 상관관계 측정\n",
    "                    # / 곡선관계도 확인 가능\n",
    "print(df.corr(method='kendall'))"
   ]
  },
  {
   "cell_type": "code",
   "execution_count": 9,
   "id": "faab80a7-49c7-46a0-9b8a-4498699da1d1",
   "metadata": {},
   "outputs": [
    {
     "name": "stdout",
     "output_type": "stream",
     "text": [
      "PearsonRResult(statistic=0.984798246447919, pvalue=0.002244820403552178)\n",
      "SignificanceResult(statistic=0.9999999999999999, pvalue=1.4042654220543672e-24)\n",
      "SignificanceResult(statistic=0.9999999999999999, pvalue=0.016666666666666666)\n"
     ]
    }
   ],
   "source": [
    "from scipy import stats\n",
    "# 피어슨 상관계수와 p-value 계산\n",
    "print(stats.pearsonr(df['몸무게'], df['키']))\n",
    "\n",
    "# 스피어맨 상관계수와 p-value 계산\n",
    "print(stats.spearmanr(df['몸무게'], df['키']))\n",
    "\n",
    "# 켄달타우 상관계수와 p-value 계산\n",
    "print(stats.kendalltau(df['몸무게'], df['키']))\n",
    "\n",
    "# statistic : 상관계수\n",
    "# pValue : 유의확률(관련이 있을 확률), 낮을수록 좋다"
   ]
  },
  {
   "cell_type": "code",
   "execution_count": null,
   "id": "6b9aefc3-6886-4fee-b1f3-f43b09ec26f8",
   "metadata": {},
   "outputs": [],
   "source": []
  }
 ],
 "metadata": {
  "kernelspec": {
   "display_name": "Python 3 (ipykernel)",
   "language": "python",
   "name": "python3"
  },
  "language_info": {
   "codemirror_mode": {
    "name": "ipython",
    "version": 3
   },
   "file_extension": ".py",
   "mimetype": "text/x-python",
   "name": "python",
   "nbconvert_exporter": "python",
   "pygments_lexer": "ipython3",
   "version": "3.11.6"
  }
 },
 "nbformat": 4,
 "nbformat_minor": 5
}
