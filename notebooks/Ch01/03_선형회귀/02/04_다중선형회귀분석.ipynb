{
 "cells": [
  {
   "cell_type": "code",
   "execution_count": 1,
   "id": "c279138a-8876-470a-a8a3-a7620570e8bd",
   "metadata": {},
   "outputs": [
    {
     "name": "stdout",
     "output_type": "stream",
     "text": [
      "   매출액  광고비  직원수\n",
      "0  300   70   15\n",
      "1  320   75   16\n",
      "2  250   30   14\n"
     ]
    }
   ],
   "source": [
    "import pandas as pd\n",
    "data = {\n",
    "    '매출액': [300, 320, 250, 360, 315, 328, 310, 335, 326, 280,\n",
    "            290, 300, 315, 328, 310, 335, 300, 400, 500, 600],\n",
    "    '광고비': [70, 75, 30, 80, 72, 77, 70, 82, 70, 80,\n",
    "            68, 90, 72, 77, 70, 82, 40, 20, 75, 80],\n",
    "    '직원수': [15, 16, 14, 20, 19, 17, 16, 19, 15, 20,\n",
    "            14, 5, 16, 17, 16, 14, 30, 40, 10, 50]\n",
    "    }\n",
    "df = pd.DataFrame(data)\n",
    "print(df.head(3))"
   ]
  },
  {
   "cell_type": "code",
   "execution_count": 2,
   "id": "eef59939-463d-46d8-bf64-4d44e058d562",
   "metadata": {},
   "outputs": [
    {
     "name": "stdout",
     "output_type": "stream",
     "text": [
      "                            OLS Regression Results                            \n",
      "==============================================================================\n",
      "Dep. Variable:                    매출액   R-squared:                       0.512\n",
      "Model:                            OLS   Adj. R-squared:                  0.454\n",
      "Method:                 Least Squares   F-statistic:                     8.907\n",
      "Date:                Fri, 10 Oct 2025   Prob (F-statistic):            0.00226\n",
      "Time:                        02:39:28   Log-Likelihood:                -108.22\n",
      "No. Observations:                  20   AIC:                             222.4\n",
      "Df Residuals:                      17   BIC:                             225.4\n",
      "Df Model:                           2                                         \n",
      "Covariance Type:            nonrobust                                         \n",
      "==============================================================================\n",
      "                 coef    std err          t      P>|t|      [0.025      0.975]\n",
      "------------------------------------------------------------------------------\n",
      "Intercept    101.0239     71.716      1.409      0.177     -50.284     252.331\n",
      "광고비            1.8194      0.807      2.255      0.038       0.117       3.522\n",
      "직원수            5.9288      1.430      4.147      0.001       2.912       8.945\n",
      "==============================================================================\n",
      "Omnibus:                       30.534   Durbin-Watson:                   1.354\n",
      "Prob(Omnibus):                  0.000   Jarque-Bera (JB):               64.655\n",
      "Skew:                           2.444   Prob(JB):                     9.13e-15\n",
      "Kurtosis:                      10.327   Cond. No.                         401.\n",
      "==============================================================================\n",
      "\n",
      "Notes:\n",
      "[1] Standard Errors assume that the covariance matrix of the errors is correctly specified.\n"
     ]
    }
   ],
   "source": [
    "from statsmodels.formula.api import ols\n",
    "model = ols('매출액 ~ 광고비 + 직원수', data=df).fit()\n",
    "print(model.summary())"
   ]
  },
  {
   "cell_type": "code",
   "execution_count": null,
   "id": "e74dfdd1-2d09-487e-90b4-3b48fb9e75c0",
   "metadata": {},
   "outputs": [],
   "source": [
    "# ======================== OLS Regression Results ===========================   # OLS(최소제곱법) 회귀분석 결과 시작\n",
    "# Dep. Variable:                    매출액                                   # 종속변수(예측 대상)는 ‘매출액’\n",
    "# R-squared:                         0.512                                   # 결정계수: 모델이 데이터를 51.2% 설명 (설명력 중간 수준)\n",
    "# Model:                              OLS                                   # 회귀모델 종류: OLS(Ordinary Least Squares, 최소제곱법)\n",
    "# Adj. R-squared:                    0.454                                   # 보정된 결정계수: 변수 수를 고려한 설명력 (약 45.4%)\n",
    "# Method:                   Least Squares                                   # 방법: 잔차 제곱합을 최소화하는 방식\n",
    "# F-statistic:                       8.907                                   # F값: 모델 전체 유의성 검정 통계량\n",
    "# Date:                  Mon, 17 Mar 2025                                   # 분석 실행 날짜\n",
    "# Prob (F-statistic):              0.00226                                   # F검정의 p값 < 0.05 → 모델 전체가 통계적으로 유의함\n",
    "# Time:                          03:15:38                                   # 분석 실행 시각\n",
    "# Log-Likelihood:                  -108.22                                   # 로그우도값: 모델의 적합도 지표 (절대값 작을수록 적합)\n",
    "# No. Observations:                    20                                   # 데이터 개수: 20개\n",
    "# AIC:                               222.4                                   # AIC: 모델 품질 지표 (낮을수록 좋은 모델)\n",
    "# Df Residuals:                        17                                   # 잔차 자유도 = 관측치 - 회귀계수 수\n",
    "# BIC:                               225.4                                   # BIC: 베이지안 정보 기준 (낮을수록 좋음)\n",
    "# Df Model:                             2                                   # 독립변수(설명변수) 개수: 2개 (광고비, 직원수)\n",
    "# Covariance Type:              nonrobust                                   # 공분산 계산 방식: 기본값(등분산 가정)\n",
    "\n",
    "# =================== 회귀계수 요약 (Regression Coefficients) =================\n",
    "#                   coef    std err          t      P>|t|      [0.025      0.975]   # 계수, 표준오차, t값, p값, 신뢰구간\n",
    "# Intercept      101.0239     71.716      1.409      0.177     -50.284     252.331  # 절편: 광고비=0, 직원수=0일 때 기본 매출 약 101.0 (유의하지 않음)\n",
    "# 광고비            1.8194      0.807      2.255      0.038       0.117       3.522  # 광고비 1단위 증가 시 매출액 약 1.82 증가 (유의함, p<0.05)\n",
    "# 직원수            5.9288      1.430      4.147      0.001       2.912       8.945  # 직원 1명 증가 시 매출액 약 5.93 증가 (매우 유의함, p<0.01)\n",
    "\n",
    "# ======================= 잔차 검정 (Residual Diagnostics) =====================\n",
    "# Omnibus:                       30.534                                   # 잔차 정규성 검정 통계량 (값이 큼 → 비정규 가능성 있음)\n",
    "# Durbin-Watson:                   1.354                                   # 잔차 자기상관 검정 (2에 가까울수록 좋음, 1.35 → 약한 자기상관 있음)\n",
    "# Prob(Omnibus):                  0.000                                   # p값<0.05 → 잔차가 정규분포 아님\n",
    "# Jarque-Bera (JB):               64.655                                   # 또 다른 정규성 검정 (값 큼 → 비정규 가능성 높음)\n",
    "# Skew:                            2.444                                   # 잔차가 오른쪽으로 치우침(양의 왜도)\n",
    "# Prob(JB):                     9.13e-15                                   # p값 매우 작음 → 정규성 가정 위배\n",
    "# Kurtosis:                       10.327                                   # 잔차의 첨도(정규분포=3보다 큼 → 뾰족함, 이상치 가능)\n",
    "# Cond. No.:                         401.                                  # 조건수: 다중공선성(변수 간 상관성) 약간 존재 가능성\n",
    "\n",
    "# ============================ Notes ==========================================\n",
    "# [1] Standard Errors assume that the covariance matrix of the errors is correctly specified.   # 표준오차 계산은 오차항이 독립적이고 분산이 일정하다는 가정하에 수행됨\n",
    " "
   ]
  },
  {
   "cell_type": "code",
   "execution_count": 3,
   "id": "80dfbbad-7087-4740-a81f-4a30598ff699",
   "metadata": {},
   "outputs": [
    {
     "data": {
      "text/plain": [
       "0.5116964327009041"
      ]
     },
     "execution_count": 3,
     "metadata": {},
     "output_type": "execute_result"
    }
   ],
   "source": [
    "# 결정계수값 확인\n",
    "# : 모델이 데이터를 얼마나 잘 설명하는지를 나타내는 점수\n",
    "model.rsquared"
   ]
  },
  {
   "cell_type": "code",
   "execution_count": 5,
   "id": "6ac83717-7e14-4528-b5f5-eb249afa8432",
   "metadata": {},
   "outputs": [
    {
     "name": "stdout",
     "output_type": "stream",
     "text": [
      "기울기 :  1.8194269419344642\n",
      "절편 :  101.02387228241548\n"
     ]
    }
   ],
   "source": [
    "# 기울기 /절편 확인\n",
    "print(\"광고비 기울기 : \", model.params['광고비']) # 베타1 \n",
    "print(\"직원수 기울기:\", model.params['직원수']) # 베타1\n",
    "print(\"절편 : \", model.params['Intercept']) # 베타0 "
   ]
  },
  {
   "cell_type": "code",
   "execution_count": 6,
   "id": "e582e010-011a-4308-9360-dd0689e14f71",
   "metadata": {},
   "outputs": [],
   "source": [
    "# 매출액(y) - x 상관계수 / pvalue 확인"
   ]
  },
  {
   "cell_type": "code",
   "execution_count": 7,
   "id": "dd07e8f6-8b87-40e7-8a6a-0382e6a156c2",
   "metadata": {},
   "outputs": [
    {
     "name": "stdout",
     "output_type": "stream",
     "text": [
      "PearsonRResult(statistic=0.1331698173704034, pvalue=0.5756778801904271)\n"
     ]
    }
   ],
   "source": [
    "from scipy import stats\n",
    "print(stats.pearsonr(df['광고비'], df['매출액']))\n",
    "#pvalue < 0.05 - 상관관계높다 == 유의하다\n",
    "#pvalue >=0.05 - 상관관계 낮다 == 유의하지 않다"
   ]
  },
  {
   "cell_type": "code",
   "execution_count": 8,
   "id": "bf8fbacd-e203-4411-acf7-e1b19c1e86f0",
   "metadata": {},
   "outputs": [
    {
     "data": {
      "text/plain": [
       "Intercept    101.023872\n",
       "광고비            1.819427\n",
       "직원수            5.928756\n",
       "dtype: float64"
      ]
     },
     "execution_count": 8,
     "metadata": {},
     "output_type": "execute_result"
    }
   ],
   "source": [
    "# 회귀계수확인\n",
    "model.params"
   ]
  },
  {
   "cell_type": "code",
   "execution_count": 9,
   "id": "eeeb7931-30c0-4d1e-be08-c31d3de2af0c",
   "metadata": {},
   "outputs": [
    {
     "name": "stdout",
     "output_type": "stream",
     "text": [
      "pvalue: 0.03764350647695994\n"
     ]
    }
   ],
   "source": [
    "print(\"pvalue:\", model.pvalues['광고비'])"
   ]
  },
  {
   "cell_type": "code",
   "execution_count": 10,
   "id": "9fac32a9-c899-4a7b-b8b5-14b369a4a125",
   "metadata": {},
   "outputs": [
    {
     "name": "stdout",
     "output_type": "stream",
     "text": [
      "새로운 데이터의 매출액: 0    310.57033\n",
      "dtype: float64\n"
     ]
    }
   ],
   "source": [
    "# 광고비, 직원수 -> 매출액 예측\n",
    "new_data = pd.DataFrame({\"광고비\" : [50], \"직원수\": [20]})\n",
    "result = model.predict(new_data)\n",
    "print(\"새로운 데이터의 매출액:\", result)"
   ]
  },
  {
   "cell_type": "code",
   "execution_count": null,
   "id": "e8c2d8fa-859a-488e-b81f-a06db09f0b02",
   "metadata": {},
   "outputs": [],
   "source": []
  },
  {
   "cell_type": "code",
   "execution_count": 11,
   "id": "60589096-089d-4e52-9e0b-8e104fc5637c",
   "metadata": {},
   "outputs": [
    {
     "name": "stdout",
     "output_type": "stream",
     "text": [
      "잔차 제곱합: 58686.178271561075\n"
     ]
    }
   ],
   "source": [
    "df['잔차'] = df['매출액'] - model.predict(df)\n",
    "print(\"잔차 제곱합:\", sum(df['잔차']**2))"
   ]
  },
  {
   "cell_type": "code",
   "execution_count": 13,
   "id": "13cb4824-a1fe-4bab-9785-8dc56bf40509",
   "metadata": {},
   "outputs": [
    {
     "name": "stdout",
     "output_type": "stream",
     "text": [
      "58686.178271561075\n"
     ]
    }
   ],
   "source": [
    "print(sum(model.resid**2))"
   ]
  },
  {
   "cell_type": "code",
   "execution_count": 15,
   "id": "ac3e9f56-d2b2-4877-9919-9425ba6cfc4d",
   "metadata": {},
   "outputs": [
    {
     "data": {
      "text/plain": [
       "2934.3089135780533"
      ]
     },
     "execution_count": 15,
     "metadata": {},
     "output_type": "execute_result"
    }
   ],
   "source": [
    "MSE = (df['잔차']**2).mean()\n",
    "MSE"
   ]
  },
  {
   "cell_type": "code",
   "execution_count": 16,
   "id": "8d732de3-399b-4965-b439-c2899d0b8581",
   "metadata": {},
   "outputs": [
    {
     "name": "stdout",
     "output_type": "stream",
     "text": [
      "95% 신뢰구간:\n",
      "                    0           1\n",
      "Intercept -50.283684  252.331429\n",
      "광고비         0.116785    3.522069\n",
      "직원수         2.912406    8.945105\n"
     ]
    }
   ],
   "source": [
    "print(\"95% 신뢰구간:\\n\", model.conf_int(alpha=0.05))"
   ]
  },
  {
   "cell_type": "code",
   "execution_count": 17,
   "id": "80363579-ec1b-4141-8e21-9be1cbd15c0f",
   "metadata": {},
   "outputs": [
    {
     "name": "stdout",
     "output_type": "stream",
     "text": [
      "예측값의 신뢰구간과 예측구간:\n",
      "          mean    mean_se  mean_ci_lower  mean_ci_upper  obs_ci_lower  \\\n",
      "0  313.330707  22.502058     265.855514       360.8059     180.58875   \n",
      "\n",
      "   obs_ci_upper  \n",
      "0    446.072663  \n"
     ]
    }
   ],
   "source": [
    "new_data = pd.DataFrame({\"광고비\": [45], \"직원수\": [22]})\n",
    "pred = model.get_prediction(new_data)\n",
    "result = pred.summary_frame(alpha=0.05)\n",
    "print(\"예측값의 신뢰구간과 예측구간:\\n\", result)"
   ]
  },
  {
   "cell_type": "code",
   "execution_count": null,
   "id": "684f6514-ee8e-4faf-b5fa-278518cb06a9",
   "metadata": {},
   "outputs": [],
   "source": []
  }
 ],
 "metadata": {
  "kernelspec": {
   "display_name": "Python 3 (ipykernel)",
   "language": "python",
   "name": "python3"
  },
  "language_info": {
   "codemirror_mode": {
    "name": "ipython",
    "version": 3
   },
   "file_extension": ".py",
   "mimetype": "text/x-python",
   "name": "python",
   "nbconvert_exporter": "python",
   "pygments_lexer": "ipython3",
   "version": "3.11.6"
  }
 },
 "nbformat": 4,
 "nbformat_minor": 5
}
